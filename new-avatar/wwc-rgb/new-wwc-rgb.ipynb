{
 "cells": [
  {
   "cell_type": "code",
   "execution_count": 16,
   "metadata": {},
   "outputs": [
    {
     "name": "stdout",
     "output_type": "stream",
     "text": [
      "Requirement already satisfied: timm==0.4.12 in /home/srikanth/graspenv/lib/python3.10/site-packages (0.4.12)\n",
      "Requirement already satisfied: torchvision in /home/srikanth/graspenv/lib/python3.10/site-packages (from timm==0.4.12) (0.15.1+cu118)\n",
      "Requirement already satisfied: torch>=1.4 in /home/srikanth/graspenv/lib/python3.10/site-packages (from timm==0.4.12) (2.0.0+cu118)\n",
      "Requirement already satisfied: triton==2.0.0 in /home/srikanth/graspenv/lib/python3.10/site-packages (from torch>=1.4->timm==0.4.12) (2.0.0)\n",
      "Requirement already satisfied: typing-extensions in /home/srikanth/graspenv/lib/python3.10/site-packages (from torch>=1.4->timm==0.4.12) (4.9.0)\n",
      "Requirement already satisfied: networkx in /home/srikanth/graspenv/lib/python3.10/site-packages (from torch>=1.4->timm==0.4.12) (3.0)\n",
      "Requirement already satisfied: jinja2 in /home/srikanth/graspenv/lib/python3.10/site-packages (from torch>=1.4->timm==0.4.12) (3.1.2)\n",
      "Requirement already satisfied: filelock in /home/srikanth/graspenv/lib/python3.10/site-packages (from torch>=1.4->timm==0.4.12) (3.9.0)\n",
      "Requirement already satisfied: sympy in /home/srikanth/graspenv/lib/python3.10/site-packages (from torch>=1.4->timm==0.4.12) (1.12)\n",
      "Requirement already satisfied: cmake in /home/srikanth/graspenv/lib/python3.10/site-packages (from triton==2.0.0->torch>=1.4->timm==0.4.12) (3.25.0)\n",
      "Requirement already satisfied: lit in /home/srikanth/graspenv/lib/python3.10/site-packages (from triton==2.0.0->torch>=1.4->timm==0.4.12) (15.0.7)\n",
      "Requirement already satisfied: requests in /home/srikanth/graspenv/lib/python3.10/site-packages (from torchvision->timm==0.4.12) (2.31.0)\n",
      "Requirement already satisfied: numpy in /home/srikanth/graspenv/lib/python3.10/site-packages (from torchvision->timm==0.4.12) (1.23.5)\n",
      "Requirement already satisfied: pillow!=8.3.*,>=5.3.0 in /home/srikanth/graspenv/lib/python3.10/site-packages (from torchvision->timm==0.4.12) (9.3.0)\n",
      "Requirement already satisfied: MarkupSafe>=2.0 in /home/srikanth/graspenv/lib/python3.10/site-packages (from jinja2->torch>=1.4->timm==0.4.12) (2.1.4)\n",
      "Requirement already satisfied: certifi>=2017.4.17 in /home/srikanth/graspenv/lib/python3.10/site-packages (from requests->torchvision->timm==0.4.12) (2023.11.17)\n",
      "Requirement already satisfied: urllib3<3,>=1.21.1 in /home/srikanth/graspenv/lib/python3.10/site-packages (from requests->torchvision->timm==0.4.12) (2.1.0)\n",
      "Requirement already satisfied: idna<4,>=2.5 in /home/srikanth/graspenv/lib/python3.10/site-packages (from requests->torchvision->timm==0.4.12) (3.6)\n",
      "Requirement already satisfied: charset-normalizer<4,>=2 in /home/srikanth/graspenv/lib/python3.10/site-packages (from requests->torchvision->timm==0.4.12) (3.3.2)\n",
      "Requirement already satisfied: mpmath>=0.19 in /home/srikanth/graspenv/lib/python3.10/site-packages (from sympy->torch>=1.4->timm==0.4.12) (1.3.0)\n",
      "Note: you may need to restart the kernel to use updated packages.\n"
     ]
    }
   ],
   "source": [
    "%pip install timm==0.4.12"
   ]
  },
  {
   "cell_type": "code",
   "execution_count": 17,
   "metadata": {},
   "outputs": [],
   "source": [
    "import torch\n",
    "from torch import nn\n",
    "from einops import rearrange\n",
    "\n",
    "from torchvision import transforms\n",
    "from torch.utils.data import Dataset, DataLoader\n",
    "from torch.cuda.amp import GradScaler,autocast\n",
    "import torch.optim as optim\n",
    "\n",
    "import sys\n",
    "import os\n",
    "import time\n",
    "import numpy as np\n",
    "import pandas as pd\n",
    "from PIL import Image\n",
    "from sklearn.utils import shuffle\n",
    "from sklearn.preprocessing import LabelEncoder , OneHotEncoder\n",
    "from sklearn.model_selection import train_test_split"
   ]
  },
  {
   "cell_type": "code",
   "execution_count": 18,
   "metadata": {},
   "outputs": [
    {
     "data": {
      "text/plain": [
       "'cuda'"
      ]
     },
     "execution_count": 18,
     "metadata": {},
     "output_type": "execute_result"
    }
   ],
   "source": [
    "device = \"cuda\" if torch.cuda.is_available() else \"cpu\"\n",
    "device"
   ]
  },
  {
   "cell_type": "code",
   "execution_count": 19,
   "metadata": {},
   "outputs": [
    {
     "data": {
      "text/plain": [
       "['Palmar wrist pronated', 'Pinch', 'Tripod', 'Palmar wrist neutral']"
      ]
     },
     "execution_count": 19,
     "metadata": {},
     "output_type": "execute_result"
    }
   ],
   "source": [
    "root_path = r\"/home/srikanth/Interns/RGB_images\"\n",
    "dataset_path = os.listdir(root_path)\n",
    "dataset_path"
   ]
  },
  {
   "cell_type": "code",
   "execution_count": 20,
   "metadata": {},
   "outputs": [],
   "source": [
    "class_labels = []\n",
    "\n",
    "\n",
    "for item in dataset_path:\n",
    "    #print(item)\n",
    "    all_objects = os.listdir(root_path + '/' +item)\n",
    "    for top_object in all_objects:\n",
    "        sub_objects = os.listdir(root_path  + '/' +item + '/' +top_object)\n",
    "        for sub_object in sub_objects:\n",
    "            images = os.listdir(root_path + '/' +item + '/' +top_object + '/' +sub_object)\n",
    "            for image in images:\n",
    "                class_labels.append((item,str(root_path + '/' +item + '/' +top_object + '/' +sub_object +'/' +image)))\n",
    "# class_labels\n",
    "df = pd.DataFrame(data=class_labels, columns=['labels', 'image'])\n",
    "# df\n",
    "y=list(df['labels'].values)\n",
    "# y\n",
    "image=df['image']\n",
    "# image"
   ]
  },
  {
   "cell_type": "code",
   "execution_count": 21,
   "metadata": {},
   "outputs": [],
   "source": [
    "images, y= shuffle(image,y, random_state=1)\n",
    "train_x, test_x, train_y, test_y = train_test_split(images, y, test_size=0.4, random_state=415)\n",
    "test_x = test_x.reset_index(drop=True)\n",
    "train_x = train_x.reset_index(drop=True)\n",
    "test_x, val_x, test_y, val_y = train_test_split(test_x,test_y, test_size=0.5, random_state=415)\n",
    "test_x = test_x.reset_index(drop=True)\n",
    "#train_y=list(train_y)\n",
    "train_df=pd.DataFrame({'filepaths':train_x,'labels':train_y})\n",
    "valid_df=pd.DataFrame({'filepaths':val_x,'labels':val_y})\n",
    "test_df=pd.DataFrame({'filepaths':test_x,'labels':test_y})"
   ]
  },
  {
   "cell_type": "code",
   "execution_count": 22,
   "metadata": {},
   "outputs": [],
   "source": [
    "classes=list(train_df['labels'].unique())\n",
    "class_count=len(classes)"
   ]
  },
  {
   "cell_type": "code",
   "execution_count": 23,
   "metadata": {},
   "outputs": [
    {
     "name": "stdout",
     "output_type": "stream",
     "text": [
      "{'Palmar wrist pronated': 0, 'Pinch': 1, 'Tripod': 2, 'Palmar wrist neutral': 3}\n",
      "{0: 'Palmar wrist pronated', 1: 'Pinch', 2: 'Tripod', 3: 'Palmar wrist neutral'}\n"
     ]
    }
   ],
   "source": [
    "labels = df['labels'].unique()\n",
    "num_labels = len(labels)\n",
    "label2id, id2label = dict(), dict()\n",
    "for i, label in enumerate(labels):\n",
    "    label2id[label] = i\n",
    "    id2label[i] = label\n",
    "\n",
    "print(label2id)\n",
    "print(id2label)"
   ]
  },
  {
   "cell_type": "code",
   "execution_count": 24,
   "metadata": {},
   "outputs": [],
   "source": [
    "class ImageDataset():\n",
    "    def __init__(self, df, transform=None):\n",
    "        self.df = df\n",
    "        self.transform = transforms.Compose([\n",
    "        transforms.ToTensor(),\n",
    "        transforms.Resize((64, 64), antialias=True),\n",
    "        transforms.Normalize( mean= [0.51158103, 0.47950193, 0.46153474],\n",
    "                             std=[0.22355489, 0.22948845, 0.24873442])\n",
    "        ])\n",
    "        self.label_mapping = label2id\n",
    "    # class ImageDataset(Dataset):\n",
    "    # def __init__(self, df, label2id, input_size=224, transform=None):\n",
    "    #     self.df = df\n",
    "    #     self.label_mapping = label2id\n",
    "    #     resize_value = self.calculate_resize_value(input_size)\n",
    "    #     self.transform = transform if transform else transforms.Compose([\n",
    "    #         transforms.Resize((resize_value, resize_value), antialias=True),\n",
    "    #         transforms.CenterCrop(input_size),\n",
    "    #         transforms.ToTensor(),\n",
    "    #         transforms.Normalize(mean=[0.51158103, 0.47950193, 0.46153474],\n",
    "    #                              std=[0.22355489, 0.22948845, 0.24873442])\n",
    "    #     ])\n",
    "\n",
    "    # def calculate_resize_value(self, input_size):\n",
    "    #     return int((256 / 224) * input_size)\n",
    "\n",
    "    def __len__(self):\n",
    "        return len(self.df)\n",
    "\n",
    "    def get_images(self, idx):\n",
    "        return self.transform(Image.open(self.df.iloc[idx]['filepaths']))\n",
    "\n",
    "    def get_labels(self, idx):\n",
    "        label = self.df.iloc[idx]['labels']\n",
    "        return torch.tensor(self.label_mapping[label], dtype=torch.long)\n",
    "\n",
    "    def __getitem__(self, idx):\n",
    "        train_images = self.get_images(idx)\n",
    "        train_labels = self.get_labels(idx)\n",
    "\n",
    "        return train_images, train_labels"
   ]
  },
  {
   "cell_type": "code",
   "execution_count": 25,
   "metadata": {},
   "outputs": [],
   "source": [
    "train_dataset = ImageDataset(train_df, transform=transforms)\n",
    "val_dataset = ImageDataset(valid_df, transform=transforms)\n",
    "test_dataset = ImageDataset(test_df, transform=transforms)"
   ]
  },
  {
   "cell_type": "code",
   "execution_count": 26,
   "metadata": {},
   "outputs": [],
   "source": [
    "# Create data loaders\n",
    "train_loader = DataLoader(train_dataset, batch_size=64, shuffle=True)\n",
    "val_loader = DataLoader(val_dataset, batch_size=64, shuffle=False)\n",
    "test_loader = DataLoader(test_dataset, batch_size=64, shuffle=False)"
   ]
  },
  {
   "cell_type": "markdown",
   "metadata": {},
   "source": [
    "ONLY CNN"
   ]
  },
  {
   "cell_type": "code",
   "execution_count": 27,
   "metadata": {},
   "outputs": [],
   "source": [
    "import torch\n",
    "import torch.nn as nn\n",
    "import torch.nn.functional as F\n",
    "from functools import partial\n",
    "\n",
    "class ConvBlock(nn.Module):\n",
    "    def __init__(self, inplanes, outplanes, stride=1, res_conv=False, act_layer=nn.ReLU, groups=1,\n",
    "                 norm_layer=partial(nn.BatchNorm2d, eps=1e-6), drop_block=None, drop_path=None):\n",
    "        super(ConvBlock, self).__init__()\n",
    "\n",
    "        expansion = 4\n",
    "        med_planes = outplanes // expansion\n",
    "\n",
    "        self.conv1 = nn.Conv2d(inplanes, med_planes, kernel_size=1, stride=1, padding=0, bias=False)\n",
    "        self.bn1 = norm_layer(med_planes)\n",
    "        self.act1 = act_layer(inplace=True)\n",
    "\n",
    "        self.conv2 = nn.Conv2d(med_planes, med_planes, kernel_size=3, stride=stride, groups=groups, padding=1, bias=False)\n",
    "        self.bn2 = norm_layer(med_planes)\n",
    "        self.act2 = act_layer(inplace=True)\n",
    "\n",
    "        self.conv3 = nn.Conv2d(med_planes, outplanes, kernel_size=1, stride=1, padding=0, bias=False)\n",
    "        self.bn3 = norm_layer(outplanes)\n",
    "        self.act3 = act_layer(inplace=True)\n",
    "\n",
    "        if res_conv:\n",
    "            self.residual_conv = nn.Conv2d(inplanes, outplanes, kernel_size=1, stride=stride, padding=0, bias=False)\n",
    "            self.residual_bn = norm_layer(outplanes)\n",
    "\n",
    "        self.res_conv = res_conv\n",
    "        self.drop_block = drop_block\n",
    "        self.drop_path = drop_path\n",
    "\n",
    "    def zero_init_last_bn(self):\n",
    "        nn.init.zeros_(self.bn3.weight)\n",
    "\n",
    "    def forward(self, x, x_t=None, return_x_2=True):\n",
    "        residual = x\n",
    "\n",
    "        x = self.conv1(x)\n",
    "        x = self.bn1(x)\n",
    "        if self.drop_block is not None:\n",
    "            x = self.drop_block(x)\n",
    "        x = self.act1(x)\n",
    "\n",
    "        x = self.conv2(x) if x_t is None else self.conv2(x + x_t)\n",
    "        x = self.bn2(x)\n",
    "        if self.drop_block is not None:\n",
    "            x = self.drop_block(x)\n",
    "        x2 = self.act2(x)\n",
    "\n",
    "        x = self.conv3(x2)\n",
    "        x = self.bn3(x)\n",
    "        if self.drop_block is not None:\n",
    "            x = self.drop_block(x)\n",
    "\n",
    "        if self.drop_path is not None:\n",
    "            x = self.drop_path(x)\n",
    "\n",
    "        if self.res_conv:\n",
    "            residual = self.residual_conv(residual)\n",
    "            residual = self.residual_bn(residual)\n",
    "\n",
    "        x += residual\n",
    "        x = self.act3(x)\n",
    "\n",
    "        if return_x_2:\n",
    "            return x, x2\n",
    "        else:\n",
    "            return x\n",
    "\n",
    "class Conformer(nn.Module):\n",
    "\n",
    "    def __init__(self, patch_size=16, in_chans=3, num_classes=1000, base_channel=64, channel_ratio=4, num_med_block=0,\n",
    "                 drop_rate=0., attn_drop_rate=0., drop_path_rate=0.):\n",
    "\n",
    "        super().__init__()\n",
    "        self.num_classes = num_classes\n",
    "        stage_1_channel = int(base_channel * channel_ratio)\n",
    "\n",
    "        # Stem stage: get the feature maps by conv block\n",
    "        self.conv1 = nn.Conv2d(in_chans, 64, kernel_size=7, stride=2, padding=3, bias=False)  # 1 / 2 [112, 112]\n",
    "        self.bn1 = nn.BatchNorm2d(64)\n",
    "        self.act1 = nn.ReLU(inplace=True)\n",
    "        self.maxpool = nn.MaxPool2d(kernel_size=3, stride=2, padding=1)  # 1 / 4 [56, 56]\n",
    "\n",
    "        # 1 stage\n",
    "        self.conv_1 = ConvBlock(inplanes=64, outplanes=stage_1_channel, res_conv=True, stride=1)\n",
    "\n",
    "        stage_2_channel = int(base_channel * channel_ratio * 2)\n",
    "        # 5~8 stage\n",
    "        for i in range(5, 9):\n",
    "            s = 2 if i == 5 else 1\n",
    "            in_channel = stage_1_channel if i == 5 else stage_2_channel\n",
    "            res_conv = True if i == 5 else False\n",
    "            self.add_module('conv_block_' + str(i),\n",
    "                ConvBlock(\n",
    "                    inplanes=in_channel, outplanes=stage_2_channel, res_conv=res_conv, stride=s))\n",
    "\n",
    "        stage_3_channel = int(base_channel * channel_ratio * 2 * 2)\n",
    "        # 9~12 stage\n",
    "        for i in range(9, 13):\n",
    "            s = 2 if i == 9 else 1\n",
    "            in_channel = stage_2_channel if i == 9 else stage_3_channel\n",
    "            res_conv = True if i == 9 else False\n",
    "            self.add_module('conv_block_' + str(i),\n",
    "                ConvBlock(\n",
    "                    inplanes=in_channel, outplanes=stage_3_channel, res_conv=res_conv, stride=s))\n",
    "\n",
    "        self.fin_stage = 13\n",
    "        self.pooling = nn.AdaptiveAvgPool2d(1)\n",
    "        self.conv_cls_head = nn.Linear(stage_3_channel, num_classes)\n",
    "\n",
    "        self.apply(self._init_weights)\n",
    "\n",
    "    def _init_weights(self, m):\n",
    "        if isinstance(m, nn.Linear):\n",
    "            nn.init.normal_(m.weight, 0, 0.01)\n",
    "            if m.bias is not None:\n",
    "                nn.init.constant_(m.bias, 0)\n",
    "        elif isinstance(m, nn.BatchNorm2d):\n",
    "            nn.init.constant_(m.weight, 1)\n",
    "            nn.init.constant_(m.bias, 0)\n",
    "\n",
    "    def forward(self, x):\n",
    "        # Stem stage\n",
    "        x = self.maxpool(self.act1(self.bn1(self.conv1(x))))\n",
    "\n",
    "        # 1 stage\n",
    "        x, _ = self.conv_1(x)\n",
    "\n",
    "        # Conv blocks\n",
    "        for i in range(5, self.fin_stage):\n",
    "            x, _ = eval('self.conv_block_' + str(i))(x)\n",
    "\n",
    "        # Classification\n",
    "        x = self.pooling(x).flatten(1)\n",
    "        x = self.conv_cls_head(x)\n",
    "\n",
    "        return x\n",
    "\n"
   ]
  },
  {
   "cell_type": "code",
   "execution_count": 28,
   "metadata": {},
   "outputs": [],
   "source": [
    "model = Conformer(patch_size=16, channel_ratio=6, drop_rate=0., attn_drop_rate=0., drop_path_rate=0.)\n",
    "model.to(device)\n",
    "optimizer = optim.Adam(model.parameters(), lr=0.0001,  weight_decay=0.01)\n",
    "criterion = nn.CrossEntropyLoss()\n",
    "num_epochs = 40"
   ]
  },
  {
   "cell_type": "code",
   "execution_count": 29,
   "metadata": {},
   "outputs": [],
   "source": [
    "from tqdm import tqdm\n",
    "import torch\n",
    "\n",
    "def trainVal(model, criterion, optimizer, num_epochs, min_val_loss, train_loader, val_loader, device):\n",
    "    best_acc = 0.0\n",
    "    min_loss = min_val_loss\n",
    "\n",
    "    train_losses = []\n",
    "    train_accs = []\n",
    "    val_losses = []\n",
    "    val_accs = []\n",
    "\n",
    "    for epoch in range(num_epochs):\n",
    "        print(f'Epoch {epoch}/{num_epochs - 1}')\n",
    "        print('-' * 10)\n",
    "        model.train()  # Set model to training mode\n",
    "        running_loss = 0.0\n",
    "        running_corrects = 0\n",
    "\n",
    "        # Using tqdm for progress tracking\n",
    "        for inputs, labels in tqdm(train_loader, desc=f'Epoch {epoch}', leave=False):\n",
    "            inputs = inputs.to(device)\n",
    "            labels = labels.to(device)\n",
    "\n",
    "            # zero the parameter gradients\n",
    "            optimizer.zero_grad()\n",
    "\n",
    "            # forward\n",
    "            # track history if only in train\n",
    "            with torch.set_grad_enabled(True):\n",
    "                outputs = model(inputs)\n",
    "                if isinstance(outputs, list):\n",
    "                    loss_list = [criterion(o, labels) / len(outputs) for o in outputs]\n",
    "                    loss = sum(loss_list)\n",
    "                    preds = torch.max(outputs[0] + outputs[1], 1)[1]\n",
    "                else:\n",
    "                    loss = criterion(outputs, labels)\n",
    "                    _, preds = torch.max(outputs, 1)\n",
    "\n",
    "                # backward + optimize only if in training phase\n",
    "                loss.backward()\n",
    "                optimizer.step()\n",
    "\n",
    "            # statistics\n",
    "            running_loss += loss.item() * inputs.size(0)\n",
    "            running_corrects += torch.sum(preds == labels.data)\n",
    "\n",
    "        epoch_loss = running_loss / len(train_loader.dataset)\n",
    "        epoch_acc = running_corrects.double() / len(train_loader.dataset)\n",
    "\n",
    "        train_losses.append(epoch_loss)\n",
    "        train_accs.append(epoch_acc)\n",
    "        print(f'Train Loss: {epoch_loss:.4f} Acc: {epoch_acc:.4f}')\n",
    "\n",
    "        # Validation phase\n",
    "        model.eval()  # Set model to evaluate mode\n",
    "        running_loss = 0.0\n",
    "        running_corrects = 0\n",
    "\n",
    "        for inputs, labels in val_loader:\n",
    "            inputs = inputs.to(device)\n",
    "            labels = labels.to(device)\n",
    "\n",
    "            with torch.no_grad():\n",
    "                outputs = model(inputs)\n",
    "                if isinstance(outputs, list):\n",
    "                    loss_list = [criterion(o, labels) / len(outputs) for o in outputs]\n",
    "                    loss = sum(loss_list)\n",
    "                    preds = torch.max(outputs[0] + outputs[1], 1)[1]\n",
    "                else:\n",
    "                    loss = criterion(outputs, labels)\n",
    "                    _, preds = torch.max(outputs, 1)\n",
    "\n",
    "            running_loss += loss.item() * inputs.size(0)\n",
    "            running_corrects += torch.sum(preds == labels.data)\n",
    "\n",
    "        epoch_loss = running_loss / len(val_loader.dataset)\n",
    "        epoch_acc = running_corrects.double() / len(val_loader.dataset)\n",
    "\n",
    "        val_losses.append(epoch_loss)\n",
    "        val_accs.append(epoch_acc)\n",
    "        print(f'Val Loss: {epoch_loss:.4f} Acc: {epoch_acc:.4f}')\n",
    "\n",
    "        # Update the learning rate\n",
    "        # scheduler.step()  # Uncomment if using a learning rate scheduler\n",
    "\n",
    "        # Save the model if it has the best validation accuracy so far\n",
    "        if epoch_acc > best_acc:\n",
    "            best_acc = epoch_acc\n",
    "            state = {\n",
    "                'epoch': epoch + 1,\n",
    "                'state_dict': model.state_dict(),\n",
    "                'optimizer': optimizer.state_dict(),\n",
    "                'min_loss': epoch_loss\n",
    "            }\n",
    "        torch.save(state, '/home/srikanth/Interns/Rajasree/CSIO-Conformer/weight/conformer-wwc-rgbd-only-cnn.pth')\n",
    "\n",
    "    return train_losses, train_accs, val_losses, val_accs, min_loss\n"
   ]
  },
  {
   "cell_type": "code",
   "execution_count": 30,
   "metadata": {},
   "outputs": [
    {
     "name": "stdout",
     "output_type": "stream",
     "text": [
      "Epoch 0/39\n",
      "----------\n"
     ]
    },
    {
     "name": "stderr",
     "output_type": "stream",
     "text": [
      "                                                              \r"
     ]
    },
    {
     "name": "stdout",
     "output_type": "stream",
     "text": [
      "Train Loss: 0.3664 Acc: 0.8748\n",
      "Val Loss: 0.2502 Acc: 0.9208\n",
      "Epoch 1/39\n",
      "----------\n"
     ]
    },
    {
     "name": "stderr",
     "output_type": "stream",
     "text": [
      "                                                              \r"
     ]
    },
    {
     "name": "stdout",
     "output_type": "stream",
     "text": [
      "Train Loss: 0.2554 Acc: 0.9199\n",
      "Val Loss: 0.1672 Acc: 0.9454\n",
      "Epoch 2/39\n",
      "----------\n"
     ]
    },
    {
     "name": "stderr",
     "output_type": "stream",
     "text": [
      "                                                              \r"
     ]
    },
    {
     "name": "stdout",
     "output_type": "stream",
     "text": [
      "Train Loss: 0.1944 Acc: 0.9399\n",
      "Val Loss: 0.1665 Acc: 0.9480\n",
      "Epoch 3/39\n",
      "----------\n"
     ]
    },
    {
     "name": "stderr",
     "output_type": "stream",
     "text": [
      "                                                              \r"
     ]
    },
    {
     "name": "stdout",
     "output_type": "stream",
     "text": [
      "Train Loss: 0.1704 Acc: 0.9482\n",
      "Val Loss: 0.1303 Acc: 0.9607\n",
      "Epoch 4/39\n",
      "----------\n"
     ]
    },
    {
     "name": "stderr",
     "output_type": "stream",
     "text": [
      "                                                              \r"
     ]
    },
    {
     "name": "stdout",
     "output_type": "stream",
     "text": [
      "Train Loss: 0.1558 Acc: 0.9533\n",
      "Val Loss: 0.1505 Acc: 0.9515\n",
      "Epoch 5/39\n",
      "----------\n"
     ]
    },
    {
     "name": "stderr",
     "output_type": "stream",
     "text": [
      "                                                              \r"
     ]
    },
    {
     "name": "stdout",
     "output_type": "stream",
     "text": [
      "Train Loss: 0.1485 Acc: 0.9553\n",
      "Val Loss: 0.1175 Acc: 0.9655\n",
      "Epoch 6/39\n",
      "----------\n"
     ]
    },
    {
     "name": "stderr",
     "output_type": "stream",
     "text": [
      "                                                              \r"
     ]
    },
    {
     "name": "stdout",
     "output_type": "stream",
     "text": [
      "Train Loss: 0.1417 Acc: 0.9572\n",
      "Val Loss: 0.1038 Acc: 0.9690\n",
      "Epoch 7/39\n",
      "----------\n"
     ]
    },
    {
     "name": "stderr",
     "output_type": "stream",
     "text": [
      "                                                              \r"
     ]
    },
    {
     "name": "stdout",
     "output_type": "stream",
     "text": [
      "Train Loss: 0.1373 Acc: 0.9585\n",
      "Val Loss: 0.1191 Acc: 0.9655\n",
      "Epoch 8/39\n",
      "----------\n"
     ]
    },
    {
     "name": "stderr",
     "output_type": "stream",
     "text": [
      "                                                              \r"
     ]
    },
    {
     "name": "stdout",
     "output_type": "stream",
     "text": [
      "Train Loss: 0.1346 Acc: 0.9596\n",
      "Val Loss: 0.1063 Acc: 0.9672\n",
      "Epoch 9/39\n",
      "----------\n"
     ]
    },
    {
     "name": "stderr",
     "output_type": "stream",
     "text": [
      "                                                              \r"
     ]
    },
    {
     "name": "stdout",
     "output_type": "stream",
     "text": [
      "Train Loss: 0.1297 Acc: 0.9611\n",
      "Val Loss: 0.1228 Acc: 0.9616\n",
      "Epoch 10/39\n",
      "----------\n"
     ]
    },
    {
     "name": "stderr",
     "output_type": "stream",
     "text": [
      "                                                               \r"
     ]
    },
    {
     "name": "stdout",
     "output_type": "stream",
     "text": [
      "Train Loss: 0.1275 Acc: 0.9616\n",
      "Val Loss: 0.0985 Acc: 0.9689\n",
      "Epoch 11/39\n",
      "----------\n"
     ]
    },
    {
     "name": "stderr",
     "output_type": "stream",
     "text": [
      "                                                               \r"
     ]
    },
    {
     "name": "stdout",
     "output_type": "stream",
     "text": [
      "Train Loss: 0.1261 Acc: 0.9620\n",
      "Val Loss: 0.0956 Acc: 0.9706\n",
      "Epoch 12/39\n",
      "----------\n"
     ]
    },
    {
     "name": "stderr",
     "output_type": "stream",
     "text": [
      "                                                               \r"
     ]
    },
    {
     "name": "stdout",
     "output_type": "stream",
     "text": [
      "Train Loss: 0.1237 Acc: 0.9630\n",
      "Val Loss: 0.1184 Acc: 0.9640\n",
      "Epoch 13/39\n",
      "----------\n"
     ]
    },
    {
     "name": "stderr",
     "output_type": "stream",
     "text": [
      "                                                               \r"
     ]
    },
    {
     "name": "stdout",
     "output_type": "stream",
     "text": [
      "Train Loss: 0.1225 Acc: 0.9632\n",
      "Val Loss: 0.1295 Acc: 0.9606\n",
      "Epoch 14/39\n",
      "----------\n"
     ]
    },
    {
     "name": "stderr",
     "output_type": "stream",
     "text": [
      "                                                               \r"
     ]
    },
    {
     "name": "stdout",
     "output_type": "stream",
     "text": [
      "Train Loss: 0.1214 Acc: 0.9637\n",
      "Val Loss: 0.1066 Acc: 0.9672\n",
      "Epoch 15/39\n",
      "----------\n"
     ]
    },
    {
     "name": "stderr",
     "output_type": "stream",
     "text": [
      "                                                               \r"
     ]
    },
    {
     "name": "stdout",
     "output_type": "stream",
     "text": [
      "Train Loss: 0.1201 Acc: 0.9644\n",
      "Val Loss: 0.0993 Acc: 0.9706\n",
      "Epoch 16/39\n",
      "----------\n"
     ]
    },
    {
     "name": "stderr",
     "output_type": "stream",
     "text": [
      "                                                               \r"
     ]
    },
    {
     "name": "stdout",
     "output_type": "stream",
     "text": [
      "Train Loss: 0.1190 Acc: 0.9645\n",
      "Val Loss: 0.1315 Acc: 0.9612\n",
      "Epoch 17/39\n",
      "----------\n"
     ]
    },
    {
     "name": "stderr",
     "output_type": "stream",
     "text": [
      "                                                               \r"
     ]
    },
    {
     "name": "stdout",
     "output_type": "stream",
     "text": [
      "Train Loss: 0.1179 Acc: 0.9646\n",
      "Val Loss: 0.0937 Acc: 0.9716\n",
      "Epoch 18/39\n",
      "----------\n"
     ]
    },
    {
     "name": "stderr",
     "output_type": "stream",
     "text": [
      "                                                               \r"
     ]
    },
    {
     "name": "stdout",
     "output_type": "stream",
     "text": [
      "Train Loss: 0.1178 Acc: 0.9647\n",
      "Val Loss: 0.1108 Acc: 0.9689\n",
      "Epoch 19/39\n",
      "----------\n"
     ]
    },
    {
     "name": "stderr",
     "output_type": "stream",
     "text": [
      "                                                               \r"
     ]
    },
    {
     "name": "stdout",
     "output_type": "stream",
     "text": [
      "Train Loss: 0.1173 Acc: 0.9649\n",
      "Val Loss: 0.1151 Acc: 0.9649\n",
      "Epoch 20/39\n",
      "----------\n"
     ]
    },
    {
     "name": "stderr",
     "output_type": "stream",
     "text": [
      "                                                               \r"
     ]
    },
    {
     "name": "stdout",
     "output_type": "stream",
     "text": [
      "Train Loss: 0.1154 Acc: 0.9654\n",
      "Val Loss: 0.0957 Acc: 0.9697\n",
      "Epoch 21/39\n",
      "----------\n"
     ]
    },
    {
     "name": "stderr",
     "output_type": "stream",
     "text": [
      "                                                               \r"
     ]
    },
    {
     "name": "stdout",
     "output_type": "stream",
     "text": [
      "Train Loss: 0.1141 Acc: 0.9659\n",
      "Val Loss: 0.1063 Acc: 0.9690\n",
      "Epoch 22/39\n",
      "----------\n"
     ]
    },
    {
     "name": "stderr",
     "output_type": "stream",
     "text": [
      "                                                               \r"
     ]
    },
    {
     "name": "stdout",
     "output_type": "stream",
     "text": [
      "Train Loss: 0.1145 Acc: 0.9659\n",
      "Val Loss: 0.1076 Acc: 0.9660\n",
      "Epoch 23/39\n",
      "----------\n"
     ]
    },
    {
     "name": "stderr",
     "output_type": "stream",
     "text": [
      "                                                               \r"
     ]
    },
    {
     "name": "stdout",
     "output_type": "stream",
     "text": [
      "Train Loss: 0.1131 Acc: 0.9662\n",
      "Val Loss: 0.1070 Acc: 0.9677\n",
      "Epoch 24/39\n",
      "----------\n"
     ]
    },
    {
     "name": "stderr",
     "output_type": "stream",
     "text": [
      "                                                               \r"
     ]
    },
    {
     "name": "stdout",
     "output_type": "stream",
     "text": [
      "Train Loss: 0.1138 Acc: 0.9661\n",
      "Val Loss: 0.0951 Acc: 0.9723\n",
      "Epoch 25/39\n",
      "----------\n"
     ]
    },
    {
     "name": "stderr",
     "output_type": "stream",
     "text": [
      "                                                               \r"
     ]
    },
    {
     "name": "stdout",
     "output_type": "stream",
     "text": [
      "Train Loss: 0.1119 Acc: 0.9666\n",
      "Val Loss: 0.1460 Acc: 0.9511\n",
      "Epoch 26/39\n",
      "----------\n"
     ]
    },
    {
     "name": "stderr",
     "output_type": "stream",
     "text": [
      "                                                               \r"
     ]
    },
    {
     "name": "stdout",
     "output_type": "stream",
     "text": [
      "Train Loss: 0.1125 Acc: 0.9663\n",
      "Val Loss: 0.1154 Acc: 0.9618\n",
      "Epoch 27/39\n",
      "----------\n"
     ]
    },
    {
     "name": "stderr",
     "output_type": "stream",
     "text": [
      "                                                               \r"
     ]
    },
    {
     "name": "stdout",
     "output_type": "stream",
     "text": [
      "Train Loss: 0.1111 Acc: 0.9667\n",
      "Val Loss: 0.1793 Acc: 0.9487\n",
      "Epoch 28/39\n",
      "----------\n"
     ]
    },
    {
     "name": "stderr",
     "output_type": "stream",
     "text": [
      "                                                               \r"
     ]
    },
    {
     "name": "stdout",
     "output_type": "stream",
     "text": [
      "Train Loss: 0.1116 Acc: 0.9665\n",
      "Val Loss: 0.0909 Acc: 0.9725\n",
      "Epoch 29/39\n",
      "----------\n"
     ]
    },
    {
     "name": "stderr",
     "output_type": "stream",
     "text": [
      "                                                               \r"
     ]
    },
    {
     "name": "stdout",
     "output_type": "stream",
     "text": [
      "Train Loss: 0.1091 Acc: 0.9673\n",
      "Val Loss: 0.1030 Acc: 0.9708\n",
      "Epoch 30/39\n",
      "----------\n"
     ]
    },
    {
     "name": "stderr",
     "output_type": "stream",
     "text": [
      "                                                               \r"
     ]
    },
    {
     "name": "stdout",
     "output_type": "stream",
     "text": [
      "Train Loss: 0.1090 Acc: 0.9677\n",
      "Val Loss: 0.0932 Acc: 0.9689\n",
      "Epoch 31/39\n",
      "----------\n"
     ]
    },
    {
     "name": "stderr",
     "output_type": "stream",
     "text": [
      "                                                               \r"
     ]
    },
    {
     "name": "stdout",
     "output_type": "stream",
     "text": [
      "Train Loss: 0.1096 Acc: 0.9671\n",
      "Val Loss: 0.0978 Acc: 0.9706\n",
      "Epoch 32/39\n",
      "----------\n"
     ]
    },
    {
     "name": "stderr",
     "output_type": "stream",
     "text": [
      "                                                               \r"
     ]
    },
    {
     "name": "stdout",
     "output_type": "stream",
     "text": [
      "Train Loss: 0.1083 Acc: 0.9676\n",
      "Val Loss: 0.0948 Acc: 0.9713\n",
      "Epoch 33/39\n",
      "----------\n"
     ]
    },
    {
     "name": "stderr",
     "output_type": "stream",
     "text": [
      "                                                               \r"
     ]
    },
    {
     "name": "stdout",
     "output_type": "stream",
     "text": [
      "Train Loss: 0.1101 Acc: 0.9668\n",
      "Val Loss: 0.1066 Acc: 0.9659\n",
      "Epoch 34/39\n",
      "----------\n"
     ]
    },
    {
     "name": "stderr",
     "output_type": "stream",
     "text": [
      "                                                               \r"
     ]
    },
    {
     "name": "stdout",
     "output_type": "stream",
     "text": [
      "Train Loss: 0.1075 Acc: 0.9679\n",
      "Val Loss: 0.0880 Acc: 0.9710\n",
      "Epoch 35/39\n",
      "----------\n"
     ]
    },
    {
     "name": "stderr",
     "output_type": "stream",
     "text": [
      "                                                               \r"
     ]
    },
    {
     "name": "stdout",
     "output_type": "stream",
     "text": [
      "Train Loss: 0.1091 Acc: 0.9672\n",
      "Val Loss: 0.0925 Acc: 0.9728\n",
      "Epoch 36/39\n",
      "----------\n"
     ]
    },
    {
     "name": "stderr",
     "output_type": "stream",
     "text": [
      "                                                               \r"
     ]
    },
    {
     "name": "stdout",
     "output_type": "stream",
     "text": [
      "Train Loss: 0.1082 Acc: 0.9678\n",
      "Val Loss: 0.0894 Acc: 0.9729\n",
      "Epoch 37/39\n",
      "----------\n"
     ]
    },
    {
     "name": "stderr",
     "output_type": "stream",
     "text": [
      "                                                               \r"
     ]
    },
    {
     "name": "stdout",
     "output_type": "stream",
     "text": [
      "Train Loss: 0.1074 Acc: 0.9677\n",
      "Val Loss: 0.0955 Acc: 0.9714\n",
      "Epoch 38/39\n",
      "----------\n"
     ]
    },
    {
     "name": "stderr",
     "output_type": "stream",
     "text": [
      "                                                               \r"
     ]
    },
    {
     "name": "stdout",
     "output_type": "stream",
     "text": [
      "Train Loss: 0.1072 Acc: 0.9676\n",
      "Val Loss: 0.0976 Acc: 0.9689\n",
      "Epoch 39/39\n",
      "----------\n"
     ]
    },
    {
     "name": "stderr",
     "output_type": "stream",
     "text": [
      "                                                               \r"
     ]
    },
    {
     "name": "stdout",
     "output_type": "stream",
     "text": [
      "Train Loss: 0.1061 Acc: 0.9684\n",
      "Val Loss: 0.1068 Acc: 0.9676\n"
     ]
    }
   ],
   "source": [
    "# Define the initial minimum validation loss\n",
    "min_val_loss = float('inf')\n",
    "\n",
    "# Call the training function with the appropriate data loaders\n",
    "train_losses, train_accs, val_losses, val_accs, min_loss = trainVal(\n",
    "    model, criterion, optimizer, num_epochs, min_val_loss, train_loader, val_loader, device\n",
    ")"
   ]
  },
  {
   "cell_type": "code",
   "execution_count": 31,
   "metadata": {},
   "outputs": [
    {
     "data": {
      "image/png": "[encoded data removed]",
      "text/plain": [
       "<Figure size 1000x500 with 2 Axes>"
      ]
     },
     "metadata": {},
     "output_type": "display_data"
    }
   ],
   "source": [
    "import matplotlib.pyplot as plt\n",
    "\n",
    "# Convert the tensors to NumPy arrays\n",
    "\n",
    "train_losses = torch.tensor(train_losses)\n",
    "val_losses = torch.tensor(val_losses)\n",
    "train_accs = torch.tensor(train_accs)\n",
    "val_accs = torch.tensor(val_accs)\n",
    "\n",
    "plt.figure(figsize=(10, 5))\n",
    "plt.subplot(1, 2, 1)\n",
    "plt.plot(train_losses, label='Training Loss')\n",
    "plt.plot(val_losses, label='Validation Loss')\n",
    "plt.legend()\n",
    "plt.title('Loss')\n",
    "\n",
    "plt.subplot(1, 2, 2)\n",
    "plt.plot(train_accs, label='Training Accuracy')\n",
    "plt.plot(val_accs, label='Validation Accuracy')\n",
    "plt.legend()\n",
    "plt.title('Accuracy')\n",
    "\n",
    "plt.show()"
   ]
  },
  {
   "cell_type": "code",
   "execution_count": 32,
   "metadata": {},
   "outputs": [
    {
     "name": "stdout",
     "output_type": "stream",
     "text": [
      "Test Accuracy: 96.65%\n"
     ]
    }
   ],
   "source": [
    "test_losses = []\n",
    "test_accuracies = []\n",
    "\n",
    "all_preds = []\n",
    "all_labels = []\n",
    "model.eval()\n",
    "total_test_loss = 0.0\n",
    "correct_test = 0\n",
    "with torch.no_grad():\n",
    "    for images, labels in test_loader:\n",
    "        images, labels = images.to(device), labels.to(device)\n",
    "        outputs = model(images)\n",
    "        \n",
    "        # If the model outputs a list of tensors\n",
    "        if isinstance(outputs, list):\n",
    "            batch_loss = 0.0\n",
    "            for output in outputs:\n",
    "                batch_loss += criterion(output, labels).item()\n",
    "            test_loss = batch_loss / len(outputs)\n",
    "            total_test_loss += test_loss * images.size(0)\n",
    "\n",
    "            # For simplicity, assuming the first output for prediction evaluation\n",
    "            output = outputs[0]\n",
    "        else:\n",
    "            test_loss = criterion(outputs, labels).item()\n",
    "            total_test_loss += test_loss * images.size(0)\n",
    "            output = outputs\n",
    "\n",
    "        pred = output.argmax(dim=1, keepdim=True)\n",
    "        correct_test += pred.eq(labels.view_as(pred)).sum().item()\n",
    "        \n",
    "        # Gather predictions and true labels for confusion matrix\n",
    "        all_preds.extend(pred.cpu().numpy())\n",
    "        all_labels.extend(labels.cpu().numpy())\n",
    "\n",
    "average_test_loss = total_test_loss / len(test_loader.dataset)\n",
    "test_losses.append(average_test_loss)\n",
    "test_accuracies.append(100. * correct_test / len(test_loader.dataset))\n",
    "print(\"Test Accuracy: {:.2f}%\".format(test_accuracies[-1]))\n"
   ]
  },
  {
   "cell_type": "code",
   "execution_count": 33,
   "metadata": {},
   "outputs": [
    {
     "name": "stdout",
     "output_type": "stream",
     "text": [
      "Confusion Matrix:\n",
      "[[14128   196   104   750]\n",
      " [   41 14847    87   102]\n",
      " [  269   107 14587    86]\n",
      " [   99    99    78 14624]]\n",
      "Classification Report:\n",
      "              precision    recall  f1-score   support\n",
      "\n",
      "           0       0.97      0.93      0.95     15178\n",
      "           1       0.97      0.98      0.98     15077\n",
      "           2       0.98      0.97      0.98     15049\n",
      "           3       0.94      0.98      0.96     14900\n",
      "\n",
      "    accuracy                           0.97     60204\n",
      "   macro avg       0.97      0.97      0.97     60204\n",
      "weighted avg       0.97      0.97      0.97     60204\n",
      "\n"
     ]
    }
   ],
   "source": [
    "from sklearn.metrics import confusion_matrix, classification_report\n",
    "# Confusion Matrix\n",
    "conf_matrix = confusion_matrix(all_labels, all_preds)\n",
    "print(\"Confusion Matrix:\")\n",
    "print(conf_matrix)\n",
    "# Classification Report\n",
    "class_report = classification_report(all_labels, all_preds)\n",
    "print(\"Classification Report:\")\n",
    "print(class_report)"
   ]
  }
 ],
 "metadata": {
  "kernelspec": {
   "display_name": "graspenv",
   "language": "python",
   "name": "graspenv"
  },
  "language_info": {
   "codemirror_mode": {
    "name": "ipython",
    "version": 3
   },
   "file_extension": ".py",
   "mimetype": "text/x-python",
   "name": "python",
   "nbconvert_exporter": "python",
   "pygments_lexer": "ipython3",
   "version": "3.10.12"
  }
 },
 "nbformat": 4,
 "nbformat_minor": 2
}
