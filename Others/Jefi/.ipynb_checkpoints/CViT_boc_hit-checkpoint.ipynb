{
 "cells": [
  {
   "cell_type": "code",
   "execution_count": 1,
   "metadata": {
    "colab": {
     "base_uri": "https://localhost:8080/"
    },
    "id": "zPpsBki0Yj06",
    "outputId": "ea293c1b-bba5-4ade-db70-5adc3f9433bc"
   },
   "outputs": [],
   "source": [
    "#!pip install einops"
   ]
  },
  {
   "cell_type": "code",
   "execution_count": 2,
   "metadata": {
    "id": "SRAFDacGP25B"
   },
   "outputs": [
    {
     "name": "stderr",
     "output_type": "stream",
     "text": [
      "/tmp/ipykernel_4518/676446573.py:7: DeprecationWarning: \n",
      "Pyarrow will become a required dependency of pandas in the next major release of pandas (pandas 3.0),\n",
      "(to allow more performant data types, such as the Arrow string type, and better interoperability with other libraries)\n",
      "but was not found to be installed on your system.\n",
      "If this would cause problems for you,\n",
      "please provide us feedback at https://github.com/pandas-dev/pandas/issues/54466\n",
      "        \n",
      "  import pandas as pd\n"
     ]
    }
   ],
   "source": [
    "import os\n",
    "import sys\n",
    "import shutil\n",
    "from PIL import Image\n",
    "from tqdm import tqdm\n",
    "import numpy as np\n",
    "import pandas as pd\n",
    "import matplotlib.pyplot as plt\n",
    "import matplotlib.image as mping\n",
    "from sklearn.model_selection import train_test_split, StratifiedKFold\n",
    "from sklearn.preprocessing import LabelEncoder , OneHotEncoder\n",
    "from sklearn.utils import shuffle\n",
    "from sklearn.model_selection import StratifiedKFold\n",
    "from sklearn.metrics import accuracy_score\n",
    "\n",
    "import torch\n",
    "import torchvision\n",
    "from torch import nn\n",
    "from torchvision import datasets, transforms\n",
    "from torch.utils.data import DataLoader\n",
    "from einops import rearrange\n"
   ]
  },
  {
   "cell_type": "code",
   "execution_count": 3,
   "metadata": {
    "colab": {
     "base_uri": "https://localhost:8080/",
     "height": 35
    },
    "id": "OiYYA_kqRBXA",
    "outputId": "95dbf629-1b33-498e-da4b-1490d886b6eb"
   },
   "outputs": [
    {
     "data": {
      "text/plain": [
       "'cuda'"
      ]
     },
     "execution_count": 3,
     "metadata": {},
     "output_type": "execute_result"
    }
   ],
   "source": [
    "device = \"cuda\" if torch.cuda.is_available() else \"cpu\"\n",
    "device"
   ]
  },
  {
   "cell_type": "code",
   "execution_count": 4,
   "metadata": {
    "colab": {
     "base_uri": "https://localhost:8080/"
    },
    "id": "_g20Agp1RBcx",
    "outputId": "511ba679-ddf6-4d41-be09-2af63782c3d6"
   },
   "outputs": [],
   "source": [
    "# module_path = '/home/srikanth/Downloads/conformer_helpers'\n",
    "# sys.path.append(os.path.dirname(module_path))"
   ]
  },
  {
   "cell_type": "code",
   "execution_count": 5,
   "metadata": {
    "colab": {
     "base_uri": "https://localhost:8080/"
    },
    "id": "yD5IeGW6YwBM",
    "outputId": "90e3034b-8b00-476a-cb41-4a3e5e38eb9d"
   },
   "outputs": [],
   "source": [
    "module_path = '/home/srikanth/Downloads/going_modular'\n",
    "sys.path.append(os.path.dirname(module_path))"
   ]
  },
  {
   "cell_type": "code",
   "execution_count": 6,
   "metadata": {
    "id": "A8_HowFAYyaL"
   },
   "outputs": [
    {
     "name": "stderr",
     "output_type": "stream",
     "text": [
      "/home/srikanth/graspenv/lib/python3.10/site-packages/tqdm/auto.py:21: TqdmWarning: IProgress not found. Please update jupyter and ipywidgets. See https://ipywidgets.readthedocs.io/en/stable/user_install.html\n",
      "  from .autonotebook import tqdm as notebook_tqdm\n"
     ]
    }
   ],
   "source": [
    "from going_modular.helper_functions import set_seeds\n",
    "from going_modular import engine\n",
    "from going_modular.helper_functions import plot_loss_curves"
   ]
  },
  {
   "cell_type": "code",
   "execution_count": 7,
   "metadata": {
    "id": "JkPxXHvDT1gk"
   },
   "outputs": [],
   "source": [
    "root_path = r\"/home/srikanth/Dataset/Hit-GPRec-merged\"\n",
    "dataset_path = os.listdir(root_path)"
   ]
  },
  {
   "cell_type": "markdown",
   "metadata": {
    "id": "nXLZF5aZUeDL"
   },
   "source": [
    "CREATE DATASET AND DATALOADERS"
   ]
  },
  {
   "cell_type": "code",
   "execution_count": 8,
   "metadata": {
    "id": "A_n5ZFUlRBUo"
   },
   "outputs": [],
   "source": [
    "class_labels = []\n",
    "\n",
    "for item in dataset_path:\n",
    "    #print(item)\n",
    "    all_classes = os.listdir(root_path + '/' +item)\n",
    "    for top_object in all_classes:\n",
    "        class_labels.append((item,str(root_path + '/' +item + '/' +top_object)))\n",
    "        #sub_objects = os.listdir(root_path  + '/' +item + '/' +top_object)\n",
    "#         for sub_object in sub_objects:\n",
    "#             class_labels.append((item,str(root_path + '/' +item + '/' +top_object + '/' +sub_object)))\n",
    "\n",
    "df = pd.DataFrame(data=class_labels, columns=['labels', 'image'])\n",
    "y=list(df['labels'].values)\n",
    "image=df['image']"
   ]
  },
  {
   "cell_type": "code",
   "execution_count": 9,
   "metadata": {
    "colab": {
     "base_uri": "https://localhost:8080/"
    },
    "id": "6jGo4V4XRBRh",
    "outputId": "958c2e90-cc16-47f4-d4f5-9ac0296ae15a"
   },
   "outputs": [
    {
     "name": "stdout",
     "output_type": "stream",
     "text": [
      "{'Palmar wrist pronated': 0, 'Pinch': 1, 'Tripod': 2, 'Palmar wrist neutral': 3}\n",
      "{0: 'Palmar wrist pronated', 1: 'Pinch', 2: 'Tripod', 3: 'Palmar wrist neutral'}\n"
     ]
    }
   ],
   "source": [
    "labels = df['labels'].unique()\n",
    "num_labels = len(labels)\n",
    "label2id, id2label = dict(), dict()\n",
    "for i, label in enumerate(labels):\n",
    "    label2id[label] = i\n",
    "    id2label[i] = label\n",
    "\n",
    "print(label2id)\n",
    "print(id2label)"
   ]
  },
  {
   "cell_type": "code",
   "execution_count": 10,
   "metadata": {
    "id": "rJPzFw47RBOY"
   },
   "outputs": [],
   "source": [
    "class ImageDataset():\n",
    "    def __init__(self, df, transform=None):\n",
    "        self.df = df\n",
    "        self.transform = transforms.Compose([\n",
    "        transforms.ToTensor(),\n",
    "        transforms.Resize((49, 49), antialias=True),\n",
    "        transforms.Normalize(mean=[0.5, 0.5, 0.5],\n",
    "                             std=[0.5, 0.5, 0.5])\n",
    "        ])\n",
    "        self.label_mapping = label2id\n",
    "\n",
    "    def __len__(self):\n",
    "        return len(self.df)\n",
    "\n",
    "    def get_images(self, idx):\n",
    "        return self.transform(Image.open(self.df.iloc[idx]['filepaths']))\n",
    "\n",
    "    def get_labels(self, idx):\n",
    "        label = self.df.iloc[idx]['labels']\n",
    "        return torch.tensor(self.label_mapping[label], dtype=torch.long)\n",
    "\n",
    "    def __getitem__(self, idx):\n",
    "        train_images = self.get_images(idx)\n",
    "        train_labels = self.get_labels(idx)\n",
    "\n",
    "        return train_images, train_labels"
   ]
  },
  {
   "cell_type": "code",
   "execution_count": 11,
   "metadata": {
    "id": "n03btC2cRBLZ"
   },
   "outputs": [],
   "source": [
    "def create_dataloaders(train_df,test_df,val_df,batch_size: int):\n",
    "    # Use ImageFolder to create dataset(s)\n",
    "    train_data = ImageDataset(train_df)\n",
    "    test_data = ImageDataset(test_df)\n",
    "    val_data = ImageDataset(val_df)\n",
    "\n",
    "    # Get class names\n",
    "    class_names = list(train_df['labels'].unique())\n",
    "\n",
    "   # Turn images into data loaders\n",
    "    train_dataloader = DataLoader(\n",
    "      train_data,\n",
    "      batch_size=batch_size,\n",
    "      shuffle=True)\n",
    "    test_dataloader = DataLoader(\n",
    "      test_data,\n",
    "      batch_size=batch_size,\n",
    "      shuffle=False)\n",
    "    val_dataloader = DataLoader(\n",
    "      val_data,\n",
    "      batch_size=batch_size,\n",
    "      shuffle=False)\n",
    "\n",
    "    return train_dataloader, test_dataloader, val_dataloader, class_names"
   ]
  },
  {
   "cell_type": "markdown",
   "metadata": {
    "id": "G8YUoo_sV3uZ"
   },
   "source": [
    "MODEL"
   ]
  },
  {
   "cell_type": "code",
   "execution_count": 12,
   "metadata": {},
   "outputs": [],
   "source": [
    "class Residual(nn.Module):\n",
    "    def __init__(self, fn):\n",
    "        super().__init__()\n",
    "        self.fn = fn\n",
    "\n",
    "    def forward(self, x, **kwargs):\n",
    "        return self.fn(x, **kwargs) + x\n",
    "\n",
    "class PreNorm(nn.Module):\n",
    "    def __init__(self, dim, fn):\n",
    "        super().__init__()\n",
    "        self.norm = nn.LayerNorm(dim)\n",
    "        self.fn = fn\n",
    "\n",
    "    def forward(self, x, **kwargs):\n",
    "        return self.fn(self.norm(x), **kwargs)\n",
    "\n",
    "class FeedForward(nn.Module):\n",
    "    def __init__(self, dim, hidden_dim):\n",
    "        super().__init__()\n",
    "        self.net = nn.Sequential(\n",
    "            nn.Linear(dim, hidden_dim),\n",
    "            nn.GELU(),\n",
    "            nn.Linear(hidden_dim, dim)\n",
    "        )\n",
    "\n",
    "    def forward(self, x):\n",
    "        return self.net(x)\n",
    "\n",
    "class Attention(nn.Module):\n",
    "    def __init__(self, dim, heads=8):\n",
    "        super().__init__()\n",
    "        self.heads = heads\n",
    "        self.scale = dim ** -0.5\n",
    "\n",
    "        self.to_qkv = nn.Linear(dim, dim * 3, bias=False)\n",
    "        self.to_out = nn.Linear(dim, dim)\n",
    "\n",
    "    def forward(self, x, mask = None):\n",
    "        b, n, _, h = *x.shape, self.heads\n",
    "        qkv = self.to_qkv(x)\n",
    "        q, k, v = rearrange(qkv, 'b n (qkv h d) -> qkv b h n d', qkv=3, h=h)\n",
    "\n",
    "        dots = torch.einsum('bhid,bhjd->bhij', q, k) * self.scale\n",
    "\n",
    "        if mask is not None:\n",
    "            mask = F.pad(mask.flatten(1), (1, 0), value = True)\n",
    "            assert mask.shape[-1] == dots.shape[-1], 'mask has incorrect dimensions'\n",
    "            mask = mask[:, None, :] * mask[:, :, None]\n",
    "            dots.masked_fill_(~mask, float('-inf'))\n",
    "            del mask\n",
    "\n",
    "        attn = dots.softmax(dim=-1)\n",
    "\n",
    "        out = torch.einsum('bhij,bhjd->bhid', attn, v)\n",
    "        out = rearrange(out, 'b h n d -> b n (h d)')\n",
    "        out =  self.to_out(out)\n",
    "        return out\n",
    "\n",
    "class Transformer(nn.Module):\n",
    "    def __init__(self, dim, depth, heads, mlp_dim):\n",
    "        super().__init__()\n",
    "        self.layers = nn.ModuleList([])\n",
    "        for _ in range(depth):\n",
    "            self.layers.append(nn.ModuleList([\n",
    "                Residual(PreNorm(dim, Attention(dim, heads = heads))),\n",
    "                Residual(PreNorm(dim, FeedForward(dim, mlp_dim)))\n",
    "            ]))\n",
    "\n",
    "    def forward(self, x, mask=None):\n",
    "        for attn, ff in self.layers:\n",
    "            x = attn(x, mask=mask)\n",
    "            x = ff(x)\n",
    "        return x\n",
    "\n"
   ]
  },
  {
   "cell_type": "code",
   "execution_count": 13,
   "metadata": {},
   "outputs": [],
   "source": [
    "class CViT(nn.Module):\n",
    "    def __init__(self, image_size=49, patch_size=7, num_classes=4, channels=3,\n",
    "                 dim=1024, depth=6, heads=8, mlp_dim=2048):\n",
    "        super().__init__()\n",
    "        assert image_size % patch_size == 0, 'image dimensions must be divisible by the patch size'\n",
    "\n",
    "        self.features = nn.Sequential(\n",
    "\n",
    "            nn.Conv2d(3, 32, kernel_size=3, stride=1, padding=1),\n",
    "            nn.BatchNorm2d(num_features=32),\n",
    "            nn.ReLU(),\n",
    "            nn.Conv2d(32, 32, kernel_size=3, stride=1, padding=1),\n",
    "            nn.BatchNorm2d(num_features=32),\n",
    "            nn.ReLU(),\n",
    "            nn.Conv2d(32, 32, kernel_size=3, stride=1, padding=1),\n",
    "            nn.BatchNorm2d(num_features=32),\n",
    "            nn.ReLU(),\n",
    "            nn.MaxPool2d(kernel_size=2, stride=1, padding = 1),   #changed stride 2 to 1\n",
    "\n",
    "            nn.Conv2d(32, 64, kernel_size=3, stride=1, padding=1),\n",
    "            nn.BatchNorm2d(num_features=64),\n",
    "            nn.ReLU(),\n",
    "            nn.Conv2d(64, 64, kernel_size=3, stride=1, padding=1),\n",
    "            nn.BatchNorm2d(num_features=64),\n",
    "            nn.ReLU(),\n",
    "            nn.Conv2d(64, 64, kernel_size=3, stride=1, padding=1),\n",
    "            nn.BatchNorm2d(num_features=64),\n",
    "            nn.ReLU(),\n",
    "            nn.MaxPool2d(kernel_size=2, stride=1,),   #changed stride 2 to 1\n",
    "\n",
    "            nn.Conv2d(64, 128, kernel_size=3, stride=1, padding=1),\n",
    "            nn.BatchNorm2d(num_features=128),\n",
    "            nn.ReLU(),\n",
    "            nn.Conv2d(128, 128, kernel_size=3, stride=1, padding=1),\n",
    "            nn.BatchNorm2d(num_features=128),\n",
    "            nn.ReLU(),\n",
    "            nn.Conv2d(128, 128, kernel_size=3, stride=1, padding=1),\n",
    "            nn.BatchNorm2d(num_features=128),\n",
    "            nn.ReLU(),\n",
    "            nn.MaxPool2d(kernel_size=2, stride=2),\n",
    "\n",
    "            nn.Conv2d(128, 256, kernel_size=3, stride=1, padding=1),\n",
    "            nn.BatchNorm2d(num_features=256),\n",
    "            nn.ReLU(),\n",
    "            nn.Conv2d(256, 256, kernel_size=3, stride=1, padding=1),\n",
    "            nn.BatchNorm2d(num_features=256),\n",
    "            nn.ReLU(),\n",
    "            nn.Conv2d(256, 256, kernel_size=3, stride=1, padding=1),\n",
    "            nn.BatchNorm2d(num_features=256),\n",
    "            nn.ReLU(),\n",
    "            nn.Conv2d(256, 256, kernel_size=3, stride=1, padding=1),\n",
    "            nn.BatchNorm2d(num_features=256),\n",
    "            nn.ReLU(),\n",
    "            nn.MaxPool2d(kernel_size=2, stride=2),\n",
    "\n",
    "            nn.Conv2d(256, 512, kernel_size=3, stride=1, padding=1),\n",
    "            nn.BatchNorm2d(num_features=512),\n",
    "            nn.ReLU(),\n",
    "            nn.Conv2d(512, 512, kernel_size=3, stride=1, padding=1),\n",
    "            nn.BatchNorm2d(num_features=512),\n",
    "            nn.ReLU(),\n",
    "            nn.Conv2d(512, 512, kernel_size=3, stride=1, padding=1),\n",
    "            nn.BatchNorm2d(num_features=512),\n",
    "            nn.ReLU(),\n",
    "            nn.Conv2d(512, 512, kernel_size=3, stride=1, padding=2),\n",
    "            nn.BatchNorm2d(num_features=512),\n",
    "            nn.ReLU(),\n",
    "            nn.MaxPool2d(kernel_size=2, stride=2),  # Adjusted stride from 2 to 1\n",
    "\n",
    "        )\n",
    "\n",
    "        num_patches = (7 // patch_size) ** 2\n",
    "        patch_dim = 512 * patch_size ** 2\n",
    "\n",
    "        self.patch_size = patch_size\n",
    "\n",
    "        self.pos_embedding = nn.Parameter(torch.randn(32, 1, dim))\n",
    "        self.patch_to_embedding = nn.Linear(patch_dim, dim)\n",
    "        self.cls_token = nn.Parameter(torch.randn(1, 1, dim))\n",
    "        self.transformer = Transformer(dim, depth, heads, mlp_dim)\n",
    "\n",
    "        self.to_cls_token = nn.Identity()\n",
    "\n",
    "        self.mlp_head = nn.Sequential(\n",
    "            nn.Linear(dim, mlp_dim),\n",
    "            nn.ReLU(),\n",
    "            nn.Linear(mlp_dim, num_classes)\n",
    "        )\n",
    "\n",
    "    def forward(self, img, mask=None):\n",
    "        p = self.patch_size\n",
    "        x = self.features(img)\n",
    "        #print(x.shape)\n",
    "        y = rearrange(x, 'b c (h p1) (w p2) -> b (h w) (p1 p2 c)', p1 = p, p2 = p)\n",
    "        y = self.patch_to_embedding(y)\n",
    "        cls_tokens = self.cls_token.expand(x.shape[0], -1, -1)\n",
    "        x = torch.cat((cls_tokens, y), 1)\n",
    "        #batch_size = x.shape[0]\n",
    "        #expanded_pos_embedding = self.pos_embedding[:batch_size]\n",
    "        shape=x.shape[0]\n",
    "        #x = torch.cat((cls_tokens, y), 1)\n",
    "        #x += expanded_pos_embedding\n",
    "        x += self.pos_embedding[0:shape]\n",
    "        x = self.transformer(x, mask)\n",
    "        x = self.to_cls_token(x[:, 0])\n",
    "\n",
    "        return self.mlp_head(x)"
   ]
  },
  {
   "cell_type": "markdown",
   "metadata": {
    "id": "-OpB41c5Wlth"
   },
   "source": [
    "PROCESSING"
   ]
  },
  {
   "cell_type": "code",
   "execution_count": 14,
   "metadata": {
    "id": "C4N2jtCZWSMJ"
   },
   "outputs": [],
   "source": [
    "#For MODEL INPUT\n",
    "LR=0.0001\n",
    "EPOCHS=40\n",
    "BATCH_SIZE = 16\n",
    "#img_size=(IMGSIZE, IMGSIZE) # USER DEFINED\n",
    "#channels=3\n",
    "#img_shape=(img_size[0], img_size[1], channels)"
   ]
  },
  {
   "cell_type": "code",
   "execution_count": 15,
   "metadata": {
    "colab": {
     "base_uri": "https://localhost:8080/",
     "height": 84,
     "referenced_widgets": [
      "fae333f66817476481457ab1d42f128b",
      "7537983fe8d1404c9a763080ae4ab5cf",
      "ebe4b122e9b14546b24762abd6286272",
      "7f28401be0874ecc87506f224d36505e",
      "a2083115b49b4887a62d2c85d4cabf87",
      "dcbf66813e304f1daf2c38a4e34cae06",
      "e9619f297edd469e94e98e0edb0d8789",
      "efd3091e0f59412d924650048153f033",
      "68cd9ab44b52456996c5069126433eb6",
      "c12a054199244410bf85400281ec61c6",
      "a68af7494281409da16a29317d0bd33c"
     ]
    },
    "id": "oX6ADRe6IIkT",
    "outputId": "bc29becd-c6ab-42e9-af09-cc8fc5f59dc7",
    "scrolled": false
   },
   "outputs": [
    {
     "name": "stderr",
     "output_type": "stream",
     "text": [
      "100%|███████████████████████████████████████| 2373/2373 [03:14<00:00, 12.21it/s]\n",
      "100%|█████████████████████████████████████████| 296/296 [00:10<00:00, 27.78it/s]\n"
     ]
    },
    {
     "name": "stdout",
     "output_type": "stream",
     "text": [
      "Epoch: 1 | train_loss: 0.4859 | train_acc: 0.8193 | test_loss: 1.0856 | test_acc: 0.6560\n"
     ]
    },
    {
     "name": "stderr",
     "output_type": "stream",
     "text": [
      "100%|███████████████████████████████████████| 2373/2373 [03:03<00:00, 12.91it/s]\n",
      "100%|█████████████████████████████████████████| 296/296 [00:09<00:00, 31.07it/s]\n"
     ]
    },
    {
     "name": "stdout",
     "output_type": "stream",
     "text": [
      "Epoch: 2 | train_loss: 0.2082 | train_acc: 0.9254 | test_loss: 1.7465 | test_acc: 0.6571\n"
     ]
    },
    {
     "name": "stderr",
     "output_type": "stream",
     "text": [
      "100%|███████████████████████████████████████| 2373/2373 [03:04<00:00, 12.86it/s]\n",
      "100%|█████████████████████████████████████████| 296/296 [00:09<00:00, 30.53it/s]\n"
     ]
    },
    {
     "name": "stdout",
     "output_type": "stream",
     "text": [
      "Epoch: 3 | train_loss: 0.1365 | train_acc: 0.9525 | test_loss: 1.2139 | test_acc: 0.7111\n"
     ]
    },
    {
     "name": "stderr",
     "output_type": "stream",
     "text": [
      "100%|███████████████████████████████████████| 2373/2373 [03:04<00:00, 12.86it/s]\n",
      "100%|█████████████████████████████████████████| 296/296 [00:09<00:00, 30.91it/s]\n"
     ]
    },
    {
     "name": "stdout",
     "output_type": "stream",
     "text": [
      "Epoch: 4 | train_loss: 0.1018 | train_acc: 0.9657 | test_loss: 1.5792 | test_acc: 0.7363\n"
     ]
    },
    {
     "name": "stderr",
     "output_type": "stream",
     "text": [
      "100%|███████████████████████████████████████| 2373/2373 [03:04<00:00, 12.86it/s]\n",
      "100%|█████████████████████████████████████████| 296/296 [00:09<00:00, 30.94it/s]\n"
     ]
    },
    {
     "name": "stdout",
     "output_type": "stream",
     "text": [
      "Epoch: 5 | train_loss: 0.0842 | train_acc: 0.9720 | test_loss: 1.8008 | test_acc: 0.7413\n"
     ]
    },
    {
     "name": "stderr",
     "output_type": "stream",
     "text": [
      "100%|███████████████████████████████████████| 2373/2373 [03:04<00:00, 12.87it/s]\n",
      "100%|█████████████████████████████████████████| 296/296 [00:09<00:00, 30.79it/s]\n"
     ]
    },
    {
     "name": "stdout",
     "output_type": "stream",
     "text": [
      "Epoch: 6 | train_loss: 0.0733 | train_acc: 0.9756 | test_loss: 1.2188 | test_acc: 0.7249\n"
     ]
    },
    {
     "name": "stderr",
     "output_type": "stream",
     "text": [
      "100%|███████████████████████████████████████| 2373/2373 [03:04<00:00, 12.89it/s]\n",
      "100%|█████████████████████████████████████████| 296/296 [00:09<00:00, 30.79it/s]\n"
     ]
    },
    {
     "name": "stdout",
     "output_type": "stream",
     "text": [
      "Epoch: 7 | train_loss: 0.0958 | train_acc: 0.9729 | test_loss: 1.3781 | test_acc: 0.7335\n"
     ]
    },
    {
     "name": "stderr",
     "output_type": "stream",
     "text": [
      "100%|███████████████████████████████████████| 2373/2373 [03:03<00:00, 12.92it/s]\n",
      "100%|█████████████████████████████████████████| 296/296 [00:09<00:00, 31.01it/s]\n"
     ]
    },
    {
     "name": "stdout",
     "output_type": "stream",
     "text": [
      "Epoch: 8 | train_loss: 0.0427 | train_acc: 0.9857 | test_loss: 1.8783 | test_acc: 0.7238\n"
     ]
    },
    {
     "name": "stderr",
     "output_type": "stream",
     "text": [
      "100%|███████████████████████████████████████| 2373/2373 [03:05<00:00, 12.79it/s]\n",
      "100%|█████████████████████████████████████████| 296/296 [00:09<00:00, 30.97it/s]\n"
     ]
    },
    {
     "name": "stdout",
     "output_type": "stream",
     "text": [
      "Epoch: 9 | train_loss: 0.0434 | train_acc: 0.9848 | test_loss: 1.5945 | test_acc: 0.7240\n"
     ]
    },
    {
     "name": "stderr",
     "output_type": "stream",
     "text": [
      "100%|███████████████████████████████████████| 2373/2373 [03:09<00:00, 12.55it/s]\n",
      "100%|█████████████████████████████████████████| 296/296 [00:09<00:00, 30.87it/s]\n"
     ]
    },
    {
     "name": "stdout",
     "output_type": "stream",
     "text": [
      "Epoch: 10 | train_loss: 0.1577 | train_acc: 0.9544 | test_loss: 1.1276 | test_acc: 0.7325\n"
     ]
    },
    {
     "name": "stderr",
     "output_type": "stream",
     "text": [
      "100%|███████████████████████████████████████| 2373/2373 [03:07<00:00, 12.64it/s]\n",
      "100%|█████████████████████████████████████████| 296/296 [00:09<00:00, 30.04it/s]\n"
     ]
    },
    {
     "name": "stdout",
     "output_type": "stream",
     "text": [
      "Epoch: 11 | train_loss: 0.0528 | train_acc: 0.9809 | test_loss: 1.3844 | test_acc: 0.7720\n"
     ]
    },
    {
     "name": "stderr",
     "output_type": "stream",
     "text": [
      "100%|███████████████████████████████████████| 2373/2373 [03:06<00:00, 12.75it/s]\n",
      "100%|█████████████████████████████████████████| 296/296 [00:09<00:00, 30.87it/s]\n"
     ]
    },
    {
     "name": "stdout",
     "output_type": "stream",
     "text": [
      "Epoch: 12 | train_loss: 0.0386 | train_acc: 0.9875 | test_loss: 2.0545 | test_acc: 0.7437\n"
     ]
    },
    {
     "name": "stderr",
     "output_type": "stream",
     "text": [
      "100%|███████████████████████████████████████| 2373/2373 [03:07<00:00, 12.63it/s]\n",
      "100%|█████████████████████████████████████████| 296/296 [00:09<00:00, 30.67it/s]\n"
     ]
    },
    {
     "name": "stdout",
     "output_type": "stream",
     "text": [
      "Epoch: 13 | train_loss: 0.0292 | train_acc: 0.9901 | test_loss: 2.1438 | test_acc: 0.6860\n"
     ]
    },
    {
     "name": "stderr",
     "output_type": "stream",
     "text": [
      "100%|███████████████████████████████████████| 2373/2373 [03:06<00:00, 12.70it/s]\n",
      "100%|█████████████████████████████████████████| 296/296 [00:09<00:00, 30.30it/s]\n"
     ]
    },
    {
     "name": "stdout",
     "output_type": "stream",
     "text": [
      "Epoch: 14 | train_loss: 0.0325 | train_acc: 0.9895 | test_loss: 1.1103 | test_acc: 0.7475\n"
     ]
    },
    {
     "name": "stderr",
     "output_type": "stream",
     "text": [
      "100%|███████████████████████████████████████| 2373/2373 [03:05<00:00, 12.81it/s]\n",
      "100%|█████████████████████████████████████████| 296/296 [00:09<00:00, 31.02it/s]\n"
     ]
    },
    {
     "name": "stdout",
     "output_type": "stream",
     "text": [
      "Epoch: 15 | train_loss: 0.0369 | train_acc: 0.9879 | test_loss: 1.3414 | test_acc: 0.7783\n"
     ]
    },
    {
     "name": "stderr",
     "output_type": "stream",
     "text": [
      "100%|███████████████████████████████████████| 2373/2373 [03:04<00:00, 12.89it/s]\n",
      "100%|█████████████████████████████████████████| 296/296 [00:09<00:00, 30.76it/s]\n"
     ]
    },
    {
     "name": "stdout",
     "output_type": "stream",
     "text": [
      "Epoch: 16 | train_loss: 0.0393 | train_acc: 0.9880 | test_loss: 1.7190 | test_acc: 0.6974\n"
     ]
    },
    {
     "name": "stderr",
     "output_type": "stream",
     "text": [
      "100%|███████████████████████████████████████| 2373/2373 [03:04<00:00, 12.89it/s]\n",
      "100%|█████████████████████████████████████████| 296/296 [00:09<00:00, 30.86it/s]\n"
     ]
    },
    {
     "name": "stdout",
     "output_type": "stream",
     "text": [
      "Epoch: 17 | train_loss: 0.0370 | train_acc: 0.9890 | test_loss: 1.6931 | test_acc: 0.7337\n"
     ]
    },
    {
     "name": "stderr",
     "output_type": "stream",
     "text": [
      "100%|███████████████████████████████████████| 2373/2373 [03:03<00:00, 12.90it/s]\n",
      "100%|█████████████████████████████████████████| 296/296 [00:09<00:00, 30.57it/s]\n"
     ]
    },
    {
     "name": "stdout",
     "output_type": "stream",
     "text": [
      "Epoch: 18 | train_loss: 0.0290 | train_acc: 0.9902 | test_loss: 1.4401 | test_acc: 0.7694\n"
     ]
    },
    {
     "name": "stderr",
     "output_type": "stream",
     "text": [
      "100%|███████████████████████████████████████| 2373/2373 [03:03<00:00, 12.92it/s]\n",
      "100%|█████████████████████████████████████████| 296/296 [00:09<00:00, 30.77it/s]\n"
     ]
    },
    {
     "name": "stdout",
     "output_type": "stream",
     "text": [
      "Epoch: 19 | train_loss: 0.0355 | train_acc: 0.9901 | test_loss: 1.3303 | test_acc: 0.8072\n"
     ]
    },
    {
     "name": "stderr",
     "output_type": "stream",
     "text": [
      "100%|███████████████████████████████████████| 2373/2373 [03:04<00:00, 12.88it/s]\n",
      "100%|█████████████████████████████████████████| 296/296 [00:09<00:00, 30.91it/s]\n"
     ]
    },
    {
     "name": "stdout",
     "output_type": "stream",
     "text": [
      "Epoch: 20 | train_loss: 0.0218 | train_acc: 0.9930 | test_loss: 1.1274 | test_acc: 0.7158\n"
     ]
    },
    {
     "name": "stderr",
     "output_type": "stream",
     "text": [
      "100%|███████████████████████████████████████| 2373/2373 [03:04<00:00, 12.87it/s]\n",
      "100%|█████████████████████████████████████████| 296/296 [00:09<00:00, 30.97it/s]\n"
     ]
    },
    {
     "name": "stdout",
     "output_type": "stream",
     "text": [
      "Epoch: 21 | train_loss: 0.0320 | train_acc: 0.9901 | test_loss: 1.7003 | test_acc: 0.7485\n"
     ]
    },
    {
     "name": "stderr",
     "output_type": "stream",
     "text": [
      "100%|███████████████████████████████████████| 2373/2373 [03:03<00:00, 12.92it/s]\n",
      "100%|█████████████████████████████████████████| 296/296 [00:09<00:00, 30.97it/s]\n"
     ]
    },
    {
     "name": "stdout",
     "output_type": "stream",
     "text": [
      "Epoch: 22 | train_loss: 0.0201 | train_acc: 0.9942 | test_loss: 1.4767 | test_acc: 0.7515\n"
     ]
    },
    {
     "name": "stderr",
     "output_type": "stream",
     "text": [
      "100%|███████████████████████████████████████| 2373/2373 [03:03<00:00, 12.91it/s]\n",
      "100%|█████████████████████████████████████████| 296/296 [00:09<00:00, 30.98it/s]\n"
     ]
    },
    {
     "name": "stdout",
     "output_type": "stream",
     "text": [
      "Epoch: 23 | train_loss: 0.0237 | train_acc: 0.9934 | test_loss: 1.7370 | test_acc: 0.7340\n"
     ]
    },
    {
     "name": "stderr",
     "output_type": "stream",
     "text": [
      "100%|███████████████████████████████████████| 2373/2373 [03:05<00:00, 12.82it/s]\n",
      "100%|█████████████████████████████████████████| 296/296 [00:09<00:00, 30.87it/s]\n"
     ]
    },
    {
     "name": "stdout",
     "output_type": "stream",
     "text": [
      "Epoch: 24 | train_loss: 0.0231 | train_acc: 0.9927 | test_loss: 2.3113 | test_acc: 0.7175\n"
     ]
    },
    {
     "name": "stderr",
     "output_type": "stream",
     "text": [
      "100%|███████████████████████████████████████| 2373/2373 [03:03<00:00, 12.91it/s]\n",
      "100%|█████████████████████████████████████████| 296/296 [00:09<00:00, 31.05it/s]\n"
     ]
    },
    {
     "name": "stdout",
     "output_type": "stream",
     "text": [
      "Epoch: 25 | train_loss: 0.0239 | train_acc: 0.9929 | test_loss: 1.7784 | test_acc: 0.7109\n"
     ]
    },
    {
     "name": "stderr",
     "output_type": "stream",
     "text": [
      "100%|███████████████████████████████████████| 2373/2373 [03:04<00:00, 12.87it/s]\n",
      "100%|█████████████████████████████████████████| 296/296 [00:09<00:00, 30.98it/s]\n"
     ]
    },
    {
     "name": "stdout",
     "output_type": "stream",
     "text": [
      "Epoch: 26 | train_loss: 0.0223 | train_acc: 0.9934 | test_loss: 2.2753 | test_acc: 0.7259\n"
     ]
    },
    {
     "name": "stderr",
     "output_type": "stream",
     "text": [
      "100%|███████████████████████████████████████| 2373/2373 [03:04<00:00, 12.89it/s]\n",
      "100%|█████████████████████████████████████████| 296/296 [00:09<00:00, 30.92it/s]\n"
     ]
    },
    {
     "name": "stdout",
     "output_type": "stream",
     "text": [
      "Epoch: 27 | train_loss: 0.0284 | train_acc: 0.9918 | test_loss: 1.9343 | test_acc: 0.7162\n"
     ]
    },
    {
     "name": "stderr",
     "output_type": "stream",
     "text": [
      "100%|███████████████████████████████████████| 2373/2373 [03:04<00:00, 12.87it/s]\n",
      "100%|█████████████████████████████████████████| 296/296 [00:09<00:00, 30.25it/s]\n"
     ]
    },
    {
     "name": "stdout",
     "output_type": "stream",
     "text": [
      "Epoch: 28 | train_loss: 0.0136 | train_acc: 0.9956 | test_loss: 2.6830 | test_acc: 0.7257\n"
     ]
    },
    {
     "name": "stderr",
     "output_type": "stream",
     "text": [
      "100%|███████████████████████████████████████| 2373/2373 [03:03<00:00, 12.90it/s]\n",
      "100%|█████████████████████████████████████████| 296/296 [00:09<00:00, 30.98it/s]\n"
     ]
    },
    {
     "name": "stdout",
     "output_type": "stream",
     "text": [
      "Epoch: 29 | train_loss: 0.0161 | train_acc: 0.9953 | test_loss: 1.9740 | test_acc: 0.7517\n"
     ]
    },
    {
     "name": "stderr",
     "output_type": "stream",
     "text": [
      "100%|███████████████████████████████████████| 2373/2373 [03:03<00:00, 12.94it/s]\n",
      "100%|█████████████████████████████████████████| 296/296 [00:09<00:00, 30.86it/s]\n"
     ]
    },
    {
     "name": "stdout",
     "output_type": "stream",
     "text": [
      "Epoch: 30 | train_loss: 0.0200 | train_acc: 0.9940 | test_loss: 1.1978 | test_acc: 0.7641\n"
     ]
    },
    {
     "name": "stderr",
     "output_type": "stream",
     "text": [
      "100%|███████████████████████████████████████| 2373/2373 [03:04<00:00, 12.89it/s]\n",
      "100%|█████████████████████████████████████████| 296/296 [00:09<00:00, 30.94it/s]\n"
     ]
    },
    {
     "name": "stdout",
     "output_type": "stream",
     "text": [
      "Epoch: 31 | train_loss: 0.0129 | train_acc: 0.9962 | test_loss: 2.0236 | test_acc: 0.6841\n"
     ]
    },
    {
     "name": "stderr",
     "output_type": "stream",
     "text": [
      "100%|███████████████████████████████████████| 2373/2373 [03:03<00:00, 12.94it/s]\n",
      "100%|█████████████████████████████████████████| 296/296 [00:09<00:00, 30.58it/s]\n"
     ]
    },
    {
     "name": "stdout",
     "output_type": "stream",
     "text": [
      "Epoch: 32 | train_loss: 0.0202 | train_acc: 0.9937 | test_loss: 1.9762 | test_acc: 0.7147\n"
     ]
    },
    {
     "name": "stderr",
     "output_type": "stream",
     "text": [
      "100%|███████████████████████████████████████| 2373/2373 [03:03<00:00, 12.90it/s]\n",
      "100%|█████████████████████████████████████████| 296/296 [00:09<00:00, 30.89it/s]\n"
     ]
    },
    {
     "name": "stdout",
     "output_type": "stream",
     "text": [
      "Epoch: 33 | train_loss: 0.0170 | train_acc: 0.9949 | test_loss: 1.8994 | test_acc: 0.7561\n"
     ]
    },
    {
     "name": "stderr",
     "output_type": "stream",
     "text": [
      "100%|███████████████████████████████████████| 2373/2373 [03:04<00:00, 12.89it/s]\n",
      "100%|█████████████████████████████████████████| 296/296 [00:09<00:00, 30.96it/s]\n"
     ]
    },
    {
     "name": "stdout",
     "output_type": "stream",
     "text": [
      "Epoch: 34 | train_loss: 0.0145 | train_acc: 0.9957 | test_loss: 1.8055 | test_acc: 0.7088\n"
     ]
    },
    {
     "name": "stderr",
     "output_type": "stream",
     "text": [
      "100%|███████████████████████████████████████| 2373/2373 [03:04<00:00, 12.89it/s]\n",
      "100%|█████████████████████████████████████████| 296/296 [00:09<00:00, 31.20it/s]\n"
     ]
    },
    {
     "name": "stdout",
     "output_type": "stream",
     "text": [
      "Epoch: 35 | train_loss: 0.0136 | train_acc: 0.9967 | test_loss: 1.4529 | test_acc: 0.7500\n"
     ]
    },
    {
     "name": "stderr",
     "output_type": "stream",
     "text": [
      "100%|███████████████████████████████████████| 2373/2373 [03:04<00:00, 12.85it/s]\n",
      "100%|█████████████████████████████████████████| 296/296 [00:09<00:00, 31.04it/s]\n"
     ]
    },
    {
     "name": "stdout",
     "output_type": "stream",
     "text": [
      "Epoch: 36 | train_loss: 0.0146 | train_acc: 0.9961 | test_loss: 2.2844 | test_acc: 0.7365\n"
     ]
    },
    {
     "name": "stderr",
     "output_type": "stream",
     "text": [
      "100%|███████████████████████████████████████| 2373/2373 [03:03<00:00, 12.93it/s]\n",
      "100%|█████████████████████████████████████████| 296/296 [00:09<00:00, 30.67it/s]\n"
     ]
    },
    {
     "name": "stdout",
     "output_type": "stream",
     "text": [
      "Epoch: 37 | train_loss: 0.0149 | train_acc: 0.9956 | test_loss: 1.6121 | test_acc: 0.6721\n"
     ]
    },
    {
     "name": "stderr",
     "output_type": "stream",
     "text": [
      "100%|███████████████████████████████████████| 2373/2373 [03:03<00:00, 12.90it/s]\n",
      "100%|█████████████████████████████████████████| 296/296 [00:09<00:00, 31.18it/s]\n"
     ]
    },
    {
     "name": "stdout",
     "output_type": "stream",
     "text": [
      "Epoch: 38 | train_loss: 0.0157 | train_acc: 0.9960 | test_loss: 2.6038 | test_acc: 0.7523\n"
     ]
    },
    {
     "name": "stderr",
     "output_type": "stream",
     "text": [
      "100%|███████████████████████████████████████| 2373/2373 [03:04<00:00, 12.90it/s]\n",
      "100%|█████████████████████████████████████████| 296/296 [00:09<00:00, 30.68it/s]\n"
     ]
    },
    {
     "name": "stdout",
     "output_type": "stream",
     "text": [
      "Epoch: 39 | train_loss: 0.0109 | train_acc: 0.9970 | test_loss: 2.3041 | test_acc: 0.7264\n"
     ]
    },
    {
     "name": "stderr",
     "output_type": "stream",
     "text": [
      "100%|███████████████████████████████████████| 2373/2373 [03:03<00:00, 12.94it/s]\n",
      "100%|█████████████████████████████████████████| 296/296 [00:09<00:00, 30.94it/s]\n"
     ]
    },
    {
     "name": "stdout",
     "output_type": "stream",
     "text": [
      "Epoch: 40 | train_loss: 0.0118 | train_acc: 0.9965 | test_loss: 3.8254 | test_acc: 0.7549\n",
      "Confusion matrix: \n",
      "[[ 576    0    0    0]\n",
      " [   0  686  170    8]\n",
      " [  71   39 2211  238]\n",
      " [  11    0  443  378]]\n",
      "Precision: 0.7926443015116248\n",
      "Recall: 0.7971434485613744\n",
      "F1 score: 0.7902893488893182\n"
     ]
    },
    {
     "name": "stderr",
     "output_type": "stream",
     "text": [
      "100%|███████████████████████████████████████| 2387/2387 [03:05<00:00, 12.84it/s]\n",
      "100%|█████████████████████████████████████████| 302/302 [00:09<00:00, 31.92it/s]\n"
     ]
    },
    {
     "name": "stdout",
     "output_type": "stream",
     "text": [
      "Epoch: 1 | train_loss: 0.4871 | train_acc: 0.8105 | test_loss: 0.6595 | test_acc: 0.7618\n"
     ]
    },
    {
     "name": "stderr",
     "output_type": "stream",
     "text": [
      "100%|███████████████████████████████████████| 2387/2387 [03:06<00:00, 12.83it/s]\n",
      "100%|█████████████████████████████████████████| 302/302 [00:09<00:00, 31.52it/s]\n"
     ]
    },
    {
     "name": "stdout",
     "output_type": "stream",
     "text": [
      "Epoch: 2 | train_loss: 0.2174 | train_acc: 0.9202 | test_loss: 0.9265 | test_acc: 0.7167\n"
     ]
    },
    {
     "name": "stderr",
     "output_type": "stream",
     "text": [
      "100%|███████████████████████████████████████| 2387/2387 [03:05<00:00, 12.85it/s]\n",
      "100%|█████████████████████████████████████████| 302/302 [00:09<00:00, 31.66it/s]\n"
     ]
    },
    {
     "name": "stdout",
     "output_type": "stream",
     "text": [
      "Epoch: 3 | train_loss: 0.2463 | train_acc: 0.9157 | test_loss: 0.3951 | test_acc: 0.8516\n"
     ]
    },
    {
     "name": "stderr",
     "output_type": "stream",
     "text": [
      "100%|███████████████████████████████████████| 2387/2387 [03:05<00:00, 12.87it/s]\n",
      "100%|█████████████████████████████████████████| 302/302 [00:09<00:00, 31.88it/s]\n"
     ]
    },
    {
     "name": "stdout",
     "output_type": "stream",
     "text": [
      "Epoch: 4 | train_loss: 0.1072 | train_acc: 0.9631 | test_loss: 0.8678 | test_acc: 0.7591\n"
     ]
    },
    {
     "name": "stderr",
     "output_type": "stream",
     "text": [
      "100%|███████████████████████████████████████| 2387/2387 [03:06<00:00, 12.82it/s]\n",
      "100%|█████████████████████████████████████████| 302/302 [00:09<00:00, 31.35it/s]\n"
     ]
    },
    {
     "name": "stdout",
     "output_type": "stream",
     "text": [
      "Epoch: 5 | train_loss: 0.0946 | train_acc: 0.9673 | test_loss: 0.8861 | test_acc: 0.7887\n"
     ]
    },
    {
     "name": "stderr",
     "output_type": "stream",
     "text": [
      "100%|███████████████████████████████████████| 2387/2387 [03:06<00:00, 12.80it/s]\n",
      "100%|█████████████████████████████████████████| 302/302 [00:09<00:00, 31.71it/s]\n"
     ]
    },
    {
     "name": "stdout",
     "output_type": "stream",
     "text": [
      "Epoch: 6 | train_loss: 0.0840 | train_acc: 0.9716 | test_loss: 0.7672 | test_acc: 0.7995\n"
     ]
    },
    {
     "name": "stderr",
     "output_type": "stream",
     "text": [
      "100%|███████████████████████████████████████| 2387/2387 [03:06<00:00, 12.82it/s]\n",
      "100%|█████████████████████████████████████████| 302/302 [00:09<00:00, 31.79it/s]\n"
     ]
    },
    {
     "name": "stdout",
     "output_type": "stream",
     "text": [
      "Epoch: 7 | train_loss: 0.0614 | train_acc: 0.9792 | test_loss: 0.9482 | test_acc: 0.7852\n"
     ]
    },
    {
     "name": "stderr",
     "output_type": "stream",
     "text": [
      "100%|███████████████████████████████████████| 2387/2387 [03:05<00:00, 12.84it/s]\n",
      "100%|█████████████████████████████████████████| 302/302 [00:09<00:00, 31.92it/s]\n"
     ]
    },
    {
     "name": "stdout",
     "output_type": "stream",
     "text": [
      "Epoch: 8 | train_loss: 0.0534 | train_acc: 0.9820 | test_loss: 0.5793 | test_acc: 0.8431\n"
     ]
    },
    {
     "name": "stderr",
     "output_type": "stream",
     "text": [
      "100%|███████████████████████████████████████| 2387/2387 [03:05<00:00, 12.85it/s]\n",
      "100%|█████████████████████████████████████████| 302/302 [00:09<00:00, 31.69it/s]\n"
     ]
    },
    {
     "name": "stdout",
     "output_type": "stream",
     "text": [
      "Epoch: 9 | train_loss: 0.0532 | train_acc: 0.9825 | test_loss: 0.9083 | test_acc: 0.7409\n"
     ]
    },
    {
     "name": "stderr",
     "output_type": "stream",
     "text": [
      "100%|███████████████████████████████████████| 2387/2387 [03:05<00:00, 12.84it/s]\n",
      "100%|█████████████████████████████████████████| 302/302 [00:09<00:00, 31.73it/s]\n"
     ]
    },
    {
     "name": "stdout",
     "output_type": "stream",
     "text": [
      "Epoch: 10 | train_loss: 0.0440 | train_acc: 0.9853 | test_loss: 1.1752 | test_acc: 0.8115\n"
     ]
    },
    {
     "name": "stderr",
     "output_type": "stream",
     "text": [
      "100%|███████████████████████████████████████| 2387/2387 [03:05<00:00, 12.84it/s]\n",
      "100%|█████████████████████████████████████████| 302/302 [00:09<00:00, 31.88it/s]\n"
     ]
    },
    {
     "name": "stdout",
     "output_type": "stream",
     "text": [
      "Epoch: 11 | train_loss: 0.0370 | train_acc: 0.9877 | test_loss: 1.5631 | test_acc: 0.7384\n"
     ]
    },
    {
     "name": "stderr",
     "output_type": "stream",
     "text": [
      "100%|███████████████████████████████████████| 2387/2387 [03:05<00:00, 12.86it/s]\n",
      "100%|█████████████████████████████████████████| 302/302 [00:09<00:00, 31.89it/s]\n"
     ]
    },
    {
     "name": "stdout",
     "output_type": "stream",
     "text": [
      "Epoch: 12 | train_loss: 0.0391 | train_acc: 0.9875 | test_loss: 1.1015 | test_acc: 0.8212\n"
     ]
    },
    {
     "name": "stderr",
     "output_type": "stream",
     "text": [
      "100%|███████████████████████████████████████| 2387/2387 [03:05<00:00, 12.85it/s]\n",
      "100%|█████████████████████████████████████████| 302/302 [00:09<00:00, 31.77it/s]\n"
     ]
    },
    {
     "name": "stdout",
     "output_type": "stream",
     "text": [
      "Epoch: 13 | train_loss: 0.0406 | train_acc: 0.9879 | test_loss: 0.8404 | test_acc: 0.7895\n"
     ]
    },
    {
     "name": "stderr",
     "output_type": "stream",
     "text": [
      "100%|███████████████████████████████████████| 2387/2387 [03:05<00:00, 12.85it/s]\n",
      "100%|█████████████████████████████████████████| 302/302 [00:09<00:00, 31.76it/s]\n"
     ]
    },
    {
     "name": "stdout",
     "output_type": "stream",
     "text": [
      "Epoch: 14 | train_loss: 0.0290 | train_acc: 0.9905 | test_loss: 0.6878 | test_acc: 0.8144\n"
     ]
    },
    {
     "name": "stderr",
     "output_type": "stream",
     "text": [
      "100%|███████████████████████████████████████| 2387/2387 [03:05<00:00, 12.86it/s]\n",
      "100%|█████████████████████████████████████████| 302/302 [00:09<00:00, 31.92it/s]\n"
     ]
    },
    {
     "name": "stdout",
     "output_type": "stream",
     "text": [
      "Epoch: 15 | train_loss: 0.0313 | train_acc: 0.9899 | test_loss: 0.8914 | test_acc: 0.8326\n"
     ]
    },
    {
     "name": "stderr",
     "output_type": "stream",
     "text": [
      "100%|███████████████████████████████████████| 2387/2387 [03:05<00:00, 12.85it/s]\n",
      "100%|█████████████████████████████████████████| 302/302 [00:09<00:00, 31.81it/s]\n"
     ]
    },
    {
     "name": "stdout",
     "output_type": "stream",
     "text": [
      "Epoch: 16 | train_loss: 0.0235 | train_acc: 0.9927 | test_loss: 1.0537 | test_acc: 0.7941\n"
     ]
    },
    {
     "name": "stderr",
     "output_type": "stream",
     "text": [
      "100%|███████████████████████████████████████| 2387/2387 [03:05<00:00, 12.86it/s]\n",
      "100%|█████████████████████████████████████████| 302/302 [00:09<00:00, 31.74it/s]\n"
     ]
    },
    {
     "name": "stdout",
     "output_type": "stream",
     "text": [
      "Epoch: 17 | train_loss: 0.0334 | train_acc: 0.9896 | test_loss: 1.2636 | test_acc: 0.7916\n"
     ]
    },
    {
     "name": "stderr",
     "output_type": "stream",
     "text": [
      "100%|███████████████████████████████████████| 2387/2387 [03:06<00:00, 12.81it/s]\n",
      "100%|█████████████████████████████████████████| 302/302 [00:09<00:00, 31.84it/s]\n"
     ]
    },
    {
     "name": "stdout",
     "output_type": "stream",
     "text": [
      "Epoch: 18 | train_loss: 0.0268 | train_acc: 0.9919 | test_loss: 1.6147 | test_acc: 0.7523\n"
     ]
    },
    {
     "name": "stderr",
     "output_type": "stream",
     "text": [
      "100%|███████████████████████████████████████| 2387/2387 [03:05<00:00, 12.85it/s]\n",
      "100%|█████████████████████████████████████████| 302/302 [00:09<00:00, 31.45it/s]\n"
     ]
    },
    {
     "name": "stdout",
     "output_type": "stream",
     "text": [
      "Epoch: 19 | train_loss: 0.0249 | train_acc: 0.9919 | test_loss: 0.5430 | test_acc: 0.8235\n"
     ]
    },
    {
     "name": "stderr",
     "output_type": "stream",
     "text": [
      "100%|███████████████████████████████████████| 2387/2387 [03:06<00:00, 12.82it/s]\n",
      "100%|█████████████████████████████████████████| 302/302 [00:09<00:00, 31.57it/s]\n"
     ]
    },
    {
     "name": "stdout",
     "output_type": "stream",
     "text": [
      "Epoch: 20 | train_loss: 0.0241 | train_acc: 0.9926 | test_loss: 1.1988 | test_acc: 0.7781\n"
     ]
    },
    {
     "name": "stderr",
     "output_type": "stream",
     "text": [
      "100%|███████████████████████████████████████| 2387/2387 [03:05<00:00, 12.84it/s]\n",
      "100%|█████████████████████████████████████████| 302/302 [00:09<00:00, 31.74it/s]\n"
     ]
    },
    {
     "name": "stdout",
     "output_type": "stream",
     "text": [
      "Epoch: 21 | train_loss: 0.0213 | train_acc: 0.9934 | test_loss: 0.8270 | test_acc: 0.8373\n"
     ]
    },
    {
     "name": "stderr",
     "output_type": "stream",
     "text": [
      "100%|███████████████████████████████████████| 2387/2387 [03:05<00:00, 12.84it/s]\n",
      "100%|█████████████████████████████████████████| 302/302 [00:09<00:00, 31.74it/s]\n"
     ]
    },
    {
     "name": "stdout",
     "output_type": "stream",
     "text": [
      "Epoch: 22 | train_loss: 0.0248 | train_acc: 0.9926 | test_loss: 1.5569 | test_acc: 0.8129\n"
     ]
    },
    {
     "name": "stderr",
     "output_type": "stream",
     "text": [
      "100%|███████████████████████████████████████| 2387/2387 [03:05<00:00, 12.85it/s]\n",
      "100%|█████████████████████████████████████████| 302/302 [00:09<00:00, 31.88it/s]\n"
     ]
    },
    {
     "name": "stdout",
     "output_type": "stream",
     "text": [
      "Epoch: 23 | train_loss: 0.0188 | train_acc: 0.9949 | test_loss: 0.6868 | test_acc: 0.8419\n"
     ]
    },
    {
     "name": "stderr",
     "output_type": "stream",
     "text": [
      "100%|███████████████████████████████████████| 2387/2387 [03:06<00:00, 12.83it/s]\n",
      "100%|█████████████████████████████████████████| 302/302 [00:09<00:00, 31.66it/s]\n"
     ]
    },
    {
     "name": "stdout",
     "output_type": "stream",
     "text": [
      "Epoch: 24 | train_loss: 0.2076 | train_acc: 0.9346 | test_loss: 0.3926 | test_acc: 0.8506\n"
     ]
    },
    {
     "name": "stderr",
     "output_type": "stream",
     "text": [
      "100%|███████████████████████████████████████| 2387/2387 [03:05<00:00, 12.88it/s]\n",
      "100%|█████████████████████████████████████████| 302/302 [00:09<00:00, 31.89it/s]\n"
     ]
    },
    {
     "name": "stdout",
     "output_type": "stream",
     "text": [
      "Epoch: 25 | train_loss: 0.0586 | train_acc: 0.9798 | test_loss: 0.7370 | test_acc: 0.8237\n"
     ]
    },
    {
     "name": "stderr",
     "output_type": "stream",
     "text": [
      "100%|███████████████████████████████████████| 2387/2387 [03:05<00:00, 12.85it/s]\n",
      "100%|█████████████████████████████████████████| 302/302 [00:09<00:00, 31.57it/s]\n"
     ]
    },
    {
     "name": "stdout",
     "output_type": "stream",
     "text": [
      "Epoch: 26 | train_loss: 0.0135 | train_acc: 0.9952 | test_loss: 0.8059 | test_acc: 0.8535\n"
     ]
    },
    {
     "name": "stderr",
     "output_type": "stream",
     "text": [
      "100%|███████████████████████████████████████| 2387/2387 [03:06<00:00, 12.81it/s]\n",
      "100%|█████████████████████████████████████████| 302/302 [00:09<00:00, 31.51it/s]\n"
     ]
    },
    {
     "name": "stdout",
     "output_type": "stream",
     "text": [
      "Epoch: 27 | train_loss: 0.0094 | train_acc: 0.9969 | test_loss: 1.3459 | test_acc: 0.8160\n"
     ]
    },
    {
     "name": "stderr",
     "output_type": "stream",
     "text": [
      "100%|███████████████████████████████████████| 2387/2387 [03:05<00:00, 12.84it/s]\n",
      "100%|█████████████████████████████████████████| 302/302 [00:09<00:00, 31.85it/s]\n"
     ]
    },
    {
     "name": "stdout",
     "output_type": "stream",
     "text": [
      "Epoch: 28 | train_loss: 0.0172 | train_acc: 0.9953 | test_loss: 1.0435 | test_acc: 0.8154\n"
     ]
    },
    {
     "name": "stderr",
     "output_type": "stream",
     "text": [
      "100%|███████████████████████████████████████| 2387/2387 [03:05<00:00, 12.84it/s]\n",
      "100%|█████████████████████████████████████████| 302/302 [00:09<00:00, 31.48it/s]\n"
     ]
    },
    {
     "name": "stdout",
     "output_type": "stream",
     "text": [
      "Epoch: 29 | train_loss: 0.0241 | train_acc: 0.9930 | test_loss: 0.9236 | test_acc: 0.8419\n"
     ]
    },
    {
     "name": "stderr",
     "output_type": "stream",
     "text": [
      "100%|███████████████████████████████████████| 2387/2387 [03:05<00:00, 12.86it/s]\n",
      "100%|█████████████████████████████████████████| 302/302 [00:09<00:00, 31.74it/s]\n"
     ]
    },
    {
     "name": "stdout",
     "output_type": "stream",
     "text": [
      "Epoch: 30 | train_loss: 0.0173 | train_acc: 0.9943 | test_loss: 0.8098 | test_acc: 0.8369\n"
     ]
    },
    {
     "name": "stderr",
     "output_type": "stream",
     "text": [
      "100%|███████████████████████████████████████| 2387/2387 [03:05<00:00, 12.84it/s]\n",
      "100%|█████████████████████████████████████████| 302/302 [00:09<00:00, 31.66it/s]\n"
     ]
    },
    {
     "name": "stdout",
     "output_type": "stream",
     "text": [
      "Epoch: 31 | train_loss: 0.0207 | train_acc: 0.9944 | test_loss: 0.9449 | test_acc: 0.8299\n"
     ]
    },
    {
     "name": "stderr",
     "output_type": "stream",
     "text": [
      "100%|███████████████████████████████████████| 2387/2387 [03:05<00:00, 12.86it/s]\n",
      "100%|█████████████████████████████████████████| 302/302 [00:09<00:00, 31.58it/s]\n"
     ]
    },
    {
     "name": "stdout",
     "output_type": "stream",
     "text": [
      "Epoch: 32 | train_loss: 0.0176 | train_acc: 0.9948 | test_loss: 0.8831 | test_acc: 0.8249\n"
     ]
    },
    {
     "name": "stderr",
     "output_type": "stream",
     "text": [
      "100%|███████████████████████████████████████| 2387/2387 [03:06<00:00, 12.81it/s]\n",
      "100%|█████████████████████████████████████████| 302/302 [00:09<00:00, 31.81it/s]\n"
     ]
    },
    {
     "name": "stdout",
     "output_type": "stream",
     "text": [
      "Epoch: 33 | train_loss: 0.0150 | train_acc: 0.9959 | test_loss: 1.7310 | test_acc: 0.8115\n"
     ]
    },
    {
     "name": "stderr",
     "output_type": "stream",
     "text": [
      "100%|███████████████████████████████████████| 2387/2387 [03:05<00:00, 12.84it/s]\n",
      "100%|█████████████████████████████████████████| 302/302 [00:09<00:00, 31.92it/s]\n"
     ]
    },
    {
     "name": "stdout",
     "output_type": "stream",
     "text": [
      "Epoch: 34 | train_loss: 0.0173 | train_acc: 0.9953 | test_loss: 1.5466 | test_acc: 0.8185\n"
     ]
    },
    {
     "name": "stderr",
     "output_type": "stream",
     "text": [
      "100%|███████████████████████████████████████| 2387/2387 [03:06<00:00, 12.81it/s]\n",
      "100%|█████████████████████████████████████████| 302/302 [00:09<00:00, 31.81it/s]\n"
     ]
    },
    {
     "name": "stdout",
     "output_type": "stream",
     "text": [
      "Epoch: 35 | train_loss: 0.0196 | train_acc: 0.9945 | test_loss: 0.9396 | test_acc: 0.8247\n"
     ]
    },
    {
     "name": "stderr",
     "output_type": "stream",
     "text": [
      "100%|███████████████████████████████████████| 2387/2387 [03:07<00:00, 12.75it/s]\n",
      "100%|█████████████████████████████████████████| 302/302 [00:09<00:00, 31.58it/s]\n"
     ]
    },
    {
     "name": "stdout",
     "output_type": "stream",
     "text": [
      "Epoch: 36 | train_loss: 0.0116 | train_acc: 0.9971 | test_loss: 1.2226 | test_acc: 0.8069\n"
     ]
    },
    {
     "name": "stderr",
     "output_type": "stream",
     "text": [
      "100%|███████████████████████████████████████| 2387/2387 [03:06<00:00, 12.81it/s]\n",
      "100%|█████████████████████████████████████████| 302/302 [00:09<00:00, 31.62it/s]\n"
     ]
    },
    {
     "name": "stdout",
     "output_type": "stream",
     "text": [
      "Epoch: 37 | train_loss: 0.0134 | train_acc: 0.9966 | test_loss: 1.2656 | test_acc: 0.8019\n"
     ]
    },
    {
     "name": "stderr",
     "output_type": "stream",
     "text": [
      "100%|███████████████████████████████████████| 2387/2387 [03:05<00:00, 12.88it/s]\n",
      "100%|█████████████████████████████████████████| 302/302 [00:09<00:00, 31.80it/s]\n"
     ]
    },
    {
     "name": "stdout",
     "output_type": "stream",
     "text": [
      "Epoch: 38 | train_loss: 0.0161 | train_acc: 0.9957 | test_loss: 1.3573 | test_acc: 0.8173\n"
     ]
    },
    {
     "name": "stderr",
     "output_type": "stream",
     "text": [
      "100%|███████████████████████████████████████| 2387/2387 [03:06<00:00, 12.82it/s]\n",
      "100%|█████████████████████████████████████████| 302/302 [00:09<00:00, 31.90it/s]\n"
     ]
    },
    {
     "name": "stdout",
     "output_type": "stream",
     "text": [
      "Epoch: 39 | train_loss: 0.0200 | train_acc: 0.9945 | test_loss: 0.7504 | test_acc: 0.8425\n"
     ]
    },
    {
     "name": "stderr",
     "output_type": "stream",
     "text": [
      "100%|███████████████████████████████████████| 2387/2387 [03:05<00:00, 12.89it/s]\n",
      "100%|█████████████████████████████████████████| 302/302 [00:09<00:00, 31.89it/s]\n"
     ]
    },
    {
     "name": "stdout",
     "output_type": "stream",
     "text": [
      "Epoch: 40 | train_loss: 0.0066 | train_acc: 0.9982 | test_loss: 1.3343 | test_acc: 0.8220\n",
      "Confusion matrix: \n",
      "[[ 293   42   42   39]\n",
      " [   0  754  110    0]\n",
      " [   1   22 2391   18]\n",
      " [   3   28  362  407]]\n",
      "Precision: 0.8607834386783537\n",
      "Recall: 0.8521719858156028\n",
      "F1 score: 0.8417824494164962\n"
     ]
    },
    {
     "name": "stderr",
     "output_type": "stream",
     "text": [
      "100%|███████████████████████████████████████| 2353/2353 [03:02<00:00, 12.92it/s]\n",
      "100%|█████████████████████████████████████████| 286/286 [00:09<00:00, 29.09it/s]\n"
     ]
    },
    {
     "name": "stdout",
     "output_type": "stream",
     "text": [
      "Epoch: 1 | train_loss: 0.4937 | train_acc: 0.8128 | test_loss: 0.6740 | test_acc: 0.7550\n"
     ]
    },
    {
     "name": "stderr",
     "output_type": "stream",
     "text": [
      "100%|███████████████████████████████████████| 2353/2353 [03:01<00:00, 12.94it/s]\n",
      "100%|█████████████████████████████████████████| 286/286 [00:09<00:00, 29.13it/s]\n"
     ]
    },
    {
     "name": "stdout",
     "output_type": "stream",
     "text": [
      "Epoch: 2 | train_loss: 0.2108 | train_acc: 0.9231 | test_loss: 0.7250 | test_acc: 0.8040\n"
     ]
    },
    {
     "name": "stderr",
     "output_type": "stream",
     "text": [
      "100%|███████████████████████████████████████| 2353/2353 [03:02<00:00, 12.87it/s]\n",
      "100%|█████████████████████████████████████████| 286/286 [00:09<00:00, 29.26it/s]\n"
     ]
    },
    {
     "name": "stdout",
     "output_type": "stream",
     "text": [
      "Epoch: 3 | train_loss: 0.1327 | train_acc: 0.9538 | test_loss: 0.4806 | test_acc: 0.8575\n"
     ]
    },
    {
     "name": "stderr",
     "output_type": "stream",
     "text": [
      "100%|███████████████████████████████████████| 2353/2353 [03:01<00:00, 12.93it/s]\n",
      "100%|█████████████████████████████████████████| 286/286 [00:09<00:00, 29.00it/s]\n"
     ]
    },
    {
     "name": "stdout",
     "output_type": "stream",
     "text": [
      "Epoch: 4 | train_loss: 0.2164 | train_acc: 0.9216 | test_loss: 0.5093 | test_acc: 0.8556\n"
     ]
    },
    {
     "name": "stderr",
     "output_type": "stream",
     "text": [
      "100%|███████████████████████████████████████| 2353/2353 [03:02<00:00, 12.87it/s]\n",
      "100%|█████████████████████████████████████████| 286/286 [00:09<00:00, 28.96it/s]\n"
     ]
    },
    {
     "name": "stdout",
     "output_type": "stream",
     "text": [
      "Epoch: 5 | train_loss: 0.0778 | train_acc: 0.9725 | test_loss: 0.4080 | test_acc: 0.8907\n"
     ]
    },
    {
     "name": "stderr",
     "output_type": "stream",
     "text": [
      "100%|███████████████████████████████████████| 2353/2353 [03:02<00:00, 12.91it/s]\n",
      "100%|█████████████████████████████████████████| 286/286 [00:09<00:00, 29.21it/s]\n"
     ]
    },
    {
     "name": "stdout",
     "output_type": "stream",
     "text": [
      "Epoch: 6 | train_loss: 0.0801 | train_acc: 0.9729 | test_loss: 0.4453 | test_acc: 0.8730\n"
     ]
    },
    {
     "name": "stderr",
     "output_type": "stream",
     "text": [
      "100%|███████████████████████████████████████| 2353/2353 [03:02<00:00, 12.91it/s]\n",
      "100%|█████████████████████████████████████████| 286/286 [00:09<00:00, 29.36it/s]\n"
     ]
    },
    {
     "name": "stdout",
     "output_type": "stream",
     "text": [
      "Epoch: 7 | train_loss: 0.0682 | train_acc: 0.9764 | test_loss: 0.2932 | test_acc: 0.9060\n"
     ]
    },
    {
     "name": "stderr",
     "output_type": "stream",
     "text": [
      "100%|███████████████████████████████████████| 2353/2353 [03:01<00:00, 12.94it/s]\n",
      "100%|█████████████████████████████████████████| 286/286 [00:09<00:00, 29.22it/s]\n"
     ]
    },
    {
     "name": "stdout",
     "output_type": "stream",
     "text": [
      "Epoch: 8 | train_loss: 0.0553 | train_acc: 0.9818 | test_loss: 0.8243 | test_acc: 0.7856\n"
     ]
    },
    {
     "name": "stderr",
     "output_type": "stream",
     "text": [
      "100%|███████████████████████████████████████| 2353/2353 [03:01<00:00, 12.93it/s]\n",
      "100%|█████████████████████████████████████████| 286/286 [00:09<00:00, 29.32it/s]\n"
     ]
    },
    {
     "name": "stdout",
     "output_type": "stream",
     "text": [
      "Epoch: 9 | train_loss: 0.0477 | train_acc: 0.9840 | test_loss: 0.6686 | test_acc: 0.8503\n"
     ]
    },
    {
     "name": "stderr",
     "output_type": "stream",
     "text": [
      "100%|███████████████████████████████████████| 2353/2353 [03:02<00:00, 12.90it/s]\n",
      "100%|█████████████████████████████████████████| 286/286 [00:09<00:00, 29.05it/s]\n"
     ]
    },
    {
     "name": "stdout",
     "output_type": "stream",
     "text": [
      "Epoch: 10 | train_loss: 0.0430 | train_acc: 0.9868 | test_loss: 0.7102 | test_acc: 0.8431\n"
     ]
    },
    {
     "name": "stderr",
     "output_type": "stream",
     "text": [
      "100%|███████████████████████████████████████| 2353/2353 [03:02<00:00, 12.92it/s]\n",
      "100%|█████████████████████████████████████████| 286/286 [00:09<00:00, 29.26it/s]\n"
     ]
    },
    {
     "name": "stdout",
     "output_type": "stream",
     "text": [
      "Epoch: 11 | train_loss: 0.0413 | train_acc: 0.9870 | test_loss: 0.9383 | test_acc: 0.7933\n"
     ]
    },
    {
     "name": "stderr",
     "output_type": "stream",
     "text": [
      "100%|███████████████████████████████████████| 2353/2353 [03:02<00:00, 12.91it/s]\n",
      "100%|█████████████████████████████████████████| 286/286 [00:09<00:00, 28.98it/s]\n"
     ]
    },
    {
     "name": "stdout",
     "output_type": "stream",
     "text": [
      "Epoch: 12 | train_loss: 0.0443 | train_acc: 0.9859 | test_loss: 0.9487 | test_acc: 0.8429\n"
     ]
    },
    {
     "name": "stderr",
     "output_type": "stream",
     "text": [
      "100%|███████████████████████████████████████| 2353/2353 [03:02<00:00, 12.92it/s]\n",
      "100%|█████████████████████████████████████████| 286/286 [00:09<00:00, 29.30it/s]\n"
     ]
    },
    {
     "name": "stdout",
     "output_type": "stream",
     "text": [
      "Epoch: 13 | train_loss: 0.0294 | train_acc: 0.9910 | test_loss: 0.9484 | test_acc: 0.8184\n"
     ]
    },
    {
     "name": "stderr",
     "output_type": "stream",
     "text": [
      "100%|███████████████████████████████████████| 2353/2353 [03:03<00:00, 12.83it/s]\n",
      "100%|█████████████████████████████████████████| 286/286 [00:09<00:00, 29.30it/s]\n"
     ]
    },
    {
     "name": "stdout",
     "output_type": "stream",
     "text": [
      "Epoch: 14 | train_loss: 0.0379 | train_acc: 0.9880 | test_loss: 0.7834 | test_acc: 0.8636\n"
     ]
    },
    {
     "name": "stderr",
     "output_type": "stream",
     "text": [
      "100%|███████████████████████████████████████| 2353/2353 [03:02<00:00, 12.91it/s]\n",
      "100%|█████████████████████████████████████████| 286/286 [00:09<00:00, 29.04it/s]\n"
     ]
    },
    {
     "name": "stdout",
     "output_type": "stream",
     "text": [
      "Epoch: 15 | train_loss: 0.0324 | train_acc: 0.9900 | test_loss: 0.7495 | test_acc: 0.8302\n"
     ]
    },
    {
     "name": "stderr",
     "output_type": "stream",
     "text": [
      "100%|███████████████████████████████████████| 2353/2353 [03:02<00:00, 12.92it/s]\n",
      "100%|█████████████████████████████████████████| 286/286 [00:09<00:00, 29.27it/s]\n"
     ]
    },
    {
     "name": "stdout",
     "output_type": "stream",
     "text": [
      "Epoch: 16 | train_loss: 0.0281 | train_acc: 0.9914 | test_loss: 0.9035 | test_acc: 0.8420\n"
     ]
    },
    {
     "name": "stderr",
     "output_type": "stream",
     "text": [
      "100%|███████████████████████████████████████| 2353/2353 [03:02<00:00, 12.90it/s]\n",
      "100%|█████████████████████████████████████████| 286/286 [00:09<00:00, 29.23it/s]\n"
     ]
    },
    {
     "name": "stdout",
     "output_type": "stream",
     "text": [
      "Epoch: 17 | train_loss: 0.0249 | train_acc: 0.9925 | test_loss: 0.9615 | test_acc: 0.8337\n"
     ]
    },
    {
     "name": "stderr",
     "output_type": "stream",
     "text": [
      "100%|███████████████████████████████████████| 2353/2353 [03:02<00:00, 12.90it/s]\n",
      "100%|█████████████████████████████████████████| 286/286 [00:09<00:00, 29.17it/s]\n"
     ]
    },
    {
     "name": "stdout",
     "output_type": "stream",
     "text": [
      "Epoch: 18 | train_loss: 0.0246 | train_acc: 0.9924 | test_loss: 1.2588 | test_acc: 0.8164\n"
     ]
    },
    {
     "name": "stderr",
     "output_type": "stream",
     "text": [
      "100%|███████████████████████████████████████| 2353/2353 [03:02<00:00, 12.86it/s]\n",
      "100%|█████████████████████████████████████████| 286/286 [00:09<00:00, 29.27it/s]\n"
     ]
    },
    {
     "name": "stdout",
     "output_type": "stream",
     "text": [
      "Epoch: 19 | train_loss: 0.0203 | train_acc: 0.9940 | test_loss: 0.8817 | test_acc: 0.8499\n"
     ]
    },
    {
     "name": "stderr",
     "output_type": "stream",
     "text": [
      "100%|███████████████████████████████████████| 2353/2353 [03:02<00:00, 12.89it/s]\n",
      "100%|█████████████████████████████████████████| 286/286 [00:09<00:00, 29.26it/s]\n"
     ]
    },
    {
     "name": "stdout",
     "output_type": "stream",
     "text": [
      "Epoch: 20 | train_loss: 0.0194 | train_acc: 0.9941 | test_loss: 0.6982 | test_acc: 0.8702\n"
     ]
    },
    {
     "name": "stderr",
     "output_type": "stream",
     "text": [
      "100%|███████████████████████████████████████| 2353/2353 [03:01<00:00, 12.93it/s]\n",
      "100%|█████████████████████████████████████████| 286/286 [00:09<00:00, 29.28it/s]\n"
     ]
    },
    {
     "name": "stdout",
     "output_type": "stream",
     "text": [
      "Epoch: 21 | train_loss: 0.0293 | train_acc: 0.9912 | test_loss: 0.8018 | test_acc: 0.8453\n"
     ]
    },
    {
     "name": "stderr",
     "output_type": "stream",
     "text": [
      "100%|███████████████████████████████████████| 2353/2353 [03:02<00:00, 12.92it/s]\n",
      "100%|█████████████████████████████████████████| 286/286 [00:09<00:00, 29.04it/s]\n"
     ]
    },
    {
     "name": "stdout",
     "output_type": "stream",
     "text": [
      "Epoch: 22 | train_loss: 0.0176 | train_acc: 0.9945 | test_loss: 0.7456 | test_acc: 0.8365\n"
     ]
    },
    {
     "name": "stderr",
     "output_type": "stream",
     "text": [
      "100%|███████████████████████████████████████| 2353/2353 [03:01<00:00, 12.93it/s]\n",
      "100%|█████████████████████████████████████████| 286/286 [00:09<00:00, 28.96it/s]\n"
     ]
    },
    {
     "name": "stdout",
     "output_type": "stream",
     "text": [
      "Epoch: 23 | train_loss: 0.0200 | train_acc: 0.9938 | test_loss: 1.4461 | test_acc: 0.8311\n"
     ]
    },
    {
     "name": "stderr",
     "output_type": "stream",
     "text": [
      "100%|███████████████████████████████████████| 2353/2353 [03:02<00:00, 12.91it/s]\n",
      "100%|█████████████████████████████████████████| 286/286 [00:09<00:00, 28.75it/s]\n"
     ]
    },
    {
     "name": "stdout",
     "output_type": "stream",
     "text": [
      "Epoch: 24 | train_loss: 0.0188 | train_acc: 0.9943 | test_loss: 1.1229 | test_acc: 0.8274\n"
     ]
    },
    {
     "name": "stderr",
     "output_type": "stream",
     "text": [
      "100%|███████████████████████████████████████| 2353/2353 [03:02<00:00, 12.92it/s]\n",
      "100%|█████████████████████████████████████████| 286/286 [00:09<00:00, 29.29it/s]\n"
     ]
    },
    {
     "name": "stdout",
     "output_type": "stream",
     "text": [
      "Epoch: 25 | train_loss: 0.0111 | train_acc: 0.9964 | test_loss: 1.6463 | test_acc: 0.8394\n"
     ]
    },
    {
     "name": "stderr",
     "output_type": "stream",
     "text": [
      "100%|███████████████████████████████████████| 2353/2353 [03:02<00:00, 12.87it/s]\n",
      "100%|█████████████████████████████████████████| 286/286 [00:09<00:00, 28.95it/s]\n"
     ]
    },
    {
     "name": "stdout",
     "output_type": "stream",
     "text": [
      "Epoch: 26 | train_loss: 0.0222 | train_acc: 0.9941 | test_loss: 1.2580 | test_acc: 0.8125\n"
     ]
    },
    {
     "name": "stderr",
     "output_type": "stream",
     "text": [
      "100%|███████████████████████████████████████| 2353/2353 [03:02<00:00, 12.92it/s]\n",
      "100%|█████████████████████████████████████████| 286/286 [00:09<00:00, 29.27it/s]\n"
     ]
    },
    {
     "name": "stdout",
     "output_type": "stream",
     "text": [
      "Epoch: 27 | train_loss: 0.0126 | train_acc: 0.9964 | test_loss: 1.8626 | test_acc: 0.7948\n"
     ]
    },
    {
     "name": "stderr",
     "output_type": "stream",
     "text": [
      "100%|███████████████████████████████████████| 2353/2353 [03:02<00:00, 12.91it/s]\n",
      "100%|█████████████████████████████████████████| 286/286 [00:09<00:00, 29.11it/s]\n"
     ]
    },
    {
     "name": "stdout",
     "output_type": "stream",
     "text": [
      "Epoch: 28 | train_loss: 0.0180 | train_acc: 0.9952 | test_loss: 0.4882 | test_acc: 0.8767\n"
     ]
    },
    {
     "name": "stderr",
     "output_type": "stream",
     "text": [
      "100%|███████████████████████████████████████| 2353/2353 [03:03<00:00, 12.84it/s]\n",
      "100%|█████████████████████████████████████████| 286/286 [00:09<00:00, 29.15it/s]\n"
     ]
    },
    {
     "name": "stdout",
     "output_type": "stream",
     "text": [
      "Epoch: 29 | train_loss: 0.0143 | train_acc: 0.9959 | test_loss: 1.1986 | test_acc: 0.8295\n"
     ]
    },
    {
     "name": "stderr",
     "output_type": "stream",
     "text": [
      "100%|███████████████████████████████████████| 2353/2353 [03:02<00:00, 12.88it/s]\n",
      "100%|█████████████████████████████████████████| 286/286 [00:09<00:00, 29.11it/s]\n"
     ]
    },
    {
     "name": "stdout",
     "output_type": "stream",
     "text": [
      "Epoch: 30 | train_loss: 0.0142 | train_acc: 0.9959 | test_loss: 1.2629 | test_acc: 0.8129\n"
     ]
    },
    {
     "name": "stderr",
     "output_type": "stream",
     "text": [
      "100%|███████████████████████████████████████| 2353/2353 [03:02<00:00, 12.91it/s]\n",
      "100%|█████████████████████████████████████████| 286/286 [00:09<00:00, 29.28it/s]\n"
     ]
    },
    {
     "name": "stdout",
     "output_type": "stream",
     "text": [
      "Epoch: 31 | train_loss: 0.0135 | train_acc: 0.9961 | test_loss: 1.1281 | test_acc: 0.8254\n"
     ]
    },
    {
     "name": "stderr",
     "output_type": "stream",
     "text": [
      "100%|███████████████████████████████████████| 2353/2353 [03:02<00:00, 12.91it/s]\n",
      "100%|█████████████████████████████████████████| 286/286 [00:09<00:00, 29.17it/s]\n"
     ]
    },
    {
     "name": "stdout",
     "output_type": "stream",
     "text": [
      "Epoch: 32 | train_loss: 0.0136 | train_acc: 0.9961 | test_loss: 0.8965 | test_acc: 0.8494\n"
     ]
    },
    {
     "name": "stderr",
     "output_type": "stream",
     "text": [
      "100%|███████████████████████████████████████| 2353/2353 [03:02<00:00, 12.92it/s]\n",
      "100%|█████████████████████████████████████████| 286/286 [00:09<00:00, 29.00it/s]\n"
     ]
    },
    {
     "name": "stdout",
     "output_type": "stream",
     "text": [
      "Epoch: 33 | train_loss: 0.0160 | train_acc: 0.9955 | test_loss: 1.1220 | test_acc: 0.8182\n"
     ]
    },
    {
     "name": "stderr",
     "output_type": "stream",
     "text": [
      "100%|███████████████████████████████████████| 2353/2353 [03:02<00:00, 12.89it/s]\n",
      "100%|█████████████████████████████████████████| 286/286 [00:09<00:00, 29.19it/s]\n"
     ]
    },
    {
     "name": "stdout",
     "output_type": "stream",
     "text": [
      "Epoch: 34 | train_loss: 0.0088 | train_acc: 0.9974 | test_loss: 0.9665 | test_acc: 0.8682\n"
     ]
    },
    {
     "name": "stderr",
     "output_type": "stream",
     "text": [
      "100%|███████████████████████████████████████| 2353/2353 [03:02<00:00, 12.90it/s]\n",
      "100%|█████████████████████████████████████████| 286/286 [00:09<00:00, 28.68it/s]\n"
     ]
    },
    {
     "name": "stdout",
     "output_type": "stream",
     "text": [
      "Epoch: 35 | train_loss: 0.0113 | train_acc: 0.9966 | test_loss: 1.3826 | test_acc: 0.8339\n"
     ]
    },
    {
     "name": "stderr",
     "output_type": "stream",
     "text": [
      "100%|███████████████████████████████████████| 2353/2353 [03:02<00:00, 12.87it/s]\n",
      "100%|█████████████████████████████████████████| 286/286 [00:09<00:00, 28.92it/s]\n"
     ]
    },
    {
     "name": "stdout",
     "output_type": "stream",
     "text": [
      "Epoch: 36 | train_loss: 0.0195 | train_acc: 0.9945 | test_loss: 1.2910 | test_acc: 0.8250\n"
     ]
    },
    {
     "name": "stderr",
     "output_type": "stream",
     "text": [
      "100%|███████████████████████████████████████| 2353/2353 [03:02<00:00, 12.86it/s]\n",
      "100%|█████████████████████████████████████████| 286/286 [00:09<00:00, 29.01it/s]\n"
     ]
    },
    {
     "name": "stdout",
     "output_type": "stream",
     "text": [
      "Epoch: 37 | train_loss: 0.0087 | train_acc: 0.9976 | test_loss: 1.7822 | test_acc: 0.8298\n"
     ]
    },
    {
     "name": "stderr",
     "output_type": "stream",
     "text": [
      "100%|███████████████████████████████████████| 2353/2353 [03:02<00:00, 12.89it/s]\n",
      "100%|█████████████████████████████████████████| 286/286 [00:09<00:00, 29.00it/s]\n"
     ]
    },
    {
     "name": "stdout",
     "output_type": "stream",
     "text": [
      "Epoch: 38 | train_loss: 0.0195 | train_acc: 0.9966 | test_loss: 1.1580 | test_acc: 0.8344\n"
     ]
    },
    {
     "name": "stderr",
     "output_type": "stream",
     "text": [
      "100%|███████████████████████████████████████| 2353/2353 [03:02<00:00, 12.87it/s]\n",
      "100%|█████████████████████████████████████████| 286/286 [00:09<00:00, 28.97it/s]\n"
     ]
    },
    {
     "name": "stdout",
     "output_type": "stream",
     "text": [
      "Epoch: 39 | train_loss: 0.0087 | train_acc: 0.9976 | test_loss: 1.5284 | test_acc: 0.8370\n"
     ]
    },
    {
     "name": "stderr",
     "output_type": "stream",
     "text": [
      "100%|███████████████████████████████████████| 2353/2353 [03:02<00:00, 12.88it/s]\n",
      "100%|█████████████████████████████████████████| 286/286 [00:09<00:00, 28.79it/s]\n"
     ]
    },
    {
     "name": "stdout",
     "output_type": "stream",
     "text": [
      "Epoch: 40 | train_loss: 0.0104 | train_acc: 0.9971 | test_loss: 1.5314 | test_acc: 0.8431\n",
      "Confusion matrix: \n",
      "[[ 576    0    0    0]\n",
      " [   0  918  141    0]\n",
      " [   8   83 2520  215]\n",
      " [  22    2  366  448]]\n",
      "Precision: 0.837074121310318\n",
      "Recall: 0.8420456689941498\n",
      "F1 score: 0.8375171645858298\n"
     ]
    },
    {
     "name": "stderr",
     "output_type": "stream",
     "text": [
      "100%|███████████████████████████████████████| 2369/2369 [03:04<00:00, 12.84it/s]\n",
      "100%|█████████████████████████████████████████| 306/306 [00:09<00:00, 31.63it/s]\n"
     ]
    },
    {
     "name": "stdout",
     "output_type": "stream",
     "text": [
      "Epoch: 1 | train_loss: 0.4741 | train_acc: 0.8106 | test_loss: 1.4208 | test_acc: 0.6712\n"
     ]
    },
    {
     "name": "stderr",
     "output_type": "stream",
     "text": [
      "100%|███████████████████████████████████████| 2369/2369 [03:04<00:00, 12.83it/s]\n",
      "100%|█████████████████████████████████████████| 306/306 [00:09<00:00, 31.38it/s]\n"
     ]
    },
    {
     "name": "stdout",
     "output_type": "stream",
     "text": [
      "Epoch: 2 | train_loss: 0.1934 | train_acc: 0.9282 | test_loss: 1.3294 | test_acc: 0.7120\n"
     ]
    },
    {
     "name": "stderr",
     "output_type": "stream",
     "text": [
      "100%|███████████████████████████████████████| 2369/2369 [03:04<00:00, 12.86it/s]\n",
      "100%|█████████████████████████████████████████| 306/306 [00:09<00:00, 31.64it/s]\n"
     ]
    },
    {
     "name": "stdout",
     "output_type": "stream",
     "text": [
      "Epoch: 3 | train_loss: 0.1317 | train_acc: 0.9535 | test_loss: 1.5037 | test_acc: 0.6987\n"
     ]
    },
    {
     "name": "stderr",
     "output_type": "stream",
     "text": [
      "100%|███████████████████████████████████████| 2369/2369 [03:03<00:00, 12.90it/s]\n",
      "100%|█████████████████████████████████████████| 306/306 [00:09<00:00, 31.79it/s]\n"
     ]
    },
    {
     "name": "stdout",
     "output_type": "stream",
     "text": [
      "Epoch: 4 | train_loss: 0.0838 | train_acc: 0.9707 | test_loss: 1.2604 | test_acc: 0.7819\n"
     ]
    },
    {
     "name": "stderr",
     "output_type": "stream",
     "text": [
      "100%|███████████████████████████████████████| 2369/2369 [03:04<00:00, 12.84it/s]\n",
      "100%|█████████████████████████████████████████| 306/306 [00:09<00:00, 31.63it/s]\n"
     ]
    },
    {
     "name": "stdout",
     "output_type": "stream",
     "text": [
      "Epoch: 5 | train_loss: 0.1031 | train_acc: 0.9659 | test_loss: 1.4043 | test_acc: 0.7590\n"
     ]
    },
    {
     "name": "stderr",
     "output_type": "stream",
     "text": [
      "100%|███████████████████████████████████████| 2369/2369 [03:04<00:00, 12.81it/s]\n",
      "100%|█████████████████████████████████████████| 306/306 [00:09<00:00, 31.59it/s]\n"
     ]
    },
    {
     "name": "stdout",
     "output_type": "stream",
     "text": [
      "Epoch: 6 | train_loss: 0.0593 | train_acc: 0.9802 | test_loss: 1.8508 | test_acc: 0.7535\n"
     ]
    },
    {
     "name": "stderr",
     "output_type": "stream",
     "text": [
      "100%|███████████████████████████████████████| 2369/2369 [03:04<00:00, 12.82it/s]\n",
      "100%|█████████████████████████████████████████| 306/306 [00:09<00:00, 31.52it/s]\n"
     ]
    },
    {
     "name": "stdout",
     "output_type": "stream",
     "text": [
      "Epoch: 7 | train_loss: 0.0568 | train_acc: 0.9811 | test_loss: 1.2704 | test_acc: 0.7717\n"
     ]
    },
    {
     "name": "stderr",
     "output_type": "stream",
     "text": [
      "100%|███████████████████████████████████████| 2369/2369 [03:04<00:00, 12.85it/s]\n",
      "100%|█████████████████████████████████████████| 306/306 [00:09<00:00, 31.56it/s]\n"
     ]
    },
    {
     "name": "stdout",
     "output_type": "stream",
     "text": [
      "Epoch: 8 | train_loss: 0.0565 | train_acc: 0.9818 | test_loss: 1.7530 | test_acc: 0.7831\n"
     ]
    },
    {
     "name": "stderr",
     "output_type": "stream",
     "text": [
      "100%|███████████████████████████████████████| 2369/2369 [03:04<00:00, 12.85it/s]\n",
      "100%|█████████████████████████████████████████| 306/306 [00:09<00:00, 31.62it/s]\n"
     ]
    },
    {
     "name": "stdout",
     "output_type": "stream",
     "text": [
      "Epoch: 9 | train_loss: 0.0469 | train_acc: 0.9850 | test_loss: 1.8738 | test_acc: 0.8068\n"
     ]
    },
    {
     "name": "stderr",
     "output_type": "stream",
     "text": [
      "100%|███████████████████████████████████████| 2369/2369 [03:04<00:00, 12.84it/s]\n",
      "100%|█████████████████████████████████████████| 306/306 [00:09<00:00, 31.77it/s]\n"
     ]
    },
    {
     "name": "stdout",
     "output_type": "stream",
     "text": [
      "Epoch: 10 | train_loss: 0.0416 | train_acc: 0.9866 | test_loss: 2.0885 | test_acc: 0.7996\n"
     ]
    },
    {
     "name": "stderr",
     "output_type": "stream",
     "text": [
      "100%|███████████████████████████████████████| 2369/2369 [03:05<00:00, 12.80it/s]\n",
      "100%|█████████████████████████████████████████| 306/306 [00:09<00:00, 31.58it/s]\n"
     ]
    },
    {
     "name": "stdout",
     "output_type": "stream",
     "text": [
      "Epoch: 11 | train_loss: 0.0365 | train_acc: 0.9878 | test_loss: 1.6527 | test_acc: 0.7141\n"
     ]
    },
    {
     "name": "stderr",
     "output_type": "stream",
     "text": [
      "100%|███████████████████████████████████████| 2369/2369 [03:04<00:00, 12.83it/s]\n",
      "100%|█████████████████████████████████████████| 306/306 [00:09<00:00, 31.67it/s]\n"
     ]
    },
    {
     "name": "stdout",
     "output_type": "stream",
     "text": [
      "Epoch: 12 | train_loss: 0.0345 | train_acc: 0.9878 | test_loss: 1.9412 | test_acc: 0.8237\n"
     ]
    },
    {
     "name": "stderr",
     "output_type": "stream",
     "text": [
      "100%|███████████████████████████████████████| 2369/2369 [03:05<00:00, 12.78it/s]\n",
      "100%|█████████████████████████████████████████| 306/306 [00:09<00:00, 31.18it/s]\n"
     ]
    },
    {
     "name": "stdout",
     "output_type": "stream",
     "text": [
      "Epoch: 13 | train_loss: 0.0362 | train_acc: 0.9883 | test_loss: 2.0817 | test_acc: 0.8021\n"
     ]
    },
    {
     "name": "stderr",
     "output_type": "stream",
     "text": [
      "100%|███████████████████████████████████████| 2369/2369 [03:04<00:00, 12.84it/s]\n",
      "100%|█████████████████████████████████████████| 306/306 [00:09<00:00, 31.62it/s]\n"
     ]
    },
    {
     "name": "stdout",
     "output_type": "stream",
     "text": [
      "Epoch: 14 | train_loss: 0.0422 | train_acc: 0.9869 | test_loss: 1.5991 | test_acc: 0.7872\n"
     ]
    },
    {
     "name": "stderr",
     "output_type": "stream",
     "text": [
      "100%|███████████████████████████████████████| 2369/2369 [03:03<00:00, 12.89it/s]\n",
      "100%|█████████████████████████████████████████| 306/306 [00:09<00:00, 31.54it/s]\n"
     ]
    },
    {
     "name": "stdout",
     "output_type": "stream",
     "text": [
      "Epoch: 15 | train_loss: 0.0191 | train_acc: 0.9940 | test_loss: 1.7398 | test_acc: 0.7913\n"
     ]
    },
    {
     "name": "stderr",
     "output_type": "stream",
     "text": [
      "100%|███████████████████████████████████████| 2369/2369 [03:04<00:00, 12.82it/s]\n",
      "100%|█████████████████████████████████████████| 306/306 [00:09<00:00, 31.61it/s]\n"
     ]
    },
    {
     "name": "stdout",
     "output_type": "stream",
     "text": [
      "Epoch: 16 | train_loss: 0.0348 | train_acc: 0.9902 | test_loss: 2.9376 | test_acc: 0.7690\n"
     ]
    },
    {
     "name": "stderr",
     "output_type": "stream",
     "text": [
      "100%|███████████████████████████████████████| 2369/2369 [03:04<00:00, 12.86it/s]\n",
      "100%|█████████████████████████████████████████| 306/306 [00:09<00:00, 31.64it/s]\n"
     ]
    },
    {
     "name": "stdout",
     "output_type": "stream",
     "text": [
      "Epoch: 17 | train_loss: 0.0209 | train_acc: 0.9934 | test_loss: 1.8417 | test_acc: 0.8007\n"
     ]
    },
    {
     "name": "stderr",
     "output_type": "stream",
     "text": [
      "100%|███████████████████████████████████████| 2369/2369 [03:04<00:00, 12.85it/s]\n",
      "100%|█████████████████████████████████████████| 306/306 [00:09<00:00, 31.65it/s]\n"
     ]
    },
    {
     "name": "stdout",
     "output_type": "stream",
     "text": [
      "Epoch: 18 | train_loss: 0.0239 | train_acc: 0.9925 | test_loss: 2.0362 | test_acc: 0.8074\n"
     ]
    },
    {
     "name": "stderr",
     "output_type": "stream",
     "text": [
      "100%|███████████████████████████████████████| 2369/2369 [03:03<00:00, 12.89it/s]\n",
      "100%|█████████████████████████████████████████| 306/306 [00:09<00:00, 31.65it/s]\n"
     ]
    },
    {
     "name": "stdout",
     "output_type": "stream",
     "text": [
      "Epoch: 19 | train_loss: 0.0253 | train_acc: 0.9921 | test_loss: 2.0860 | test_acc: 0.7522\n"
     ]
    },
    {
     "name": "stderr",
     "output_type": "stream",
     "text": [
      "100%|███████████████████████████████████████| 2369/2369 [03:04<00:00, 12.82it/s]\n",
      "100%|█████████████████████████████████████████| 306/306 [00:09<00:00, 31.56it/s]\n"
     ]
    },
    {
     "name": "stdout",
     "output_type": "stream",
     "text": [
      "Epoch: 20 | train_loss: 0.0205 | train_acc: 0.9937 | test_loss: 1.2120 | test_acc: 0.8168\n"
     ]
    },
    {
     "name": "stderr",
     "output_type": "stream",
     "text": [
      "100%|███████████████████████████████████████| 2369/2369 [03:04<00:00, 12.87it/s]\n",
      "100%|█████████████████████████████████████████| 306/306 [00:09<00:00, 31.05it/s]\n"
     ]
    },
    {
     "name": "stdout",
     "output_type": "stream",
     "text": [
      "Epoch: 21 | train_loss: 0.0193 | train_acc: 0.9942 | test_loss: 1.1445 | test_acc: 0.8376\n"
     ]
    },
    {
     "name": "stderr",
     "output_type": "stream",
     "text": [
      "100%|███████████████████████████████████████| 2369/2369 [03:03<00:00, 12.88it/s]\n",
      "100%|█████████████████████████████████████████| 306/306 [00:09<00:00, 31.75it/s]\n"
     ]
    },
    {
     "name": "stdout",
     "output_type": "stream",
     "text": [
      "Epoch: 22 | train_loss: 0.0206 | train_acc: 0.9939 | test_loss: 2.4534 | test_acc: 0.7847\n"
     ]
    },
    {
     "name": "stderr",
     "output_type": "stream",
     "text": [
      "100%|███████████████████████████████████████| 2369/2369 [03:04<00:00, 12.83it/s]\n",
      "100%|█████████████████████████████████████████| 306/306 [00:09<00:00, 31.79it/s]\n"
     ]
    },
    {
     "name": "stdout",
     "output_type": "stream",
     "text": [
      "Epoch: 23 | train_loss: 0.0241 | train_acc: 0.9927 | test_loss: 1.4133 | test_acc: 0.7857\n"
     ]
    },
    {
     "name": "stderr",
     "output_type": "stream",
     "text": [
      "100%|███████████████████████████████████████| 2369/2369 [03:04<00:00, 12.87it/s]\n",
      "100%|█████████████████████████████████████████| 306/306 [00:09<00:00, 31.74it/s]\n"
     ]
    },
    {
     "name": "stdout",
     "output_type": "stream",
     "text": [
      "Epoch: 24 | train_loss: 0.0161 | train_acc: 0.9952 | test_loss: 2.0426 | test_acc: 0.8448\n"
     ]
    },
    {
     "name": "stderr",
     "output_type": "stream",
     "text": [
      "100%|███████████████████████████████████████| 2369/2369 [03:04<00:00, 12.83it/s]\n",
      "100%|█████████████████████████████████████████| 306/306 [00:09<00:00, 31.78it/s]\n"
     ]
    },
    {
     "name": "stdout",
     "output_type": "stream",
     "text": [
      "Epoch: 25 | train_loss: 0.0162 | train_acc: 0.9953 | test_loss: 2.6324 | test_acc: 0.7737\n"
     ]
    },
    {
     "name": "stderr",
     "output_type": "stream",
     "text": [
      "100%|███████████████████████████████████████| 2369/2369 [03:05<00:00, 12.79it/s]\n",
      "100%|█████████████████████████████████████████| 306/306 [00:09<00:00, 31.60it/s]\n"
     ]
    },
    {
     "name": "stdout",
     "output_type": "stream",
     "text": [
      "Epoch: 26 | train_loss: 0.0148 | train_acc: 0.9956 | test_loss: 2.5207 | test_acc: 0.7817\n"
     ]
    },
    {
     "name": "stderr",
     "output_type": "stream",
     "text": [
      "100%|███████████████████████████████████████| 2369/2369 [03:04<00:00, 12.83it/s]\n",
      "100%|█████████████████████████████████████████| 306/306 [00:09<00:00, 31.24it/s]\n"
     ]
    },
    {
     "name": "stdout",
     "output_type": "stream",
     "text": [
      "Epoch: 27 | train_loss: 0.0172 | train_acc: 0.9955 | test_loss: 2.2398 | test_acc: 0.7915\n"
     ]
    },
    {
     "name": "stderr",
     "output_type": "stream",
     "text": [
      "100%|███████████████████████████████████████| 2369/2369 [03:04<00:00, 12.84it/s]\n",
      "100%|█████████████████████████████████████████| 306/306 [00:09<00:00, 31.53it/s]\n"
     ]
    },
    {
     "name": "stdout",
     "output_type": "stream",
     "text": [
      "Epoch: 28 | train_loss: 0.0190 | train_acc: 0.9945 | test_loss: 2.0090 | test_acc: 0.8376\n"
     ]
    },
    {
     "name": "stderr",
     "output_type": "stream",
     "text": [
      "100%|███████████████████████████████████████| 2369/2369 [03:04<00:00, 12.87it/s]\n",
      "100%|█████████████████████████████████████████| 306/306 [00:09<00:00, 31.34it/s]\n"
     ]
    },
    {
     "name": "stdout",
     "output_type": "stream",
     "text": [
      "Epoch: 29 | train_loss: 0.0093 | train_acc: 0.9973 | test_loss: 4.5317 | test_acc: 0.7792\n"
     ]
    },
    {
     "name": "stderr",
     "output_type": "stream",
     "text": [
      "100%|███████████████████████████████████████| 2369/2369 [03:04<00:00, 12.81it/s]\n",
      "100%|█████████████████████████████████████████| 306/306 [00:09<00:00, 31.44it/s]\n"
     ]
    },
    {
     "name": "stdout",
     "output_type": "stream",
     "text": [
      "Epoch: 30 | train_loss: 0.0188 | train_acc: 0.9953 | test_loss: 1.5714 | test_acc: 0.8152\n"
     ]
    },
    {
     "name": "stderr",
     "output_type": "stream",
     "text": [
      "100%|███████████████████████████████████████| 2369/2369 [03:04<00:00, 12.87it/s]\n",
      "100%|█████████████████████████████████████████| 306/306 [00:09<00:00, 31.63it/s]\n"
     ]
    },
    {
     "name": "stdout",
     "output_type": "stream",
     "text": [
      "Epoch: 31 | train_loss: 0.0145 | train_acc: 0.9957 | test_loss: 2.4333 | test_acc: 0.8123\n"
     ]
    },
    {
     "name": "stderr",
     "output_type": "stream",
     "text": [
      "100%|███████████████████████████████████████| 2369/2369 [03:04<00:00, 12.87it/s]\n",
      "100%|█████████████████████████████████████████| 306/306 [00:09<00:00, 31.60it/s]\n"
     ]
    },
    {
     "name": "stdout",
     "output_type": "stream",
     "text": [
      "Epoch: 32 | train_loss: 0.0133 | train_acc: 0.9963 | test_loss: 3.4329 | test_acc: 0.8305\n"
     ]
    },
    {
     "name": "stderr",
     "output_type": "stream",
     "text": [
      "100%|███████████████████████████████████████| 2369/2369 [03:05<00:00, 12.80it/s]\n",
      "100%|█████████████████████████████████████████| 306/306 [00:09<00:00, 31.55it/s]\n"
     ]
    },
    {
     "name": "stdout",
     "output_type": "stream",
     "text": [
      "Epoch: 33 | train_loss: 0.0122 | train_acc: 0.9962 | test_loss: 2.0758 | test_acc: 0.8107\n"
     ]
    },
    {
     "name": "stderr",
     "output_type": "stream",
     "text": [
      "100%|███████████████████████████████████████| 2369/2369 [03:04<00:00, 12.82it/s]\n",
      "100%|█████████████████████████████████████████| 306/306 [00:09<00:00, 31.67it/s]\n"
     ]
    },
    {
     "name": "stdout",
     "output_type": "stream",
     "text": [
      "Epoch: 34 | train_loss: 0.0127 | train_acc: 0.9965 | test_loss: 2.3646 | test_acc: 0.8182\n"
     ]
    },
    {
     "name": "stderr",
     "output_type": "stream",
     "text": [
      "100%|███████████████████████████████████████| 2369/2369 [03:04<00:00, 12.83it/s]\n",
      "100%|█████████████████████████████████████████| 306/306 [00:09<00:00, 31.59it/s]\n"
     ]
    },
    {
     "name": "stdout",
     "output_type": "stream",
     "text": [
      "Epoch: 35 | train_loss: 0.0136 | train_acc: 0.9961 | test_loss: 2.8126 | test_acc: 0.8070\n"
     ]
    },
    {
     "name": "stderr",
     "output_type": "stream",
     "text": [
      "100%|███████████████████████████████████████| 2369/2369 [03:04<00:00, 12.83it/s]\n",
      "100%|█████████████████████████████████████████| 306/306 [00:09<00:00, 31.71it/s]\n"
     ]
    },
    {
     "name": "stdout",
     "output_type": "stream",
     "text": [
      "Epoch: 36 | train_loss: 0.0122 | train_acc: 0.9968 | test_loss: 2.0096 | test_acc: 0.8054\n"
     ]
    },
    {
     "name": "stderr",
     "output_type": "stream",
     "text": [
      "100%|███████████████████████████████████████| 2369/2369 [03:03<00:00, 12.88it/s]\n",
      "100%|█████████████████████████████████████████| 306/306 [00:09<00:00, 31.79it/s]\n"
     ]
    },
    {
     "name": "stdout",
     "output_type": "stream",
     "text": [
      "Epoch: 37 | train_loss: 0.0115 | train_acc: 0.9963 | test_loss: 1.8403 | test_acc: 0.8033\n"
     ]
    },
    {
     "name": "stderr",
     "output_type": "stream",
     "text": [
      "100%|███████████████████████████████████████| 2369/2369 [03:04<00:00, 12.84it/s]\n",
      "100%|█████████████████████████████████████████| 306/306 [00:09<00:00, 31.85it/s]\n"
     ]
    },
    {
     "name": "stdout",
     "output_type": "stream",
     "text": [
      "Epoch: 38 | train_loss: 0.0128 | train_acc: 0.9964 | test_loss: 3.2488 | test_acc: 0.8100\n"
     ]
    },
    {
     "name": "stderr",
     "output_type": "stream",
     "text": [
      "100%|███████████████████████████████████████| 2369/2369 [03:04<00:00, 12.86it/s]\n",
      "100%|█████████████████████████████████████████| 306/306 [00:09<00:00, 31.53it/s]\n"
     ]
    },
    {
     "name": "stdout",
     "output_type": "stream",
     "text": [
      "Epoch: 39 | train_loss: 0.0098 | train_acc: 0.9974 | test_loss: 1.6739 | test_acc: 0.8286\n"
     ]
    },
    {
     "name": "stderr",
     "output_type": "stream",
     "text": [
      "100%|███████████████████████████████████████| 2369/2369 [03:04<00:00, 12.81it/s]\n",
      "100%|█████████████████████████████████████████| 306/306 [00:09<00:00, 31.31it/s]\n"
     ]
    },
    {
     "name": "stdout",
     "output_type": "stream",
     "text": [
      "Epoch: 40 | train_loss: 0.0176 | train_acc: 0.9956 | test_loss: 2.7876 | test_acc: 0.8141\n",
      "Confusion matrix: \n",
      "[[ 126    0    0    2]\n",
      " [   0  884  264    4]\n",
      " [   1   35 2429  163]\n",
      " [   0    0  423  409]]\n",
      "Precision: 0.8169712444079495\n",
      "Recall: 0.8118143459915612\n",
      "F1 score: 0.8049080079470095\n"
     ]
    },
    {
     "name": "stderr",
     "output_type": "stream",
     "text": [
      "100%|███████████████████████████████████████| 2401/2401 [03:07<00:00, 12.80it/s]\n",
      "100%|█████████████████████████████████████████| 294/294 [00:08<00:00, 34.06it/s]\n"
     ]
    },
    {
     "name": "stdout",
     "output_type": "stream",
     "text": [
      "Epoch: 1 | train_loss: 0.5060 | train_acc: 0.8056 | test_loss: 0.5843 | test_acc: 0.7915\n"
     ]
    },
    {
     "name": "stderr",
     "output_type": "stream",
     "text": [
      "100%|███████████████████████████████████████| 2401/2401 [03:07<00:00, 12.80it/s]\n",
      "100%|█████████████████████████████████████████| 294/294 [00:08<00:00, 34.19it/s]\n"
     ]
    },
    {
     "name": "stdout",
     "output_type": "stream",
     "text": [
      "Epoch: 2 | train_loss: 0.2265 | train_acc: 0.9169 | test_loss: 0.8305 | test_acc: 0.8029\n"
     ]
    },
    {
     "name": "stderr",
     "output_type": "stream",
     "text": [
      "100%|███████████████████████████████████████| 2401/2401 [03:08<00:00, 12.73it/s]\n",
      "100%|█████████████████████████████████████████| 294/294 [00:08<00:00, 33.36it/s]\n"
     ]
    },
    {
     "name": "stdout",
     "output_type": "stream",
     "text": [
      "Epoch: 3 | train_loss: 0.1867 | train_acc: 0.9335 | test_loss: 0.7216 | test_acc: 0.7122\n"
     ]
    },
    {
     "name": "stderr",
     "output_type": "stream",
     "text": [
      "100%|███████████████████████████████████████| 2401/2401 [03:12<00:00, 12.46it/s]\n",
      "100%|█████████████████████████████████████████| 294/294 [00:08<00:00, 33.49it/s]\n"
     ]
    },
    {
     "name": "stdout",
     "output_type": "stream",
     "text": [
      "Epoch: 4 | train_loss: 0.1581 | train_acc: 0.9424 | test_loss: 1.0913 | test_acc: 0.8068\n"
     ]
    },
    {
     "name": "stderr",
     "output_type": "stream",
     "text": [
      "100%|███████████████████████████████████████| 2401/2401 [03:13<00:00, 12.44it/s]\n",
      "100%|█████████████████████████████████████████| 294/294 [00:08<00:00, 33.38it/s]\n"
     ]
    },
    {
     "name": "stdout",
     "output_type": "stream",
     "text": [
      "Epoch: 5 | train_loss: 0.0931 | train_acc: 0.9685 | test_loss: 0.6528 | test_acc: 0.8386\n"
     ]
    },
    {
     "name": "stderr",
     "output_type": "stream",
     "text": [
      "100%|███████████████████████████████████████| 2401/2401 [03:12<00:00, 12.46it/s]\n",
      "100%|█████████████████████████████████████████| 294/294 [00:08<00:00, 33.75it/s]\n"
     ]
    },
    {
     "name": "stdout",
     "output_type": "stream",
     "text": [
      "Epoch: 6 | train_loss: 0.0933 | train_acc: 0.9685 | test_loss: 0.8389 | test_acc: 0.8380\n"
     ]
    },
    {
     "name": "stderr",
     "output_type": "stream",
     "text": [
      "100%|███████████████████████████████████████| 2401/2401 [03:12<00:00, 12.47it/s]\n",
      "100%|█████████████████████████████████████████| 294/294 [00:08<00:00, 33.25it/s]\n"
     ]
    },
    {
     "name": "stdout",
     "output_type": "stream",
     "text": [
      "Epoch: 7 | train_loss: 0.0604 | train_acc: 0.9793 | test_loss: 0.9592 | test_acc: 0.8287\n"
     ]
    },
    {
     "name": "stderr",
     "output_type": "stream",
     "text": [
      "100%|███████████████████████████████████████| 2401/2401 [03:13<00:00, 12.38it/s]\n",
      "100%|█████████████████████████████████████████| 294/294 [00:08<00:00, 33.60it/s]\n"
     ]
    },
    {
     "name": "stdout",
     "output_type": "stream",
     "text": [
      "Epoch: 8 | train_loss: 0.0587 | train_acc: 0.9809 | test_loss: 0.9995 | test_acc: 0.8399\n"
     ]
    },
    {
     "name": "stderr",
     "output_type": "stream",
     "text": [
      "100%|███████████████████████████████████████| 2401/2401 [03:12<00:00, 12.47it/s]\n",
      "100%|█████████████████████████████████████████| 294/294 [00:08<00:00, 33.49it/s]\n"
     ]
    },
    {
     "name": "stdout",
     "output_type": "stream",
     "text": [
      "Epoch: 9 | train_loss: 0.0538 | train_acc: 0.9831 | test_loss: 1.0366 | test_acc: 0.8484\n"
     ]
    },
    {
     "name": "stderr",
     "output_type": "stream",
     "text": [
      "100%|███████████████████████████████████████| 2401/2401 [03:13<00:00, 12.42it/s]\n",
      "100%|█████████████████████████████████████████| 294/294 [00:08<00:00, 33.35it/s]\n"
     ]
    },
    {
     "name": "stdout",
     "output_type": "stream",
     "text": [
      "Epoch: 10 | train_loss: 0.0463 | train_acc: 0.9850 | test_loss: 1.0287 | test_acc: 0.8467\n"
     ]
    },
    {
     "name": "stderr",
     "output_type": "stream",
     "text": [
      "100%|███████████████████████████████████████| 2401/2401 [03:12<00:00, 12.47it/s]\n",
      "100%|█████████████████████████████████████████| 294/294 [00:08<00:00, 33.51it/s]\n"
     ]
    },
    {
     "name": "stdout",
     "output_type": "stream",
     "text": [
      "Epoch: 11 | train_loss: 0.0439 | train_acc: 0.9864 | test_loss: 0.9153 | test_acc: 0.7991\n"
     ]
    },
    {
     "name": "stderr",
     "output_type": "stream",
     "text": [
      "100%|███████████████████████████████████████| 2401/2401 [03:12<00:00, 12.47it/s]\n",
      "100%|█████████████████████████████████████████| 294/294 [00:08<00:00, 33.86it/s]\n"
     ]
    },
    {
     "name": "stdout",
     "output_type": "stream",
     "text": [
      "Epoch: 12 | train_loss: 0.0381 | train_acc: 0.9879 | test_loss: 1.2406 | test_acc: 0.8270\n"
     ]
    },
    {
     "name": "stderr",
     "output_type": "stream",
     "text": [
      "100%|███████████████████████████████████████| 2401/2401 [03:12<00:00, 12.46it/s]\n",
      "100%|█████████████████████████████████████████| 294/294 [00:08<00:00, 33.55it/s]\n"
     ]
    },
    {
     "name": "stdout",
     "output_type": "stream",
     "text": [
      "Epoch: 13 | train_loss: 0.0397 | train_acc: 0.9871 | test_loss: 1.3488 | test_acc: 0.8236\n"
     ]
    },
    {
     "name": "stderr",
     "output_type": "stream",
     "text": [
      "100%|███████████████████████████████████████| 2401/2401 [03:12<00:00, 12.46it/s]\n",
      "100%|█████████████████████████████████████████| 294/294 [00:08<00:00, 33.44it/s]\n"
     ]
    },
    {
     "name": "stdout",
     "output_type": "stream",
     "text": [
      "Epoch: 14 | train_loss: 0.0328 | train_acc: 0.9892 | test_loss: 1.1557 | test_acc: 0.7821\n"
     ]
    },
    {
     "name": "stderr",
     "output_type": "stream",
     "text": [
      "100%|███████████████████████████████████████| 2401/2401 [03:12<00:00, 12.47it/s]\n",
      "100%|█████████████████████████████████████████| 294/294 [00:08<00:00, 33.83it/s]\n"
     ]
    },
    {
     "name": "stdout",
     "output_type": "stream",
     "text": [
      "Epoch: 15 | train_loss: 0.0353 | train_acc: 0.9891 | test_loss: 1.5503 | test_acc: 0.8314\n"
     ]
    },
    {
     "name": "stderr",
     "output_type": "stream",
     "text": [
      "100%|███████████████████████████████████████| 2401/2401 [03:12<00:00, 12.47it/s]\n",
      "100%|█████████████████████████████████████████| 294/294 [00:08<00:00, 33.61it/s]\n"
     ]
    },
    {
     "name": "stdout",
     "output_type": "stream",
     "text": [
      "Epoch: 16 | train_loss: 0.0285 | train_acc: 0.9913 | test_loss: 1.8969 | test_acc: 0.8318\n"
     ]
    },
    {
     "name": "stderr",
     "output_type": "stream",
     "text": [
      "100%|███████████████████████████████████████| 2401/2401 [03:12<00:00, 12.45it/s]\n",
      "100%|█████████████████████████████████████████| 294/294 [00:08<00:00, 33.77it/s]\n"
     ]
    },
    {
     "name": "stdout",
     "output_type": "stream",
     "text": [
      "Epoch: 17 | train_loss: 0.0241 | train_acc: 0.9923 | test_loss: 1.4513 | test_acc: 0.8510\n"
     ]
    },
    {
     "name": "stderr",
     "output_type": "stream",
     "text": [
      "100%|███████████████████████████████████████| 2401/2401 [03:12<00:00, 12.45it/s]\n",
      "100%|█████████████████████████████████████████| 294/294 [00:09<00:00, 32.63it/s]\n"
     ]
    },
    {
     "name": "stdout",
     "output_type": "stream",
     "text": [
      "Epoch: 18 | train_loss: 0.0288 | train_acc: 0.9911 | test_loss: 0.8468 | test_acc: 0.8763\n"
     ]
    },
    {
     "name": "stderr",
     "output_type": "stream",
     "text": [
      "100%|███████████████████████████████████████| 2401/2401 [03:12<00:00, 12.47it/s]\n",
      "100%|█████████████████████████████████████████| 294/294 [00:08<00:00, 33.61it/s]\n"
     ]
    },
    {
     "name": "stdout",
     "output_type": "stream",
     "text": [
      "Epoch: 19 | train_loss: 0.0219 | train_acc: 0.9935 | test_loss: 0.8525 | test_acc: 0.8533\n"
     ]
    },
    {
     "name": "stderr",
     "output_type": "stream",
     "text": [
      "100%|███████████████████████████████████████| 2401/2401 [03:12<00:00, 12.46it/s]\n",
      "100%|█████████████████████████████████████████| 294/294 [00:08<00:00, 33.39it/s]\n"
     ]
    },
    {
     "name": "stdout",
     "output_type": "stream",
     "text": [
      "Epoch: 20 | train_loss: 0.0267 | train_acc: 0.9922 | test_loss: 0.6820 | test_acc: 0.8665\n"
     ]
    },
    {
     "name": "stderr",
     "output_type": "stream",
     "text": [
      "100%|███████████████████████████████████████| 2401/2401 [03:12<00:00, 12.45it/s]\n",
      "100%|█████████████████████████████████████████| 294/294 [00:08<00:00, 33.58it/s]\n"
     ]
    },
    {
     "name": "stdout",
     "output_type": "stream",
     "text": [
      "Epoch: 21 | train_loss: 0.0191 | train_acc: 0.9943 | test_loss: 0.9875 | test_acc: 0.8805\n"
     ]
    },
    {
     "name": "stderr",
     "output_type": "stream",
     "text": [
      "100%|███████████████████████████████████████| 2401/2401 [03:12<00:00, 12.46it/s]\n",
      "100%|█████████████████████████████████████████| 294/294 [00:08<00:00, 33.38it/s]\n"
     ]
    },
    {
     "name": "stdout",
     "output_type": "stream",
     "text": [
      "Epoch: 22 | train_loss: 0.0220 | train_acc: 0.9932 | test_loss: 1.4035 | test_acc: 0.8155\n"
     ]
    },
    {
     "name": "stderr",
     "output_type": "stream",
     "text": [
      "100%|███████████████████████████████████████| 2401/2401 [03:12<00:00, 12.50it/s]\n",
      "100%|█████████████████████████████████████████| 294/294 [00:08<00:00, 33.44it/s]\n"
     ]
    },
    {
     "name": "stdout",
     "output_type": "stream",
     "text": [
      "Epoch: 23 | train_loss: 0.0205 | train_acc: 0.9941 | test_loss: 1.4179 | test_acc: 0.8474\n"
     ]
    },
    {
     "name": "stderr",
     "output_type": "stream",
     "text": [
      "100%|███████████████████████████████████████| 2401/2401 [03:12<00:00, 12.46it/s]\n",
      "100%|█████████████████████████████████████████| 294/294 [00:08<00:00, 33.86it/s]\n"
     ]
    },
    {
     "name": "stdout",
     "output_type": "stream",
     "text": [
      "Epoch: 24 | train_loss: 0.0207 | train_acc: 0.9936 | test_loss: 2.1366 | test_acc: 0.8333\n"
     ]
    },
    {
     "name": "stderr",
     "output_type": "stream",
     "text": [
      "100%|███████████████████████████████████████| 2401/2401 [03:12<00:00, 12.46it/s]\n",
      "100%|█████████████████████████████████████████| 294/294 [00:08<00:00, 33.20it/s]\n"
     ]
    },
    {
     "name": "stdout",
     "output_type": "stream",
     "text": [
      "Epoch: 25 | train_loss: 0.0274 | train_acc: 0.9918 | test_loss: 1.2398 | test_acc: 0.8438\n"
     ]
    },
    {
     "name": "stderr",
     "output_type": "stream",
     "text": [
      "100%|███████████████████████████████████████| 2401/2401 [03:12<00:00, 12.44it/s]\n",
      "100%|█████████████████████████████████████████| 294/294 [00:08<00:00, 33.40it/s]\n"
     ]
    },
    {
     "name": "stdout",
     "output_type": "stream",
     "text": [
      "Epoch: 26 | train_loss: 0.0135 | train_acc: 0.9961 | test_loss: 1.2926 | test_acc: 0.8159\n"
     ]
    },
    {
     "name": "stderr",
     "output_type": "stream",
     "text": [
      "100%|███████████████████████████████████████| 2401/2401 [03:12<00:00, 12.50it/s]\n",
      "100%|█████████████████████████████████████████| 294/294 [00:08<00:00, 33.52it/s]\n"
     ]
    },
    {
     "name": "stdout",
     "output_type": "stream",
     "text": [
      "Epoch: 27 | train_loss: 0.0168 | train_acc: 0.9946 | test_loss: 1.3587 | test_acc: 0.8420\n"
     ]
    },
    {
     "name": "stderr",
     "output_type": "stream",
     "text": [
      "100%|███████████████████████████████████████| 2401/2401 [03:12<00:00, 12.45it/s]\n",
      "100%|█████████████████████████████████████████| 294/294 [00:08<00:00, 33.61it/s]\n"
     ]
    },
    {
     "name": "stdout",
     "output_type": "stream",
     "text": [
      "Epoch: 28 | train_loss: 0.0207 | train_acc: 0.9939 | test_loss: 1.4032 | test_acc: 0.8550\n"
     ]
    },
    {
     "name": "stderr",
     "output_type": "stream",
     "text": [
      "100%|███████████████████████████████████████| 2401/2401 [03:12<00:00, 12.49it/s]\n",
      "100%|█████████████████████████████████████████| 294/294 [00:08<00:00, 33.70it/s]\n"
     ]
    },
    {
     "name": "stdout",
     "output_type": "stream",
     "text": [
      "Epoch: 29 | train_loss: 0.0174 | train_acc: 0.9956 | test_loss: 1.2355 | test_acc: 0.8369\n"
     ]
    },
    {
     "name": "stderr",
     "output_type": "stream",
     "text": [
      "100%|███████████████████████████████████████| 2401/2401 [03:12<00:00, 12.45it/s]\n",
      "100%|█████████████████████████████████████████| 294/294 [00:08<00:00, 33.45it/s]\n"
     ]
    },
    {
     "name": "stdout",
     "output_type": "stream",
     "text": [
      "Epoch: 30 | train_loss: 0.0174 | train_acc: 0.9947 | test_loss: 1.6485 | test_acc: 0.8019\n"
     ]
    },
    {
     "name": "stderr",
     "output_type": "stream",
     "text": [
      "100%|███████████████████████████████████████| 2401/2401 [03:12<00:00, 12.48it/s]\n",
      "100%|█████████████████████████████████████████| 294/294 [00:08<00:00, 33.75it/s]\n"
     ]
    },
    {
     "name": "stdout",
     "output_type": "stream",
     "text": [
      "Epoch: 31 | train_loss: 0.0193 | train_acc: 0.9937 | test_loss: 1.1660 | test_acc: 0.8476\n"
     ]
    },
    {
     "name": "stderr",
     "output_type": "stream",
     "text": [
      "100%|███████████████████████████████████████| 2401/2401 [03:13<00:00, 12.43it/s]\n",
      "100%|█████████████████████████████████████████| 294/294 [00:08<00:00, 33.47it/s]\n"
     ]
    },
    {
     "name": "stdout",
     "output_type": "stream",
     "text": [
      "Epoch: 32 | train_loss: 0.0158 | train_acc: 0.9956 | test_loss: 0.9003 | test_acc: 0.8786\n"
     ]
    },
    {
     "name": "stderr",
     "output_type": "stream",
     "text": [
      "100%|███████████████████████████████████████| 2401/2401 [03:11<00:00, 12.51it/s]\n",
      "100%|█████████████████████████████████████████| 294/294 [00:08<00:00, 33.35it/s]\n"
     ]
    },
    {
     "name": "stdout",
     "output_type": "stream",
     "text": [
      "Epoch: 33 | train_loss: 0.0117 | train_acc: 0.9963 | test_loss: 1.1780 | test_acc: 0.8703\n"
     ]
    },
    {
     "name": "stderr",
     "output_type": "stream",
     "text": [
      "100%|███████████████████████████████████████| 2401/2401 [03:12<00:00, 12.46it/s]\n",
      "100%|█████████████████████████████████████████| 294/294 [00:08<00:00, 33.64it/s]\n"
     ]
    },
    {
     "name": "stdout",
     "output_type": "stream",
     "text": [
      "Epoch: 34 | train_loss: 0.0171 | train_acc: 0.9953 | test_loss: 1.7842 | test_acc: 0.8310\n"
     ]
    },
    {
     "name": "stderr",
     "output_type": "stream",
     "text": [
      "100%|███████████████████████████████████████| 2401/2401 [03:13<00:00, 12.43it/s]\n",
      "100%|█████████████████████████████████████████| 294/294 [00:08<00:00, 33.53it/s]\n"
     ]
    },
    {
     "name": "stdout",
     "output_type": "stream",
     "text": [
      "Epoch: 35 | train_loss: 0.0144 | train_acc: 0.9961 | test_loss: 1.9068 | test_acc: 0.8116\n"
     ]
    },
    {
     "name": "stderr",
     "output_type": "stream",
     "text": [
      "100%|███████████████████████████████████████| 2401/2401 [03:12<00:00, 12.49it/s]\n",
      "100%|█████████████████████████████████████████| 294/294 [00:08<00:00, 33.74it/s]\n"
     ]
    },
    {
     "name": "stdout",
     "output_type": "stream",
     "text": [
      "Epoch: 36 | train_loss: 0.0153 | train_acc: 0.9959 | test_loss: 1.5702 | test_acc: 0.8423\n"
     ]
    },
    {
     "name": "stderr",
     "output_type": "stream",
     "text": [
      "100%|███████████████████████████████████████| 2401/2401 [03:12<00:00, 12.46it/s]\n",
      "100%|█████████████████████████████████████████| 294/294 [00:08<00:00, 33.60it/s]\n"
     ]
    },
    {
     "name": "stdout",
     "output_type": "stream",
     "text": [
      "Epoch: 37 | train_loss: 0.0111 | train_acc: 0.9964 | test_loss: 1.5726 | test_acc: 0.8588\n"
     ]
    },
    {
     "name": "stderr",
     "output_type": "stream",
     "text": [
      "100%|███████████████████████████████████████| 2401/2401 [03:12<00:00, 12.48it/s]\n",
      "100%|█████████████████████████████████████████| 294/294 [00:08<00:00, 33.34it/s]\n"
     ]
    },
    {
     "name": "stdout",
     "output_type": "stream",
     "text": [
      "Epoch: 38 | train_loss: 0.0232 | train_acc: 0.9945 | test_loss: 1.2850 | test_acc: 0.8363\n"
     ]
    },
    {
     "name": "stderr",
     "output_type": "stream",
     "text": [
      "100%|███████████████████████████████████████| 2401/2401 [03:12<00:00, 12.50it/s]\n",
      "100%|█████████████████████████████████████████| 294/294 [00:08<00:00, 33.50it/s]\n"
     ]
    },
    {
     "name": "stdout",
     "output_type": "stream",
     "text": [
      "Epoch: 39 | train_loss: 0.0116 | train_acc: 0.9973 | test_loss: 0.7253 | test_acc: 0.8593\n"
     ]
    },
    {
     "name": "stderr",
     "output_type": "stream",
     "text": [
      "100%|███████████████████████████████████████| 2401/2401 [03:12<00:00, 12.48it/s]\n",
      "100%|█████████████████████████████████████████| 294/294 [00:08<00:00, 33.42it/s]\n"
     ]
    },
    {
     "name": "stdout",
     "output_type": "stream",
     "text": [
      "Epoch: 40 | train_loss: 0.0144 | train_acc: 0.9962 | test_loss: 1.6683 | test_acc: 0.8508\n",
      "Confusion matrix: \n",
      "[[ 128    0    0    0]\n",
      " [   0 1121   28    3]\n",
      " [  35   49 1849   83]\n",
      " [   0    0  282  838]]\n",
      "Precision: 0.8936955193254573\n",
      "Recall: 0.8913043478260869\n",
      "F1 score: 0.8897056238531327\n"
     ]
    },
    {
     "data": {
      "image/png": "[encoded data removed]",
      "text/plain": [
       "<Figure size 1500x700 with 2 Axes>"
      ]
     },
     "metadata": {},
     "output_type": "display_data"
    },
    {
     "data": {
      "image/png": "[encoded data removed]",
      "text/plain": [
       "<Figure size 1500x700 with 2 Axes>"
      ]
     },
     "metadata": {},
     "output_type": "display_data"
    },
    {
     "data": {
      "image/png": "[encoded data removed]",
      "text/plain": [
       "<Figure size 1500x700 with 2 Axes>"
      ]
     },
     "metadata": {},
     "output_type": "display_data"
    },
    {
     "data": {
      "image/png": "[encoded data removed]",
      "text/plain": [
       "<Figure size 1500x700 with 2 Axes>"
      ]
     },
     "metadata": {},
     "output_type": "display_data"
    },
    {
     "data": {
      "image/png": "[encoded data removed]",
      "text/plain": [
       "<Figure size 1500x700 with 2 Axes>"
      ]
     },
     "metadata": {},
     "output_type": "display_data"
    }
   ],
   "source": [
    "features = [item[1] for item in class_labels]\n",
    "labels = [item[0] for item in class_labels]\n",
    "num_folds = 5\n",
    "kfold = StratifiedKFold(n_splits=num_folds, shuffle=True, random_state=42)\n",
    "kfold.split(features, labels)\n",
    "\n",
    "average_validation_accuracy = []\n",
    "for train_indices, test_indices in kfold.split(features, labels):\n",
    "    train_data = [(labels[i], features[i]) for i in train_indices]\n",
    "    test_datas = [(labels[i], features[i]) for i in test_indices]\n",
    "    #print(train_indices)\n",
    "    num_fold = 2\n",
    "    test_features = [item[1] for item in test_datas]\n",
    "    test_labels = [item[0] for item in test_datas]\n",
    "    kfold_test = StratifiedKFold(n_splits=num_fold, shuffle=True, random_state=42)\n",
    "    for val_indice, test_indice in kfold_test.split(test_features, test_labels):\n",
    "        val_data = [(test_labels[i], test_features[i]) for i in val_indice]\n",
    "        test_data = [(test_labels[i], test_features[i]) for i in test_indice]\n",
    "\n",
    "    # For getting the value address of train image\n",
    "    new_train_value=[]\n",
    "    for room in train_data:\n",
    "        photo = os.listdir(room[1])\n",
    "        for image in photo:\n",
    "            new_train_value.append((room[0],str(room[1] +'/' +image)))\n",
    "\n",
    "    #Creating the Dataframe for Train\n",
    "    train_df= pd.DataFrame(data=new_train_value, columns=['labels', 'filepaths'])\n",
    "\n",
    "    # For getting the value address of test image\n",
    "    new_test_value=[]\n",
    "    for room in test_data:\n",
    "        photo = os.listdir(room[1])\n",
    "        for image in photo:\n",
    "            new_test_value.append((room[0],str(room[1] +'/' +image)))\n",
    "\n",
    "    #Creating the Dataframe for Testing\n",
    "    test_df= pd.DataFrame(data=new_test_value, columns=['labels', 'filepaths'])\n",
    "\n",
    "    # For getting the value address of Validation image\n",
    "    new_val_value=[]\n",
    "    for room in val_data:\n",
    "        photo = os.listdir(room[1])\n",
    "        for image in photo:\n",
    "            new_val_value.append((room[0],str(room[1] +'/' +image)))\n",
    "\n",
    "    #Creating the Dataframe for Validation\n",
    "    val_df= pd.DataFrame(data=new_val_value, columns=['labels', 'filepaths'])\n",
    "\n",
    "\n",
    "#############################################################################################################################################\n",
    "    # Create data loaders\n",
    "    train_gen, test_gen, valid_gen, class_names = create_dataloaders(\n",
    "        train_df=train_df,\n",
    "        test_df=test_df,\n",
    "        val_df=val_df,\n",
    "        batch_size=BATCH_SIZE\n",
    "    )\n",
    "\n",
    "    train_gen, test_gen, valid_gen, class_names\n",
    "    classes=labels\n",
    "    class_count=len(classes)\n",
    "\n",
    "\n",
    "#############################################################################################################################################\n",
    "\n",
    "    # Setup the optimizer to optimize our ViT model parameters using hyperparameters from the ViT paper\n",
    "    model = CViT(image_size=49, patch_size=7, num_classes=4, channels=512,\n",
    "            dim=1024, depth=6, heads=8, mlp_dim=2048)\n",
    "    model.to(device)\n",
    "    optimizer = torch.optim.Adam(model.parameters(),lr=LR)\n",
    "\n",
    "    # Setup the loss function for multi-class classification\n",
    "    loss_fn = torch.nn.CrossEntropyLoss()\n",
    "\n",
    "    # Set the seeds\n",
    "    #set_seeds()\n",
    "    # Train the model and save the training results to a dictionary\n",
    "    model_results = engine.train(model=model,\n",
    "                           train_dataloader=train_gen,\n",
    "                           valid_dataloader=valid_gen,\n",
    "                           optimizer=optimizer,\n",
    "                           loss_fn=loss_fn,\n",
    "                           epochs=EPOCHS,\n",
    "                           device=device)\n",
    "    average_validation_accuracy.append(model_results[\"test_acc\"])\n",
    "\n",
    "##############################################################################################################################################\n",
    "    # we can use the plot_loss_curves function from helper_functions.py\n",
    "    # Plot our ViT model's loss curves\n",
    "    plot_loss_curves(model_results)\n",
    "\n",
    "\n",
    "#############################################################################################################################################\n",
    "    # EVALUATION\n",
    "    model.eval()\n",
    "    y_true=[]\n",
    "    y_pred=[]\n",
    "    for _,(image, label) in enumerate(test_gen):\n",
    "        y_true.extend(label.cpu().numpy())\n",
    "        prediction =torch.argmax(torch.softmax(model(image.to(device)),dim=1),dim=1)\n",
    "        prediction=prediction.cpu().numpy()\n",
    "        y_pred.extend(prediction)\n",
    "\n",
    "\n",
    "    #confusion matrix\n",
    "    from sklearn.metrics import confusion_matrix\n",
    "    cm = confusion_matrix(y_true, y_pred)\n",
    "    print(f\"Confusion matrix: \\n{cm}\")\n",
    "\n",
    "    #Metrics\n",
    "\n",
    "    from sklearn.metrics import precision_score, recall_score, f1_score\n",
    "    precision = precision_score(y_true, y_pred, average='weighted')\n",
    "    recall = recall_score(y_true, y_pred, average='weighted')\n",
    "    f1 = f1_score(y_true, y_pred, average='weighted')\n",
    "\n",
    "    print(f\"Precision: {precision}\")\n",
    "    print(f\"Recall: {recall}\")\n",
    "    print(f\"F1 score: {f1}\")\n",
    "\n"
   ]
  },
  {
   "cell_type": "markdown",
   "metadata": {
    "id": "i3BKFbCTYS9a"
   },
   "source": [
    "-----------------------------DONE---------------------------------------"
   ]
  },
  {
   "cell_type": "code",
   "execution_count": 16,
   "metadata": {
    "id": "GMciJL7LWrQR"
   },
   "outputs": [],
   "source": [
    "def test(model):\n",
    "    model.eval()\n",
    "\n",
    "    Sum = 0\n",
    "    for inputs, labels in test_loader:\n",
    "        inputs = inputs.to(device)\n",
    "        labels = labels.to(device)\n",
    "        output = model(inputs).to(device).float()\n",
    "\n",
    "        _,prediction = torch.max(output,1)\n",
    "\n",
    "        pred_label = labels[prediction]\n",
    "        pred_label = pred_label.detach().cpu().numpy()\n",
    "        main_label = labels.detach().cpu().numpy()\n",
    "        bool_list  = list(map(lambda x, y: x == y, pred_label, main_label))\n",
    "        Sum += sum(np.array(bool_list)*1)\n",
    "\n",
    "    print('Prediction: ', (Sum/len(test_loader.dataset)*100,'%'))"
   ]
  },
  {
   "cell_type": "code",
   "execution_count": 17,
   "metadata": {
    "id": "ID88SAb3YRjK"
   },
   "outputs": [
    {
     "ename": "NameError",
     "evalue": "name 'test_loader' is not defined",
     "output_type": "error",
     "traceback": [
      "\u001b[0;31m---------------------------------------------------------------------------\u001b[0m",
      "\u001b[0;31mNameError\u001b[0m                                 Traceback (most recent call last)",
      "Cell \u001b[0;32mIn[17], line 1\u001b[0m\n\u001b[0;32m----> 1\u001b[0m \u001b[43mtest\u001b[49m\u001b[43m(\u001b[49m\u001b[43mmodel\u001b[49m\u001b[43m)\u001b[49m\n",
      "Cell \u001b[0;32mIn[16], line 5\u001b[0m, in \u001b[0;36mtest\u001b[0;34m(model)\u001b[0m\n\u001b[1;32m      2\u001b[0m model\u001b[38;5;241m.\u001b[39meval()\n\u001b[1;32m      4\u001b[0m Sum \u001b[38;5;241m=\u001b[39m \u001b[38;5;241m0\u001b[39m\n\u001b[0;32m----> 5\u001b[0m \u001b[38;5;28;01mfor\u001b[39;00m inputs, labels \u001b[38;5;129;01min\u001b[39;00m \u001b[43mtest_loader\u001b[49m:\n\u001b[1;32m      6\u001b[0m     inputs \u001b[38;5;241m=\u001b[39m inputs\u001b[38;5;241m.\u001b[39mto(device)\n\u001b[1;32m      7\u001b[0m     labels \u001b[38;5;241m=\u001b[39m labels\u001b[38;5;241m.\u001b[39mto(device)\n",
      "\u001b[0;31mNameError\u001b[0m: name 'test_loader' is not defined"
     ]
    }
   ],
   "source": [
    "test(model)"
   ]
  },
  {
   "cell_type": "code",
   "execution_count": null,
   "metadata": {},
   "outputs": [],
   "source": [
    "# TESTING\n",
    "test_losses = []\n",
    "test_accuracies = []\n",
    "\n",
    "all_preds = []\n",
    "all_labels = []\n",
    "model.eval()\n",
    "total_test_loss = 0.0\n",
    "correct_test = 0\n",
    "with torch.no_grad():\n",
    "    for images, labels in test_loader:\n",
    "        images, labels = images.to(device), labels.to(device)\n",
    "        outputs = model(images)\n",
    "        test_loss = criterion(outputs, labels)\n",
    "        total_test_loss += test_loss.item() * images.size(0)\n",
    "        pred = outputs.argmax(dim=1, keepdim=True)\n",
    "        correct_test += pred.eq(labels.view_as(pred)).sum().item()\n",
    "        # Gather predictions and true labels for confusion matrix\n",
    "        all_preds.extend(pred.cpu().numpy())\n",
    "        all_labels.extend(labels.cpu().numpy())\n",
    "\n",
    "average_test_loss = total_test_loss / len(test_loader.dataset)\n",
    "test_losses.append(average_test_loss)\n",
    "test_accuracies.append(100. * correct_test / len(test_loader.dataset))\n",
    "print(\"Test Accuracy: {:.2f}%\".format(test_accuracies[-1]))"
   ]
  },
  {
   "cell_type": "code",
   "execution_count": null,
   "metadata": {},
   "outputs": [],
   "source": [
    "from sklearn.metrics import confusion_matrix, classification_report\n",
    "# Confusion Matrix\n",
    "conf_matrix = confusion_matrix(all_labels, all_preds)\n",
    "print(\"Confusion Matrix:\")\n",
    "print(conf_matrix)\n",
    "# Classification Report\n",
    "class_report = classification_report(all_labels, all_preds)\n",
    "print(\"Classification Report:\")\n",
    "print(class_report)"
   ]
  }
 ],
 "metadata": {
  "accelerator": "GPU",
  "colab": {
   "gpuType": "T4",
   "provenance": []
  },
  "kernelspec": {
   "display_name": "graspenv",
   "language": "python",
   "name": "graspenv"
  },
  "language_info": {
   "codemirror_mode": {
    "name": "ipython",
    "version": 3
   },
   "file_extension": ".py",
   "mimetype": "text/x-python",
   "name": "python",
   "nbconvert_exporter": "python",
   "pygments_lexer": "ipython3",
   "version": "3.10.12"
  },
  "widgets": {
   "application/vnd.jupyter.widget-state+json": {
    "68cd9ab44b52456996c5069126433eb6": {
     "model_module": "@jupyter-widgets/controls",
     "model_module_version": "1.5.0",
     "model_name": "ProgressStyleModel",
     "state": {
      "_model_module": "@jupyter-widgets/controls",
      "_model_module_version": "1.5.0",
      "_model_name": "ProgressStyleModel",
      "_view_count": null,
      "_view_module": "@jupyter-widgets/base",
      "_view_module_version": "1.2.0",
      "_view_name": "StyleView",
      "bar_color": null,
      "description_width": ""
     }
    },
    "7537983fe8d1404c9a763080ae4ab5cf": {
     "model_module": "@jupyter-widgets/controls",
     "model_module_version": "1.5.0",
     "model_name": "HTMLModel",
     "state": {
      "_dom_classes": [],
      "_model_module": "@jupyter-widgets/controls",
      "_model_module_version": "1.5.0",
      "_model_name": "HTMLModel",
      "_view_count": null,
      "_view_module": "@jupyter-widgets/controls",
      "_view_module_version": "1.5.0",
      "_view_name": "HTMLView",
      "description": "",
      "description_tooltip": null,
      "layout": "IPY_MODEL_dcbf66813e304f1daf2c38a4e34cae06",
      "placeholder": "​",
      "style": "IPY_MODEL_e9619f297edd469e94e98e0edb0d8789",
      "value": "  5%"
     }
    },
    "7f28401be0874ecc87506f224d36505e": {
     "model_module": "@jupyter-widgets/controls",
     "model_module_version": "1.5.0",
     "model_name": "HTMLModel",
     "state": {
      "_dom_classes": [],
      "_model_module": "@jupyter-widgets/controls",
      "_model_module_version": "1.5.0",
      "_model_name": "HTMLModel",
      "_view_count": null,
      "_view_module": "@jupyter-widgets/controls",
      "_view_module_version": "1.5.0",
      "_view_name": "HTMLView",
      "description": "",
      "description_tooltip": null,
      "layout": "IPY_MODEL_c12a054199244410bf85400281ec61c6",
      "placeholder": "​",
      "style": "IPY_MODEL_a68af7494281409da16a29317d0bd33c",
      "value": " 2/40 [1:44:03&lt;32:54:40, 3117.92s/it]"
     }
    },
    "a2083115b49b4887a62d2c85d4cabf87": {
     "model_module": "@jupyter-widgets/base",
     "model_module_version": "1.2.0",
     "model_name": "LayoutModel",
     "state": {
      "_model_module": "@jupyter-widgets/base",
      "_model_module_version": "1.2.0",
      "_model_name": "LayoutModel",
      "_view_count": null,
      "_view_module": "@jupyter-widgets/base",
      "_view_module_version": "1.2.0",
      "_view_name": "LayoutView",
      "align_content": null,
      "align_items": null,
      "align_self": null,
      "border": null,
      "bottom": null,
      "display": null,
      "flex": null,
      "flex_flow": null,
      "grid_area": null,
      "grid_auto_columns": null,
      "grid_auto_flow": null,
      "grid_auto_rows": null,
      "grid_column": null,
      "grid_gap": null,
      "grid_row": null,
      "grid_template_areas": null,
      "grid_template_columns": null,
      "grid_template_rows": null,
      "height": null,
      "justify_content": null,
      "justify_items": null,
      "left": null,
      "margin": null,
      "max_height": null,
      "max_width": null,
      "min_height": null,
      "min_width": null,
      "object_fit": null,
      "object_position": null,
      "order": null,
      "overflow": null,
      "overflow_x": null,
      "overflow_y": null,
      "padding": null,
      "right": null,
      "top": null,
      "visibility": null,
      "width": null
     }
    },
    "a68af7494281409da16a29317d0bd33c": {
     "model_module": "@jupyter-widgets/controls",
     "model_module_version": "1.5.0",
     "model_name": "DescriptionStyleModel",
     "state": {
      "_model_module": "@jupyter-widgets/controls",
      "_model_module_version": "1.5.0",
      "_model_name": "DescriptionStyleModel",
      "_view_count": null,
      "_view_module": "@jupyter-widgets/base",
      "_view_module_version": "1.2.0",
      "_view_name": "StyleView",
      "description_width": ""
     }
    },
    "c12a054199244410bf85400281ec61c6": {
     "model_module": "@jupyter-widgets/base",
     "model_module_version": "1.2.0",
     "model_name": "LayoutModel",
     "state": {
      "_model_module": "@jupyter-widgets/base",
      "_model_module_version": "1.2.0",
      "_model_name": "LayoutModel",
      "_view_count": null,
      "_view_module": "@jupyter-widgets/base",
      "_view_module_version": "1.2.0",
      "_view_name": "LayoutView",
      "align_content": null,
      "align_items": null,
      "align_self": null,
      "border": null,
      "bottom": null,
      "display": null,
      "flex": null,
      "flex_flow": null,
      "grid_area": null,
      "grid_auto_columns": null,
      "grid_auto_flow": null,
      "grid_auto_rows": null,
      "grid_column": null,
      "grid_gap": null,
      "grid_row": null,
      "grid_template_areas": null,
      "grid_template_columns": null,
      "grid_template_rows": null,
      "height": null,
      "justify_content": null,
      "justify_items": null,
      "left": null,
      "margin": null,
      "max_height": null,
      "max_width": null,
      "min_height": null,
      "min_width": null,
      "object_fit": null,
      "object_position": null,
      "order": null,
      "overflow": null,
      "overflow_x": null,
      "overflow_y": null,
      "padding": null,
      "right": null,
      "top": null,
      "visibility": null,
      "width": null
     }
    },
    "dcbf66813e304f1daf2c38a4e34cae06": {
     "model_module": "@jupyter-widgets/base",
     "model_module_version": "1.2.0",
     "model_name": "LayoutModel",
     "state": {
      "_model_module": "@jupyter-widgets/base",
      "_model_module_version": "1.2.0",
      "_model_name": "LayoutModel",
      "_view_count": null,
      "_view_module": "@jupyter-widgets/base",
      "_view_module_version": "1.2.0",
      "_view_name": "LayoutView",
      "align_content": null,
      "align_items": null,
      "align_self": null,
      "border": null,
      "bottom": null,
      "display": null,
      "flex": null,
      "flex_flow": null,
      "grid_area": null,
      "grid_auto_columns": null,
      "grid_auto_flow": null,
      "grid_auto_rows": null,
      "grid_column": null,
      "grid_gap": null,
      "grid_row": null,
      "grid_template_areas": null,
      "grid_template_columns": null,
      "grid_template_rows": null,
      "height": null,
      "justify_content": null,
      "justify_items": null,
      "left": null,
      "margin": null,
      "max_height": null,
      "max_width": null,
      "min_height": null,
      "min_width": null,
      "object_fit": null,
      "object_position": null,
      "order": null,
      "overflow": null,
      "overflow_x": null,
      "overflow_y": null,
      "padding": null,
      "right": null,
      "top": null,
      "visibility": null,
      "width": null
     }
    },
    "e9619f297edd469e94e98e0edb0d8789": {
     "model_module": "@jupyter-widgets/controls",
     "model_module_version": "1.5.0",
     "model_name": "DescriptionStyleModel",
     "state": {
      "_model_module": "@jupyter-widgets/controls",
      "_model_module_version": "1.5.0",
      "_model_name": "DescriptionStyleModel",
      "_view_count": null,
      "_view_module": "@jupyter-widgets/base",
      "_view_module_version": "1.2.0",
      "_view_name": "StyleView",
      "description_width": ""
     }
    },
    "ebe4b122e9b14546b24762abd6286272": {
     "model_module": "@jupyter-widgets/controls",
     "model_module_version": "1.5.0",
     "model_name": "FloatProgressModel",
     "state": {
      "_dom_classes": [],
      "_model_module": "@jupyter-widgets/controls",
      "_model_module_version": "1.5.0",
      "_model_name": "FloatProgressModel",
      "_view_count": null,
      "_view_module": "@jupyter-widgets/controls",
      "_view_module_version": "1.5.0",
      "_view_name": "ProgressView",
      "bar_style": "",
      "description": "",
      "description_tooltip": null,
      "layout": "IPY_MODEL_efd3091e0f59412d924650048153f033",
      "max": 40,
      "min": 0,
      "orientation": "horizontal",
      "style": "IPY_MODEL_68cd9ab44b52456996c5069126433eb6",
      "value": 2
     }
    },
    "efd3091e0f59412d924650048153f033": {
     "model_module": "@jupyter-widgets/base",
     "model_module_version": "1.2.0",
     "model_name": "LayoutModel",
     "state": {
      "_model_module": "@jupyter-widgets/base",
      "_model_module_version": "1.2.0",
      "_model_name": "LayoutModel",
      "_view_count": null,
      "_view_module": "@jupyter-widgets/base",
      "_view_module_version": "1.2.0",
      "_view_name": "LayoutView",
      "align_content": null,
      "align_items": null,
      "align_self": null,
      "border": null,
      "bottom": null,
      "display": null,
      "flex": null,
      "flex_flow": null,
      "grid_area": null,
      "grid_auto_columns": null,
      "grid_auto_flow": null,
      "grid_auto_rows": null,
      "grid_column": null,
      "grid_gap": null,
      "grid_row": null,
      "grid_template_areas": null,
      "grid_template_columns": null,
      "grid_template_rows": null,
      "height": null,
      "justify_content": null,
      "justify_items": null,
      "left": null,
      "margin": null,
      "max_height": null,
      "max_width": null,
      "min_height": null,
      "min_width": null,
      "object_fit": null,
      "object_position": null,
      "order": null,
      "overflow": null,
      "overflow_x": null,
      "overflow_y": null,
      "padding": null,
      "right": null,
      "top": null,
      "visibility": null,
      "width": null
     }
    },
    "fae333f66817476481457ab1d42f128b": {
     "model_module": "@jupyter-widgets/controls",
     "model_module_version": "1.5.0",
     "model_name": "HBoxModel",
     "state": {
      "_dom_classes": [],
      "_model_module": "@jupyter-widgets/controls",
      "_model_module_version": "1.5.0",
      "_model_name": "HBoxModel",
      "_view_count": null,
      "_view_module": "@jupyter-widgets/controls",
      "_view_module_version": "1.5.0",
      "_view_name": "HBoxView",
      "box_style": "",
      "children": [
       "IPY_MODEL_7537983fe8d1404c9a763080ae4ab5cf",
       "IPY_MODEL_ebe4b122e9b14546b24762abd6286272",
       "IPY_MODEL_7f28401be0874ecc87506f224d36505e"
      ],
      "layout": "IPY_MODEL_a2083115b49b4887a62d2c85d4cabf87"
     }
    }
   }
  }
 },
 "nbformat": 4,
 "nbformat_minor": 1
}
