{
 "cells": [
  {
   "cell_type": "code",
   "execution_count": 1,
   "metadata": {
    "colab": {
     "base_uri": "https://localhost:8080/"
    },
    "id": "zPpsBki0Yj06",
    "outputId": "ea293c1b-bba5-4ade-db70-5adc3f9433bc"
   },
   "outputs": [
    {
     "name": "stdout",
     "output_type": "stream",
     "text": [
      "Defaulting to user installation because normal site-packages is not writeable\n",
      "Requirement already satisfied: einops in /home/srikanth/.local/lib/python3.10/site-packages (0.7.0)\n"
     ]
    }
   ],
   "source": [
    "!pip install einops"
   ]
  },
  {
   "cell_type": "code",
   "execution_count": 2,
   "metadata": {
    "id": "SRAFDacGP25B"
   },
   "outputs": [
    {
     "name": "stderr",
     "output_type": "stream",
     "text": [
      "/tmp/ipykernel_12974/676446573.py:7: DeprecationWarning: \n",
      "Pyarrow will become a required dependency of pandas in the next major release of pandas (pandas 3.0),\n",
      "(to allow more performant data types, such as the Arrow string type, and better interoperability with other libraries)\n",
      "but was not found to be installed on your system.\n",
      "If this would cause problems for you,\n",
      "please provide us feedback at https://github.com/pandas-dev/pandas/issues/54466\n",
      "        \n",
      "  import pandas as pd\n"
     ]
    }
   ],
   "source": [
    "import os\n",
    "import sys\n",
    "import shutil\n",
    "from PIL import Image\n",
    "from tqdm import tqdm\n",
    "import numpy as np\n",
    "import pandas as pd\n",
    "import matplotlib.pyplot as plt\n",
    "import matplotlib.image as mping\n",
    "from sklearn.model_selection import train_test_split, StratifiedKFold\n",
    "from sklearn.preprocessing import LabelEncoder , OneHotEncoder\n",
    "from sklearn.utils import shuffle\n",
    "from sklearn.model_selection import StratifiedKFold\n",
    "from sklearn.metrics import accuracy_score\n",
    "\n",
    "import torch\n",
    "import torchvision\n",
    "from torch import nn\n",
    "from torchvision import datasets, transforms\n",
    "from torch.utils.data import DataLoader\n",
    "from einops import rearrange\n"
   ]
  },
  {
   "cell_type": "code",
   "execution_count": 3,
   "metadata": {
    "colab": {
     "base_uri": "https://localhost:8080/",
     "height": 35
    },
    "id": "OiYYA_kqRBXA",
    "outputId": "95dbf629-1b33-498e-da4b-1490d886b6eb"
   },
   "outputs": [
    {
     "data": {
      "text/plain": [
       "'cuda'"
      ]
     },
     "execution_count": 3,
     "metadata": {},
     "output_type": "execute_result"
    }
   ],
   "source": [
    "device = \"cuda\" if torch.cuda.is_available() else \"cpu\"\n",
    "device"
   ]
  },
  {
   "cell_type": "code",
   "execution_count": 4,
   "metadata": {
    "colab": {
     "base_uri": "https://localhost:8080/"
    },
    "id": "_g20Agp1RBcx",
    "outputId": "511ba679-ddf6-4d41-be09-2af63782c3d6"
   },
   "outputs": [],
   "source": [
    "module_path = '/home/srikanth/Downloads/conformer_helpers'\n",
    "sys.path.append(os.path.dirname(module_path))"
   ]
  },
  {
   "cell_type": "code",
   "execution_count": 5,
   "metadata": {
    "colab": {
     "base_uri": "https://localhost:8080/"
    },
    "id": "yD5IeGW6YwBM",
    "outputId": "90e3034b-8b00-476a-cb41-4a3e5e38eb9d"
   },
   "outputs": [],
   "source": [
    "module_path = '/home/srikanth/Downloads/going_modular'\n",
    "sys.path.append(os.path.dirname(module_path))"
   ]
  },
  {
   "cell_type": "code",
   "execution_count": 6,
   "metadata": {
    "id": "A8_HowFAYyaL"
   },
   "outputs": [
    {
     "name": "stderr",
     "output_type": "stream",
     "text": [
      "/home/srikanth/graspenv/lib/python3.10/site-packages/tqdm/auto.py:21: TqdmWarning: IProgress not found. Please update jupyter and ipywidgets. See https://ipywidgets.readthedocs.io/en/stable/user_install.html\n",
      "  from .autonotebook import tqdm as notebook_tqdm\n"
     ]
    }
   ],
   "source": [
    "from going_modular.helper_functions import set_seeds\n",
    "from going_modular import engine\n",
    "from going_modular.helper_functions import plot_loss_curves"
   ]
  },
  {
   "cell_type": "code",
   "execution_count": 7,
   "metadata": {
    "id": "JkPxXHvDT1gk"
   },
   "outputs": [],
   "source": [
    "root_path = r\"/home/srikanth/Dataset/RGB_images\"\n",
    "dataset_path = os.listdir(root_path)"
   ]
  },
  {
   "cell_type": "markdown",
   "metadata": {
    "id": "nXLZF5aZUeDL"
   },
   "source": [
    "CREATE DATASET AND DATALOADERS"
   ]
  },
  {
   "cell_type": "code",
   "execution_count": 8,
   "metadata": {
    "id": "A_n5ZFUlRBUo"
   },
   "outputs": [],
   "source": [
    "class_labels = []\n",
    "\n",
    "for item in dataset_path:\n",
    "    #print(item)\n",
    "    all_classes = os.listdir(root_path + '/' +item)\n",
    "    for top_object in all_classes:\n",
    "        sub_objects = os.listdir(root_path  + '/' +item + '/' +top_object)\n",
    "        for sub_object in sub_objects:\n",
    "            class_labels.append((item,str(root_path + '/' +item + '/' +top_object + '/' +sub_object)))\n",
    "\n",
    "df = pd.DataFrame(data=class_labels, columns=['labels', 'image'])\n",
    "y=list(df['labels'].values)\n",
    "image=df['image']"
   ]
  },
  {
   "cell_type": "code",
   "execution_count": 32,
   "metadata": {},
   "outputs": [],
   "source": [
    "f_dataloader = DataLoader(\n",
    "      df,\n",
    "      batch_size=16,\n",
    "      shuffle=True)"
   ]
  },
  {
   "cell_type": "code",
   "execution_count": 9,
   "metadata": {
    "colab": {
     "base_uri": "https://localhost:8080/"
    },
    "id": "6jGo4V4XRBRh",
    "outputId": "958c2e90-cc16-47f4-d4f5-9ac0296ae15a"
   },
   "outputs": [
    {
     "name": "stdout",
     "output_type": "stream",
     "text": [
      "{'Palmar wrist pronated': 0, 'Pinch': 1, 'Tripod': 2, 'Palmar wrist neutral': 3}\n",
      "{0: 'Palmar wrist pronated', 1: 'Pinch', 2: 'Tripod', 3: 'Palmar wrist neutral'}\n"
     ]
    }
   ],
   "source": [
    "labels = df['labels'].unique()\n",
    "num_labels = len(labels)\n",
    "label2id, id2label = dict(), dict()\n",
    "for i, label in enumerate(labels):\n",
    "    label2id[label] = i\n",
    "    id2label[i] = label\n",
    "\n",
    "print(label2id)\n",
    "print(id2label)"
   ]
  },
  {
   "cell_type": "code",
   "execution_count": 10,
   "metadata": {
    "id": "rJPzFw47RBOY"
   },
   "outputs": [],
   "source": [
    "class ImageDataset():\n",
    "    def __init__(self, df, transform=None):\n",
    "        self.df = df\n",
    "        self.transform = transforms.Compose([\n",
    "        transforms.ToTensor(),\n",
    "        transforms.Resize((49, 49), antialias=True),\n",
    "        transforms.Normalize(mean=[0.5, 0.5, 0.5],\n",
    "                             std=[0.5, 0.5, 0.5])\n",
    "        ])\n",
    "        self.label_mapping = label2id\n",
    "\n",
    "    def __len__(self):\n",
    "        return len(self.df)\n",
    "\n",
    "    def get_images(self, idx):\n",
    "        return self.transform(Image.open(self.df.iloc[idx]['filepaths']))\n",
    "\n",
    "    def get_labels(self, idx):\n",
    "        label = self.df.iloc[idx]['labels']\n",
    "        return torch.tensor(self.label_mapping[label], dtype=torch.long)\n",
    "\n",
    "    def __getitem__(self, idx):\n",
    "        train_images = self.get_images(idx)\n",
    "        train_labels = self.get_labels(idx)\n",
    "\n",
    "        return train_images, train_labels"
   ]
  },
  {
   "cell_type": "code",
   "execution_count": 11,
   "metadata": {
    "id": "n03btC2cRBLZ"
   },
   "outputs": [],
   "source": [
    "def create_dataloaders(train_df,test_df,val_df,batch_size: int):\n",
    "    # Use ImageFolder to create dataset(s)\n",
    "    train_data = ImageDataset(train_df)\n",
    "    test_data = ImageDataset(test_df)\n",
    "    val_data = ImageDataset(val_df)\n",
    "\n",
    "    # Get class names\n",
    "    class_names = list(train_df['labels'].unique())\n",
    "\n",
    "   # Turn images into data loaders\n",
    "    train_dataloader = DataLoader(\n",
    "      train_data,\n",
    "      batch_size=batch_size,\n",
    "      shuffle=True)\n",
    "    test_dataloader = DataLoader(\n",
    "      test_data,\n",
    "      batch_size=batch_size,\n",
    "      shuffle=False)\n",
    "    val_dataloader = DataLoader(\n",
    "      val_data,\n",
    "      batch_size=batch_size,\n",
    "      shuffle=False)\n",
    "\n",
    "    return train_dataloader, test_dataloader, val_dataloader, class_names"
   ]
  },
  {
   "cell_type": "markdown",
   "metadata": {
    "id": "G8YUoo_sV3uZ"
   },
   "source": [
    "MODEL"
   ]
  },
  {
   "cell_type": "code",
   "execution_count": 12,
   "metadata": {},
   "outputs": [],
   "source": [
    "class Residual(nn.Module):\n",
    "    def __init__(self, fn):\n",
    "        super().__init__()\n",
    "        self.fn = fn\n",
    "\n",
    "    def forward(self, x, **kwargs):\n",
    "        return self.fn(x, **kwargs) + x\n",
    "\n",
    "class PreNorm(nn.Module):\n",
    "    def __init__(self, dim, fn):\n",
    "        super().__init__()\n",
    "        self.norm = nn.LayerNorm(dim)\n",
    "        self.fn = fn\n",
    "\n",
    "    def forward(self, x, **kwargs):\n",
    "        return self.fn(self.norm(x), **kwargs)\n",
    "\n",
    "class FeedForward(nn.Module):\n",
    "    def __init__(self, dim, hidden_dim):\n",
    "        super().__init__()\n",
    "        self.net = nn.Sequential(\n",
    "            nn.Linear(dim, hidden_dim),\n",
    "            nn.GELU(),\n",
    "            nn.Linear(hidden_dim, dim)\n",
    "        )\n",
    "\n",
    "    def forward(self, x):\n",
    "        return self.net(x)\n",
    "\n",
    "class Attention(nn.Module):\n",
    "    def __init__(self, dim, heads=8):\n",
    "        super().__init__()\n",
    "        self.heads = heads\n",
    "        self.scale = dim ** -0.5\n",
    "\n",
    "        self.to_qkv = nn.Linear(dim, dim * 3, bias=False)\n",
    "        self.to_out = nn.Linear(dim, dim)\n",
    "\n",
    "    def forward(self, x, mask = None):\n",
    "        b, n, _, h = *x.shape, self.heads\n",
    "        qkv = self.to_qkv(x)\n",
    "        q, k, v = rearrange(qkv, 'b n (qkv h d) -> qkv b h n d', qkv=3, h=h)\n",
    "\n",
    "        dots = torch.einsum('bhid,bhjd->bhij', q, k) * self.scale\n",
    "\n",
    "        if mask is not None:\n",
    "            mask = F.pad(mask.flatten(1), (1, 0), value = True)\n",
    "            assert mask.shape[-1] == dots.shape[-1], 'mask has incorrect dimensions'\n",
    "            mask = mask[:, None, :] * mask[:, :, None]\n",
    "            dots.masked_fill_(~mask, float('-inf'))\n",
    "            del mask\n",
    "\n",
    "        attn = dots.softmax(dim=-1)\n",
    "\n",
    "        out = torch.einsum('bhij,bhjd->bhid', attn, v)\n",
    "        out = rearrange(out, 'b h n d -> b n (h d)')\n",
    "        out =  self.to_out(out)\n",
    "        return out\n",
    "\n",
    "class Transformer(nn.Module):\n",
    "    def __init__(self, dim, depth, heads, mlp_dim):\n",
    "        super().__init__()\n",
    "        self.layers = nn.ModuleList([])\n",
    "        for _ in range(depth):\n",
    "            self.layers.append(nn.ModuleList([\n",
    "                Residual(PreNorm(dim, Attention(dim, heads = heads))),\n",
    "                Residual(PreNorm(dim, FeedForward(dim, mlp_dim)))\n",
    "            ]))\n",
    "\n",
    "    def forward(self, x, mask=None):\n",
    "        for attn, ff in self.layers:\n",
    "            x = attn(x, mask=mask)\n",
    "            x = ff(x)\n",
    "        return x\n",
    "\n"
   ]
  },
  {
   "cell_type": "code",
   "execution_count": 13,
   "metadata": {},
   "outputs": [],
   "source": [
    "class CViT(nn.Module):\n",
    "    def __init__(self, image_size=49, patch_size=7, num_classes=4, channels=3,\n",
    "                 dim=1024, depth=6, heads=8, mlp_dim=2048):\n",
    "        super().__init__()\n",
    "        assert image_size % patch_size == 0, 'image dimensions must be divisible by the patch size'\n",
    "\n",
    "        self.features = nn.Sequential(\n",
    "\n",
    "            nn.Conv2d(3, 32, kernel_size=3, stride=1, padding=1),\n",
    "            nn.BatchNorm2d(num_features=32),\n",
    "            nn.ReLU(),\n",
    "            nn.Conv2d(32, 32, kernel_size=3, stride=1, padding=1),\n",
    "            nn.BatchNorm2d(num_features=32),\n",
    "            nn.ReLU(),\n",
    "            nn.Conv2d(32, 32, kernel_size=3, stride=1, padding=1),\n",
    "            nn.BatchNorm2d(num_features=32),\n",
    "            nn.ReLU(),\n",
    "            nn.MaxPool2d(kernel_size=2, stride=1, padding = 1),   #changed stride 2 to 1\n",
    "\n",
    "            nn.Conv2d(32, 64, kernel_size=3, stride=1, padding=1),\n",
    "            nn.BatchNorm2d(num_features=64),\n",
    "            nn.ReLU(),\n",
    "            nn.Conv2d(64, 64, kernel_size=3, stride=1, padding=1),\n",
    "            nn.BatchNorm2d(num_features=64),\n",
    "            nn.ReLU(),\n",
    "            nn.Conv2d(64, 64, kernel_size=3, stride=1, padding=1),\n",
    "            nn.BatchNorm2d(num_features=64),\n",
    "            nn.ReLU(),\n",
    "            nn.MaxPool2d(kernel_size=2, stride=1,),   #changed stride 2 to 1\n",
    "\n",
    "            nn.Conv2d(64, 128, kernel_size=3, stride=1, padding=1),\n",
    "            nn.BatchNorm2d(num_features=128),\n",
    "            nn.ReLU(),\n",
    "            nn.Conv2d(128, 128, kernel_size=3, stride=1, padding=1),\n",
    "            nn.BatchNorm2d(num_features=128),\n",
    "            nn.ReLU(),\n",
    "            nn.Conv2d(128, 128, kernel_size=3, stride=1, padding=1),\n",
    "            nn.BatchNorm2d(num_features=128),\n",
    "            nn.ReLU(),\n",
    "            nn.MaxPool2d(kernel_size=2, stride=2),\n",
    "\n",
    "            nn.Conv2d(128, 256, kernel_size=3, stride=1, padding=1),\n",
    "            nn.BatchNorm2d(num_features=256),\n",
    "            nn.ReLU(),\n",
    "            nn.Conv2d(256, 256, kernel_size=3, stride=1, padding=1),\n",
    "            nn.BatchNorm2d(num_features=256),\n",
    "            nn.ReLU(),\n",
    "            nn.Conv2d(256, 256, kernel_size=3, stride=1, padding=1),\n",
    "            nn.BatchNorm2d(num_features=256),\n",
    "            nn.ReLU(),\n",
    "            nn.Conv2d(256, 256, kernel_size=3, stride=1, padding=1),\n",
    "            nn.BatchNorm2d(num_features=256),\n",
    "            nn.ReLU(),\n",
    "            nn.MaxPool2d(kernel_size=2, stride=2),\n",
    "\n",
    "            nn.Conv2d(256, 512, kernel_size=3, stride=1, padding=1),\n",
    "            nn.BatchNorm2d(num_features=512),\n",
    "            nn.ReLU(),\n",
    "            nn.Conv2d(512, 512, kernel_size=3, stride=1, padding=1),\n",
    "            nn.BatchNorm2d(num_features=512),\n",
    "            nn.ReLU(),\n",
    "            nn.Conv2d(512, 512, kernel_size=3, stride=1, padding=1),\n",
    "            nn.BatchNorm2d(num_features=512),\n",
    "            nn.ReLU(),\n",
    "            nn.Conv2d(512, 512, kernel_size=3, stride=1, padding=2),\n",
    "            nn.BatchNorm2d(num_features=512),\n",
    "            nn.ReLU(),\n",
    "            nn.MaxPool2d(kernel_size=2, stride=2),  # Adjusted stride from 2 to 1\n",
    "\n",
    "        )\n",
    "\n",
    "        num_patches = (7 // patch_size) ** 2\n",
    "        patch_dim = 512 * patch_size ** 2\n",
    "\n",
    "        self.patch_size = patch_size\n",
    "\n",
    "        self.pos_embedding = nn.Parameter(torch.randn(32, 1, dim))\n",
    "        self.patch_to_embedding = nn.Linear(patch_dim, dim)\n",
    "        self.cls_token = nn.Parameter(torch.randn(1, 1, dim))\n",
    "        self.transformer = Transformer(dim, depth, heads, mlp_dim)\n",
    "\n",
    "        self.to_cls_token = nn.Identity()\n",
    "\n",
    "        self.mlp_head = nn.Sequential(\n",
    "            nn.Linear(dim, mlp_dim),\n",
    "            nn.ReLU(),\n",
    "            nn.Linear(mlp_dim, num_classes)\n",
    "        )\n",
    "\n",
    "    def forward(self, img, mask=None):\n",
    "        p = self.patch_size\n",
    "        x = self.features(img)\n",
    "        #print(x.shape)\n",
    "        y = rearrange(x, 'b c (h p1) (w p2) -> b (h w) (p1 p2 c)', p1 = p, p2 = p)\n",
    "        y = self.patch_to_embedding(y)\n",
    "        cls_tokens = self.cls_token.expand(x.shape[0], -1, -1)\n",
    "        x = torch.cat((cls_tokens, y), 1)\n",
    "        #batch_size = x.shape[0]\n",
    "        #expanded_pos_embedding = self.pos_embedding[:batch_size]\n",
    "        shape=x.shape[0]\n",
    "        #x = torch.cat((cls_tokens, y), 1)\n",
    "        #x += expanded_pos_embedding\n",
    "        x += self.pos_embedding[0:shape]\n",
    "        x = self.transformer(x, mask)\n",
    "        x = self.to_cls_token(x[:, 0])\n",
    "\n",
    "        return self.mlp_head(x)"
   ]
  },
  {
   "cell_type": "markdown",
   "metadata": {
    "id": "-OpB41c5Wlth"
   },
   "source": [
    "PROCESSING"
   ]
  },
  {
   "cell_type": "code",
   "execution_count": 21,
   "metadata": {
    "id": "C4N2jtCZWSMJ"
   },
   "outputs": [],
   "source": [
    "#For MODEL INPUT\n",
    "LR=0.0001\n",
    "EPOCHS=40\n",
    "BATCH_SIZE = 16\n",
    "#img_size=(IMGSIZE, IMGSIZE) # USER DEFINED\n",
    "#channels=3\n",
    "#img_shape=(img_size[0], img_size[1], channels)"
   ]
  },
  {
   "cell_type": "code",
   "execution_count": 15,
   "metadata": {
    "colab": {
     "base_uri": "https://localhost:8080/",
     "height": 84,
     "referenced_widgets": [
      "fae333f66817476481457ab1d42f128b",
      "7537983fe8d1404c9a763080ae4ab5cf",
      "ebe4b122e9b14546b24762abd6286272",
      "7f28401be0874ecc87506f224d36505e",
      "a2083115b49b4887a62d2c85d4cabf87",
      "dcbf66813e304f1daf2c38a4e34cae06",
      "e9619f297edd469e94e98e0edb0d8789",
      "efd3091e0f59412d924650048153f033",
      "68cd9ab44b52456996c5069126433eb6",
      "c12a054199244410bf85400281ec61c6",
      "a68af7494281409da16a29317d0bd33c"
     ]
    },
    "id": "oX6ADRe6IIkT",
    "outputId": "bc29becd-c6ab-42e9-af09-cc8fc5f59dc7",
    "scrolled": false
   },
   "outputs": [
    {
     "name": "stderr",
     "output_type": "stream",
     "text": [
      "100%|█████████████████████████████████████| 10102/10102 [13:39<00:00, 12.32it/s]\n",
      "100%|███████████████████████████████████████| 1302/1302 [00:46<00:00, 27.74it/s]\n"
     ]
    },
    {
     "name": "stdout",
     "output_type": "stream",
     "text": [
      "Epoch: 1 | train_loss: 0.3279 | train_acc: 0.8759 | test_loss: 1.8602 | test_acc: 0.5574\n"
     ]
    },
    {
     "name": "stderr",
     "output_type": "stream",
     "text": [
      "100%|█████████████████████████████████████| 10102/10102 [13:08<00:00, 12.82it/s]\n",
      "100%|███████████████████████████████████████| 1302/1302 [00:42<00:00, 30.28it/s]\n"
     ]
    },
    {
     "name": "stdout",
     "output_type": "stream",
     "text": [
      "Epoch: 2 | train_loss: 0.0912 | train_acc: 0.9688 | test_loss: 2.9592 | test_acc: 0.5997\n"
     ]
    },
    {
     "name": "stderr",
     "output_type": "stream",
     "text": [
      "100%|█████████████████████████████████████| 10102/10102 [13:11<00:00, 12.76it/s]\n",
      "100%|███████████████████████████████████████| 1302/1302 [00:42<00:00, 30.59it/s]\n"
     ]
    },
    {
     "name": "stdout",
     "output_type": "stream",
     "text": [
      "Epoch: 3 | train_loss: 0.0525 | train_acc: 0.9828 | test_loss: 2.3093 | test_acc: 0.6264\n"
     ]
    },
    {
     "name": "stderr",
     "output_type": "stream",
     "text": [
      "100%|█████████████████████████████████████| 10102/10102 [13:12<00:00, 12.74it/s]\n",
      "100%|███████████████████████████████████████| 1302/1302 [00:42<00:00, 30.38it/s]\n"
     ]
    },
    {
     "name": "stdout",
     "output_type": "stream",
     "text": [
      "Epoch: 4 | train_loss: 0.0399 | train_acc: 0.9871 | test_loss: 3.2487 | test_acc: 0.6708\n"
     ]
    },
    {
     "name": "stderr",
     "output_type": "stream",
     "text": [
      "100%|█████████████████████████████████████| 10102/10102 [13:00<00:00, 12.94it/s]\n",
      "100%|███████████████████████████████████████| 1302/1302 [00:42<00:00, 30.83it/s]\n"
     ]
    },
    {
     "name": "stdout",
     "output_type": "stream",
     "text": [
      "Epoch: 5 | train_loss: 0.0335 | train_acc: 0.9898 | test_loss: 3.4547 | test_acc: 0.6618\n"
     ]
    },
    {
     "name": "stderr",
     "output_type": "stream",
     "text": [
      "100%|█████████████████████████████████████| 10102/10102 [12:58<00:00, 12.98it/s]\n",
      "100%|███████████████████████████████████████| 1302/1302 [00:42<00:00, 30.84it/s]\n"
     ]
    },
    {
     "name": "stdout",
     "output_type": "stream",
     "text": [
      "Epoch: 6 | train_loss: 0.0269 | train_acc: 0.9919 | test_loss: 2.8806 | test_acc: 0.6821\n"
     ]
    },
    {
     "name": "stderr",
     "output_type": "stream",
     "text": [
      "100%|█████████████████████████████████████| 10102/10102 [12:44<00:00, 13.22it/s]\n",
      "100%|███████████████████████████████████████| 1302/1302 [00:41<00:00, 31.48it/s]\n"
     ]
    },
    {
     "name": "stdout",
     "output_type": "stream",
     "text": [
      "Epoch: 7 | train_loss: 0.0240 | train_acc: 0.9929 | test_loss: 3.6633 | test_acc: 0.6681\n"
     ]
    },
    {
     "name": "stderr",
     "output_type": "stream",
     "text": [
      "100%|█████████████████████████████████████| 10102/10102 [12:35<00:00, 13.37it/s]\n",
      "100%|███████████████████████████████████████| 1302/1302 [00:41<00:00, 31.35it/s]\n"
     ]
    },
    {
     "name": "stdout",
     "output_type": "stream",
     "text": [
      "Epoch: 8 | train_loss: 0.0193 | train_acc: 0.9944 | test_loss: 3.0363 | test_acc: 0.6915\n"
     ]
    },
    {
     "name": "stderr",
     "output_type": "stream",
     "text": [
      "100%|█████████████████████████████████████| 10102/10102 [12:35<00:00, 13.37it/s]\n",
      "100%|███████████████████████████████████████| 1302/1302 [00:41<00:00, 31.43it/s]\n"
     ]
    },
    {
     "name": "stdout",
     "output_type": "stream",
     "text": [
      "Epoch: 9 | train_loss: 0.0168 | train_acc: 0.9951 | test_loss: 2.4441 | test_acc: 0.6785\n"
     ]
    },
    {
     "name": "stderr",
     "output_type": "stream",
     "text": [
      "100%|█████████████████████████████████████| 10102/10102 [12:35<00:00, 13.36it/s]\n",
      "100%|███████████████████████████████████████| 1302/1302 [00:41<00:00, 31.62it/s]\n"
     ]
    },
    {
     "name": "stdout",
     "output_type": "stream",
     "text": [
      "Epoch: 10 | train_loss: 0.0150 | train_acc: 0.9957 | test_loss: 6.0516 | test_acc: 0.6917\n"
     ]
    },
    {
     "name": "stderr",
     "output_type": "stream",
     "text": [
      "100%|█████████████████████████████████████| 10102/10102 [12:41<00:00, 13.27it/s]\n",
      "100%|███████████████████████████████████████| 1302/1302 [00:41<00:00, 31.35it/s]\n"
     ]
    },
    {
     "name": "stdout",
     "output_type": "stream",
     "text": [
      "Epoch: 11 | train_loss: 0.0205 | train_acc: 0.9943 | test_loss: 4.3786 | test_acc: 0.6807\n"
     ]
    },
    {
     "name": "stderr",
     "output_type": "stream",
     "text": [
      "100%|█████████████████████████████████████| 10102/10102 [12:44<00:00, 13.22it/s]\n",
      "100%|███████████████████████████████████████| 1302/1302 [00:41<00:00, 31.42it/s]\n"
     ]
    },
    {
     "name": "stdout",
     "output_type": "stream",
     "text": [
      "Epoch: 12 | train_loss: 0.0150 | train_acc: 0.9958 | test_loss: 4.3447 | test_acc: 0.6655\n"
     ]
    },
    {
     "name": "stderr",
     "output_type": "stream",
     "text": [
      "100%|█████████████████████████████████████| 10102/10102 [12:45<00:00, 13.19it/s]\n",
      "100%|███████████████████████████████████████| 1302/1302 [00:41<00:00, 31.34it/s]\n"
     ]
    },
    {
     "name": "stdout",
     "output_type": "stream",
     "text": [
      "Epoch: 13 | train_loss: 0.0188 | train_acc: 0.9957 | test_loss: 5.1862 | test_acc: 0.6693\n"
     ]
    },
    {
     "name": "stderr",
     "output_type": "stream",
     "text": [
      "100%|█████████████████████████████████████| 10102/10102 [12:51<00:00, 13.09it/s]\n",
      "100%|███████████████████████████████████████| 1302/1302 [00:41<00:00, 31.18it/s]\n"
     ]
    },
    {
     "name": "stdout",
     "output_type": "stream",
     "text": [
      "Epoch: 14 | train_loss: 0.0133 | train_acc: 0.9967 | test_loss: 7.4368 | test_acc: 0.6818\n"
     ]
    },
    {
     "name": "stderr",
     "output_type": "stream",
     "text": [
      "100%|█████████████████████████████████████| 10102/10102 [12:38<00:00, 13.32it/s]\n",
      "100%|███████████████████████████████████████| 1302/1302 [00:42<00:00, 30.68it/s]\n"
     ]
    },
    {
     "name": "stdout",
     "output_type": "stream",
     "text": [
      "Epoch: 15 | train_loss: 0.0127 | train_acc: 0.9966 | test_loss: 4.0055 | test_acc: 0.6982\n"
     ]
    },
    {
     "name": "stderr",
     "output_type": "stream",
     "text": [
      "100%|█████████████████████████████████████| 10102/10102 [13:28<00:00, 12.50it/s]\n",
      "100%|███████████████████████████████████████| 1302/1302 [00:44<00:00, 29.03it/s]\n"
     ]
    },
    {
     "name": "stdout",
     "output_type": "stream",
     "text": [
      "Epoch: 16 | train_loss: 0.0117 | train_acc: 0.9970 | test_loss: 6.5065 | test_acc: 0.7100\n"
     ]
    },
    {
     "name": "stderr",
     "output_type": "stream",
     "text": [
      "100%|█████████████████████████████████████| 10102/10102 [13:08<00:00, 12.81it/s]\n",
      "100%|███████████████████████████████████████| 1302/1302 [00:41<00:00, 31.19it/s]\n"
     ]
    },
    {
     "name": "stdout",
     "output_type": "stream",
     "text": [
      "Epoch: 17 | train_loss: 0.0172 | train_acc: 0.9956 | test_loss: 6.3993 | test_acc: 0.6997\n"
     ]
    },
    {
     "name": "stderr",
     "output_type": "stream",
     "text": [
      "100%|█████████████████████████████████████| 10102/10102 [12:42<00:00, 13.25it/s]\n",
      "100%|███████████████████████████████████████| 1302/1302 [00:41<00:00, 31.28it/s]\n"
     ]
    },
    {
     "name": "stdout",
     "output_type": "stream",
     "text": [
      "Epoch: 18 | train_loss: 0.0107 | train_acc: 0.9974 | test_loss: 4.1895 | test_acc: 0.7074\n"
     ]
    },
    {
     "name": "stderr",
     "output_type": "stream",
     "text": [
      "100%|█████████████████████████████████████| 10102/10102 [12:48<00:00, 13.15it/s]\n",
      "100%|███████████████████████████████████████| 1302/1302 [00:41<00:00, 31.33it/s]\n"
     ]
    },
    {
     "name": "stdout",
     "output_type": "stream",
     "text": [
      "Epoch: 19 | train_loss: 0.0101 | train_acc: 0.9974 | test_loss: 7.4472 | test_acc: 0.6983\n"
     ]
    },
    {
     "name": "stderr",
     "output_type": "stream",
     "text": [
      "100%|█████████████████████████████████████| 10102/10102 [12:50<00:00, 13.12it/s]\n",
      "100%|███████████████████████████████████████| 1302/1302 [00:41<00:00, 31.21it/s]\n"
     ]
    },
    {
     "name": "stdout",
     "output_type": "stream",
     "text": [
      "Epoch: 20 | train_loss: 0.0121 | train_acc: 0.9973 | test_loss: 5.7861 | test_acc: 0.7069\n"
     ]
    },
    {
     "name": "stderr",
     "output_type": "stream",
     "text": [
      "100%|█████████████████████████████████████| 10102/10102 [13:12<00:00, 12.75it/s]\n",
      "100%|███████████████████████████████████████| 1302/1302 [00:43<00:00, 29.72it/s]\n"
     ]
    },
    {
     "name": "stdout",
     "output_type": "stream",
     "text": [
      "Epoch: 21 | train_loss: 0.0114 | train_acc: 0.9976 | test_loss: 6.0985 | test_acc: 0.6998\n"
     ]
    },
    {
     "name": "stderr",
     "output_type": "stream",
     "text": [
      "100%|█████████████████████████████████████| 10102/10102 [12:55<00:00, 13.02it/s]\n",
      "100%|███████████████████████████████████████| 1302/1302 [00:42<00:00, 30.82it/s]\n"
     ]
    },
    {
     "name": "stdout",
     "output_type": "stream",
     "text": [
      "Epoch: 22 | train_loss: 0.0111 | train_acc: 0.9975 | test_loss: 3.9949 | test_acc: 0.6937\n"
     ]
    },
    {
     "name": "stderr",
     "output_type": "stream",
     "text": [
      "100%|█████████████████████████████████████| 10102/10102 [13:12<00:00, 12.74it/s]\n",
      "100%|███████████████████████████████████████| 1302/1302 [00:42<00:00, 30.77it/s]\n"
     ]
    },
    {
     "name": "stdout",
     "output_type": "stream",
     "text": [
      "Epoch: 23 | train_loss: 0.0362 | train_acc: 0.9972 | test_loss: 10.5923 | test_acc: 0.6435\n"
     ]
    },
    {
     "name": "stderr",
     "output_type": "stream",
     "text": [
      "100%|█████████████████████████████████████| 10102/10102 [17:59<00:00,  9.36it/s]\n",
      "100%|███████████████████████████████████████| 1302/1302 [00:44<00:00, 29.58it/s]\n"
     ]
    },
    {
     "name": "stdout",
     "output_type": "stream",
     "text": [
      "Epoch: 24 | train_loss: 0.0071 | train_acc: 0.9982 | test_loss: 7.2673 | test_acc: 0.6877\n"
     ]
    },
    {
     "name": "stderr",
     "output_type": "stream",
     "text": [
      "100%|█████████████████████████████████████| 10102/10102 [18:03<00:00,  9.32it/s]\n",
      "100%|███████████████████████████████████████| 1302/1302 [00:54<00:00, 23.99it/s]\n"
     ]
    },
    {
     "name": "stdout",
     "output_type": "stream",
     "text": [
      "Epoch: 25 | train_loss: 0.0103 | train_acc: 0.9975 | test_loss: 8.2114 | test_acc: 0.7194\n"
     ]
    },
    {
     "name": "stderr",
     "output_type": "stream",
     "text": [
      "100%|█████████████████████████████████████| 10102/10102 [21:11<00:00,  7.94it/s]\n",
      "100%|███████████████████████████████████████| 1302/1302 [01:03<00:00, 20.51it/s]\n"
     ]
    },
    {
     "name": "stdout",
     "output_type": "stream",
     "text": [
      "Epoch: 26 | train_loss: 0.0073 | train_acc: 0.9982 | test_loss: 7.5179 | test_acc: 0.7225\n"
     ]
    },
    {
     "name": "stderr",
     "output_type": "stream",
     "text": [
      "100%|█████████████████████████████████████| 10102/10102 [19:52<00:00,  8.47it/s]\n",
      "100%|███████████████████████████████████████| 1302/1302 [00:53<00:00, 24.27it/s]\n"
     ]
    },
    {
     "name": "stdout",
     "output_type": "stream",
     "text": [
      "Epoch: 27 | train_loss: 0.0087 | train_acc: 0.9981 | test_loss: 9.6150 | test_acc: 0.6898\n"
     ]
    },
    {
     "name": "stderr",
     "output_type": "stream",
     "text": [
      "100%|█████████████████████████████████████| 10102/10102 [18:57<00:00,  8.88it/s]\n",
      "100%|███████████████████████████████████████| 1302/1302 [00:53<00:00, 24.40it/s]\n"
     ]
    },
    {
     "name": "stdout",
     "output_type": "stream",
     "text": [
      "Epoch: 28 | train_loss: 0.0105 | train_acc: 0.9977 | test_loss: 8.4047 | test_acc: 0.7009\n"
     ]
    },
    {
     "name": "stderr",
     "output_type": "stream",
     "text": [
      "100%|█████████████████████████████████████| 10102/10102 [18:56<00:00,  8.89it/s]\n",
      "100%|███████████████████████████████████████| 1302/1302 [00:53<00:00, 24.32it/s]\n"
     ]
    },
    {
     "name": "stdout",
     "output_type": "stream",
     "text": [
      "Epoch: 29 | train_loss: 0.0079 | train_acc: 0.9981 | test_loss: 5.7429 | test_acc: 0.7308\n"
     ]
    },
    {
     "name": "stderr",
     "output_type": "stream",
     "text": [
      "100%|█████████████████████████████████████| 10102/10102 [18:58<00:00,  8.88it/s]\n",
      "100%|███████████████████████████████████████| 1302/1302 [00:52<00:00, 24.58it/s]\n"
     ]
    },
    {
     "name": "stdout",
     "output_type": "stream",
     "text": [
      "Epoch: 30 | train_loss: 0.0083 | train_acc: 0.9981 | test_loss: 20.4092 | test_acc: 0.6656\n"
     ]
    },
    {
     "name": "stderr",
     "output_type": "stream",
     "text": [
      "100%|█████████████████████████████████████| 10102/10102 [18:56<00:00,  8.89it/s]\n",
      "100%|███████████████████████████████████████| 1302/1302 [00:53<00:00, 24.36it/s]\n"
     ]
    },
    {
     "name": "stdout",
     "output_type": "stream",
     "text": [
      "Epoch: 31 | train_loss: 0.0084 | train_acc: 0.9982 | test_loss: 6.3388 | test_acc: 0.7123\n"
     ]
    },
    {
     "name": "stderr",
     "output_type": "stream",
     "text": [
      "100%|█████████████████████████████████████| 10102/10102 [18:56<00:00,  8.89it/s]\n",
      "100%|███████████████████████████████████████| 1302/1302 [00:53<00:00, 24.49it/s]\n"
     ]
    },
    {
     "name": "stdout",
     "output_type": "stream",
     "text": [
      "Epoch: 32 | train_loss: 0.0053 | train_acc: 0.9987 | test_loss: 5.1426 | test_acc: 0.7094\n"
     ]
    },
    {
     "name": "stderr",
     "output_type": "stream",
     "text": [
      "100%|█████████████████████████████████████| 10102/10102 [18:55<00:00,  8.89it/s]\n",
      "100%|███████████████████████████████████████| 1302/1302 [00:53<00:00, 24.38it/s]\n"
     ]
    },
    {
     "name": "stdout",
     "output_type": "stream",
     "text": [
      "Epoch: 33 | train_loss: 0.0075 | train_acc: 0.9984 | test_loss: 9.4496 | test_acc: 0.7241\n"
     ]
    },
    {
     "name": "stderr",
     "output_type": "stream",
     "text": [
      "100%|█████████████████████████████████████| 10102/10102 [18:57<00:00,  8.88it/s]\n",
      "100%|███████████████████████████████████████| 1302/1302 [00:53<00:00, 24.38it/s]\n"
     ]
    },
    {
     "name": "stdout",
     "output_type": "stream",
     "text": [
      "Epoch: 34 | train_loss: 0.0077 | train_acc: 0.9984 | test_loss: 5.6625 | test_acc: 0.7073\n"
     ]
    },
    {
     "name": "stderr",
     "output_type": "stream",
     "text": [
      "100%|█████████████████████████████████████| 10102/10102 [18:55<00:00,  8.89it/s]\n",
      "100%|███████████████████████████████████████| 1302/1302 [00:53<00:00, 24.40it/s]\n"
     ]
    },
    {
     "name": "stdout",
     "output_type": "stream",
     "text": [
      "Epoch: 35 | train_loss: 0.0102 | train_acc: 0.9981 | test_loss: 7.7082 | test_acc: 0.7109\n"
     ]
    },
    {
     "name": "stderr",
     "output_type": "stream",
     "text": [
      "100%|█████████████████████████████████████| 10102/10102 [18:58<00:00,  8.87it/s]\n",
      "100%|███████████████████████████████████████| 1302/1302 [00:53<00:00, 24.51it/s]\n"
     ]
    },
    {
     "name": "stdout",
     "output_type": "stream",
     "text": [
      "Epoch: 36 | train_loss: 0.0055 | train_acc: 0.9988 | test_loss: 10.5067 | test_acc: 0.6897\n"
     ]
    },
    {
     "name": "stderr",
     "output_type": "stream",
     "text": [
      "100%|█████████████████████████████████████| 10102/10102 [18:57<00:00,  8.88it/s]\n",
      "100%|███████████████████████████████████████| 1302/1302 [00:53<00:00, 24.50it/s]\n"
     ]
    },
    {
     "name": "stdout",
     "output_type": "stream",
     "text": [
      "Epoch: 37 | train_loss: 0.0081 | train_acc: 0.9984 | test_loss: 8.4441 | test_acc: 0.6937\n"
     ]
    },
    {
     "name": "stderr",
     "output_type": "stream",
     "text": [
      "100%|█████████████████████████████████████| 10102/10102 [18:59<00:00,  8.86it/s]\n",
      "100%|███████████████████████████████████████| 1302/1302 [00:53<00:00, 24.36it/s]\n"
     ]
    },
    {
     "name": "stdout",
     "output_type": "stream",
     "text": [
      "Epoch: 38 | train_loss: 0.0409 | train_acc: 0.9938 | test_loss: 4.7778 | test_acc: 0.7127\n"
     ]
    },
    {
     "name": "stderr",
     "output_type": "stream",
     "text": [
      "100%|█████████████████████████████████████| 10102/10102 [18:57<00:00,  8.88it/s]\n",
      "100%|███████████████████████████████████████| 1302/1302 [00:53<00:00, 24.42it/s]\n"
     ]
    },
    {
     "name": "stdout",
     "output_type": "stream",
     "text": [
      "Epoch: 39 | train_loss: 0.0047 | train_acc: 0.9989 | test_loss: 5.0426 | test_acc: 0.7087\n"
     ]
    },
    {
     "name": "stderr",
     "output_type": "stream",
     "text": [
      "100%|█████████████████████████████████████| 10102/10102 [18:58<00:00,  8.87it/s]\n",
      "100%|███████████████████████████████████████| 1302/1302 [00:53<00:00, 24.38it/s]\n"
     ]
    },
    {
     "name": "stdout",
     "output_type": "stream",
     "text": [
      "Epoch: 40 | train_loss: 0.0064 | train_acc: 0.9986 | test_loss: 9.4451 | test_acc: 0.7089\n",
      "Confusion matrix: \n",
      "[[3567   27 1561  658]\n",
      " [   0 3532  663    0]\n",
      " [1097  424 5304   81]\n",
      " [ 172    0    2 2513]]\n",
      "Precision: 0.7626387442298023\n",
      "Recall: 0.7609815825723177\n",
      "F1 score: 0.7584551539681637\n"
     ]
    },
    {
     "name": "stderr",
     "output_type": "stream",
     "text": [
      "100%|█████████████████████████████████████| 10058/10058 [18:55<00:00,  8.86it/s]\n",
      "100%|███████████████████████████████████████| 1286/1286 [00:47<00:00, 27.36it/s]\n"
     ]
    },
    {
     "name": "stdout",
     "output_type": "stream",
     "text": [
      "Epoch: 1 | train_loss: 0.3770 | train_acc: 0.8517 | test_loss: 1.5047 | test_acc: 0.6770\n"
     ]
    },
    {
     "name": "stderr",
     "output_type": "stream",
     "text": [
      "100%|█████████████████████████████████████| 10058/10058 [18:54<00:00,  8.86it/s]\n",
      "100%|███████████████████████████████████████| 1286/1286 [00:47<00:00, 27.15it/s]\n"
     ]
    },
    {
     "name": "stdout",
     "output_type": "stream",
     "text": [
      "Epoch: 2 | train_loss: 0.1222 | train_acc: 0.9569 | test_loss: 2.7919 | test_acc: 0.6629\n"
     ]
    },
    {
     "name": "stderr",
     "output_type": "stream",
     "text": [
      "100%|█████████████████████████████████████| 10058/10058 [18:56<00:00,  8.85it/s]\n",
      "100%|███████████████████████████████████████| 1286/1286 [00:47<00:00, 27.28it/s]\n"
     ]
    },
    {
     "name": "stdout",
     "output_type": "stream",
     "text": [
      "Epoch: 3 | train_loss: 0.0628 | train_acc: 0.9781 | test_loss: 2.0990 | test_acc: 0.6583\n"
     ]
    },
    {
     "name": "stderr",
     "output_type": "stream",
     "text": [
      "100%|█████████████████████████████████████| 10058/10058 [18:55<00:00,  8.86it/s]\n",
      "100%|███████████████████████████████████████| 1286/1286 [00:47<00:00, 27.25it/s]\n"
     ]
    },
    {
     "name": "stdout",
     "output_type": "stream",
     "text": [
      "Epoch: 4 | train_loss: 0.0616 | train_acc: 0.9777 | test_loss: 1.8420 | test_acc: 0.6799\n"
     ]
    },
    {
     "name": "stderr",
     "output_type": "stream",
     "text": [
      "100%|█████████████████████████████████████| 10058/10058 [18:54<00:00,  8.87it/s]\n",
      "100%|███████████████████████████████████████| 1286/1286 [00:47<00:00, 27.11it/s]\n"
     ]
    },
    {
     "name": "stdout",
     "output_type": "stream",
     "text": [
      "Epoch: 5 | train_loss: 0.0353 | train_acc: 0.9873 | test_loss: 2.4263 | test_acc: 0.7076\n"
     ]
    },
    {
     "name": "stderr",
     "output_type": "stream",
     "text": [
      "100%|█████████████████████████████████████| 10058/10058 [18:55<00:00,  8.86it/s]\n",
      "100%|███████████████████████████████████████| 1286/1286 [00:47<00:00, 27.11it/s]\n"
     ]
    },
    {
     "name": "stdout",
     "output_type": "stream",
     "text": [
      "Epoch: 6 | train_loss: 0.0293 | train_acc: 0.9892 | test_loss: 2.0015 | test_acc: 0.7025\n"
     ]
    },
    {
     "name": "stderr",
     "output_type": "stream",
     "text": [
      "100%|█████████████████████████████████████| 10058/10058 [18:54<00:00,  8.86it/s]\n",
      "100%|███████████████████████████████████████| 1286/1286 [00:47<00:00, 27.27it/s]\n"
     ]
    },
    {
     "name": "stdout",
     "output_type": "stream",
     "text": [
      "Epoch: 7 | train_loss: 0.0243 | train_acc: 0.9907 | test_loss: 2.4863 | test_acc: 0.7143\n"
     ]
    },
    {
     "name": "stderr",
     "output_type": "stream",
     "text": [
      "100%|█████████████████████████████████████| 10058/10058 [18:56<00:00,  8.85it/s]\n",
      "100%|███████████████████████████████████████| 1286/1286 [00:47<00:00, 27.28it/s]\n"
     ]
    },
    {
     "name": "stdout",
     "output_type": "stream",
     "text": [
      "Epoch: 8 | train_loss: 0.0227 | train_acc: 0.9916 | test_loss: 2.8830 | test_acc: 0.6768\n"
     ]
    },
    {
     "name": "stderr",
     "output_type": "stream",
     "text": [
      "100%|█████████████████████████████████████| 10058/10058 [14:09<00:00, 11.84it/s]\n",
      "100%|███████████████████████████████████████| 1286/1286 [00:35<00:00, 36.21it/s]\n"
     ]
    },
    {
     "name": "stdout",
     "output_type": "stream",
     "text": [
      "Epoch: 9 | train_loss: 0.0210 | train_acc: 0.9918 | test_loss: 2.8512 | test_acc: 0.6806\n"
     ]
    },
    {
     "name": "stderr",
     "output_type": "stream",
     "text": [
      "100%|█████████████████████████████████████| 10058/10058 [12:41<00:00, 13.21it/s]\n",
      "100%|███████████████████████████████████████| 1286/1286 [00:35<00:00, 36.14it/s]\n"
     ]
    },
    {
     "name": "stdout",
     "output_type": "stream",
     "text": [
      "Epoch: 10 | train_loss: 0.0188 | train_acc: 0.9928 | test_loss: 2.2811 | test_acc: 0.7198\n"
     ]
    },
    {
     "name": "stderr",
     "output_type": "stream",
     "text": [
      "100%|█████████████████████████████████████| 10058/10058 [12:40<00:00, 13.22it/s]\n",
      "100%|███████████████████████████████████████| 1286/1286 [00:35<00:00, 36.31it/s]\n"
     ]
    },
    {
     "name": "stdout",
     "output_type": "stream",
     "text": [
      "Epoch: 11 | train_loss: 0.0171 | train_acc: 0.9932 | test_loss: 2.1326 | test_acc: 0.7309\n"
     ]
    },
    {
     "name": "stderr",
     "output_type": "stream",
     "text": [
      "100%|█████████████████████████████████████| 10058/10058 [12:40<00:00, 13.22it/s]\n",
      "100%|███████████████████████████████████████| 1286/1286 [00:35<00:00, 36.25it/s]\n"
     ]
    },
    {
     "name": "stdout",
     "output_type": "stream",
     "text": [
      "Epoch: 12 | train_loss: 0.0180 | train_acc: 0.9932 | test_loss: 1.7069 | test_acc: 0.7235\n"
     ]
    },
    {
     "name": "stderr",
     "output_type": "stream",
     "text": [
      "100%|█████████████████████████████████████| 10058/10058 [12:40<00:00, 13.23it/s]\n",
      "100%|███████████████████████████████████████| 1286/1286 [00:35<00:00, 36.20it/s]\n"
     ]
    },
    {
     "name": "stdout",
     "output_type": "stream",
     "text": [
      "Epoch: 13 | train_loss: 0.0150 | train_acc: 0.9941 | test_loss: 2.6428 | test_acc: 0.6971\n"
     ]
    },
    {
     "name": "stderr",
     "output_type": "stream",
     "text": [
      "100%|█████████████████████████████████████| 10058/10058 [12:40<00:00, 13.22it/s]\n",
      "100%|███████████████████████████████████████| 1286/1286 [00:35<00:00, 36.15it/s]\n"
     ]
    },
    {
     "name": "stdout",
     "output_type": "stream",
     "text": [
      "Epoch: 14 | train_loss: 0.0149 | train_acc: 0.9939 | test_loss: 2.6504 | test_acc: 0.7175\n"
     ]
    },
    {
     "name": "stderr",
     "output_type": "stream",
     "text": [
      "100%|█████████████████████████████████████| 10058/10058 [12:40<00:00, 13.22it/s]\n",
      "100%|███████████████████████████████████████| 1286/1286 [00:35<00:00, 36.22it/s]\n"
     ]
    },
    {
     "name": "stdout",
     "output_type": "stream",
     "text": [
      "Epoch: 15 | train_loss: 0.0156 | train_acc: 0.9939 | test_loss: 2.7506 | test_acc: 0.7223\n"
     ]
    },
    {
     "name": "stderr",
     "output_type": "stream",
     "text": [
      "100%|█████████████████████████████████████| 10058/10058 [12:40<00:00, 13.23it/s]\n",
      "100%|███████████████████████████████████████| 1286/1286 [00:35<00:00, 36.23it/s]\n"
     ]
    },
    {
     "name": "stdout",
     "output_type": "stream",
     "text": [
      "Epoch: 16 | train_loss: 0.0139 | train_acc: 0.9943 | test_loss: 2.5565 | test_acc: 0.6946\n"
     ]
    },
    {
     "name": "stderr",
     "output_type": "stream",
     "text": [
      "100%|█████████████████████████████████████| 10058/10058 [12:41<00:00, 13.22it/s]\n",
      "100%|███████████████████████████████████████| 1286/1286 [00:35<00:00, 36.21it/s]\n"
     ]
    },
    {
     "name": "stdout",
     "output_type": "stream",
     "text": [
      "Epoch: 17 | train_loss: 0.0150 | train_acc: 0.9943 | test_loss: 2.1894 | test_acc: 0.7137\n"
     ]
    },
    {
     "name": "stderr",
     "output_type": "stream",
     "text": [
      "100%|█████████████████████████████████████| 10058/10058 [12:40<00:00, 13.22it/s]\n",
      "100%|███████████████████████████████████████| 1286/1286 [00:35<00:00, 36.34it/s]\n"
     ]
    },
    {
     "name": "stdout",
     "output_type": "stream",
     "text": [
      "Epoch: 18 | train_loss: 0.0123 | train_acc: 0.9951 | test_loss: 2.2416 | test_acc: 0.7348\n"
     ]
    },
    {
     "name": "stderr",
     "output_type": "stream",
     "text": [
      "100%|█████████████████████████████████████| 10058/10058 [12:40<00:00, 13.22it/s]\n",
      "100%|███████████████████████████████████████| 1286/1286 [00:35<00:00, 36.16it/s]\n"
     ]
    },
    {
     "name": "stdout",
     "output_type": "stream",
     "text": [
      "Epoch: 19 | train_loss: 0.0132 | train_acc: 0.9946 | test_loss: 2.9714 | test_acc: 0.7224\n"
     ]
    },
    {
     "name": "stderr",
     "output_type": "stream",
     "text": [
      "100%|█████████████████████████████████████| 10058/10058 [12:40<00:00, 13.23it/s]\n",
      "100%|███████████████████████████████████████| 1286/1286 [00:35<00:00, 36.17it/s]\n"
     ]
    },
    {
     "name": "stdout",
     "output_type": "stream",
     "text": [
      "Epoch: 20 | train_loss: 0.0126 | train_acc: 0.9944 | test_loss: 2.2295 | test_acc: 0.7140\n"
     ]
    },
    {
     "name": "stderr",
     "output_type": "stream",
     "text": [
      "100%|█████████████████████████████████████| 10058/10058 [12:41<00:00, 13.21it/s]\n",
      "100%|███████████████████████████████████████| 1286/1286 [00:35<00:00, 36.01it/s]\n"
     ]
    },
    {
     "name": "stdout",
     "output_type": "stream",
     "text": [
      "Epoch: 21 | train_loss: 0.0110 | train_acc: 0.9951 | test_loss: 4.3577 | test_acc: 0.6922\n"
     ]
    },
    {
     "name": "stderr",
     "output_type": "stream",
     "text": [
      "100%|█████████████████████████████████████| 10058/10058 [12:40<00:00, 13.22it/s]\n",
      "100%|███████████████████████████████████████| 1286/1286 [00:35<00:00, 36.15it/s]\n"
     ]
    },
    {
     "name": "stdout",
     "output_type": "stream",
     "text": [
      "Epoch: 22 | train_loss: 0.0135 | train_acc: 0.9947 | test_loss: 2.3426 | test_acc: 0.7168\n"
     ]
    },
    {
     "name": "stderr",
     "output_type": "stream",
     "text": [
      "100%|█████████████████████████████████████| 10058/10058 [12:40<00:00, 13.22it/s]\n",
      "100%|███████████████████████████████████████| 1286/1286 [00:35<00:00, 36.41it/s]\n"
     ]
    },
    {
     "name": "stdout",
     "output_type": "stream",
     "text": [
      "Epoch: 23 | train_loss: 0.0122 | train_acc: 0.9949 | test_loss: 2.3334 | test_acc: 0.7102\n"
     ]
    },
    {
     "name": "stderr",
     "output_type": "stream",
     "text": [
      "100%|█████████████████████████████████████| 10058/10058 [12:40<00:00, 13.23it/s]\n",
      "100%|███████████████████████████████████████| 1286/1286 [00:35<00:00, 36.24it/s]\n"
     ]
    },
    {
     "name": "stdout",
     "output_type": "stream",
     "text": [
      "Epoch: 24 | train_loss: 0.0112 | train_acc: 0.9950 | test_loss: 2.5095 | test_acc: 0.7242\n"
     ]
    },
    {
     "name": "stderr",
     "output_type": "stream",
     "text": [
      "100%|█████████████████████████████████████| 10058/10058 [12:40<00:00, 13.22it/s]\n",
      "100%|███████████████████████████████████████| 1286/1286 [00:35<00:00, 36.21it/s]\n"
     ]
    },
    {
     "name": "stdout",
     "output_type": "stream",
     "text": [
      "Epoch: 25 | train_loss: 0.0126 | train_acc: 0.9952 | test_loss: 2.5077 | test_acc: 0.7255\n"
     ]
    },
    {
     "name": "stderr",
     "output_type": "stream",
     "text": [
      "100%|█████████████████████████████████████| 10058/10058 [12:41<00:00, 13.22it/s]\n",
      "100%|███████████████████████████████████████| 1286/1286 [00:35<00:00, 36.15it/s]\n"
     ]
    },
    {
     "name": "stdout",
     "output_type": "stream",
     "text": [
      "Epoch: 26 | train_loss: 0.0107 | train_acc: 0.9952 | test_loss: 2.9654 | test_acc: 0.7375\n"
     ]
    },
    {
     "name": "stderr",
     "output_type": "stream",
     "text": [
      "100%|█████████████████████████████████████| 10058/10058 [12:41<00:00, 13.21it/s]\n",
      "100%|███████████████████████████████████████| 1286/1286 [00:35<00:00, 36.26it/s]\n"
     ]
    },
    {
     "name": "stdout",
     "output_type": "stream",
     "text": [
      "Epoch: 27 | train_loss: 0.0120 | train_acc: 0.9952 | test_loss: 3.3811 | test_acc: 0.6783\n"
     ]
    },
    {
     "name": "stderr",
     "output_type": "stream",
     "text": [
      "100%|█████████████████████████████████████| 10058/10058 [12:39<00:00, 13.24it/s]\n",
      "100%|███████████████████████████████████████| 1286/1286 [00:35<00:00, 36.27it/s]\n"
     ]
    },
    {
     "name": "stdout",
     "output_type": "stream",
     "text": [
      "Epoch: 28 | train_loss: 0.0101 | train_acc: 0.9955 | test_loss: 3.5831 | test_acc: 0.7407\n"
     ]
    },
    {
     "name": "stderr",
     "output_type": "stream",
     "text": [
      "100%|█████████████████████████████████████| 10058/10058 [12:40<00:00, 13.23it/s]\n",
      "100%|███████████████████████████████████████| 1286/1286 [00:35<00:00, 36.12it/s]\n"
     ]
    },
    {
     "name": "stdout",
     "output_type": "stream",
     "text": [
      "Epoch: 29 | train_loss: 0.0120 | train_acc: 0.9951 | test_loss: 3.2503 | test_acc: 0.7084\n"
     ]
    },
    {
     "name": "stderr",
     "output_type": "stream",
     "text": [
      "100%|█████████████████████████████████████| 10058/10058 [12:41<00:00, 13.21it/s]\n",
      "100%|███████████████████████████████████████| 1286/1286 [00:35<00:00, 36.07it/s]\n"
     ]
    },
    {
     "name": "stdout",
     "output_type": "stream",
     "text": [
      "Epoch: 30 | train_loss: 0.0116 | train_acc: 0.9952 | test_loss: 2.5490 | test_acc: 0.7361\n"
     ]
    },
    {
     "name": "stderr",
     "output_type": "stream",
     "text": [
      "100%|█████████████████████████████████████| 10058/10058 [12:41<00:00, 13.22it/s]\n",
      "100%|███████████████████████████████████████| 1286/1286 [00:35<00:00, 36.14it/s]\n"
     ]
    },
    {
     "name": "stdout",
     "output_type": "stream",
     "text": [
      "Epoch: 31 | train_loss: 0.0117 | train_acc: 0.9951 | test_loss: 3.4927 | test_acc: 0.6980\n"
     ]
    },
    {
     "name": "stderr",
     "output_type": "stream",
     "text": [
      "100%|█████████████████████████████████████| 10058/10058 [12:41<00:00, 13.20it/s]\n",
      "100%|███████████████████████████████████████| 1286/1286 [00:35<00:00, 36.15it/s]\n"
     ]
    },
    {
     "name": "stdout",
     "output_type": "stream",
     "text": [
      "Epoch: 32 | train_loss: 0.0108 | train_acc: 0.9953 | test_loss: 4.7019 | test_acc: 0.6996\n"
     ]
    },
    {
     "name": "stderr",
     "output_type": "stream",
     "text": [
      "100%|█████████████████████████████████████| 10058/10058 [12:41<00:00, 13.22it/s]\n",
      "100%|███████████████████████████████████████| 1286/1286 [00:35<00:00, 36.29it/s]\n"
     ]
    },
    {
     "name": "stdout",
     "output_type": "stream",
     "text": [
      "Epoch: 33 | train_loss: 0.0130 | train_acc: 0.9950 | test_loss: 2.6749 | test_acc: 0.7474\n"
     ]
    },
    {
     "name": "stderr",
     "output_type": "stream",
     "text": [
      "100%|█████████████████████████████████████| 10058/10058 [12:41<00:00, 13.21it/s]\n",
      "100%|███████████████████████████████████████| 1286/1286 [00:35<00:00, 36.27it/s]\n"
     ]
    },
    {
     "name": "stdout",
     "output_type": "stream",
     "text": [
      "Epoch: 34 | train_loss: 0.0113 | train_acc: 0.9955 | test_loss: 2.7968 | test_acc: 0.7040\n"
     ]
    },
    {
     "name": "stderr",
     "output_type": "stream",
     "text": [
      "100%|█████████████████████████████████████| 10058/10058 [12:41<00:00, 13.22it/s]\n",
      "100%|███████████████████████████████████████| 1286/1286 [00:35<00:00, 36.34it/s]\n"
     ]
    },
    {
     "name": "stdout",
     "output_type": "stream",
     "text": [
      "Epoch: 35 | train_loss: 0.0106 | train_acc: 0.9954 | test_loss: 5.5032 | test_acc: 0.6940\n"
     ]
    },
    {
     "name": "stderr",
     "output_type": "stream",
     "text": [
      "100%|█████████████████████████████████████| 10058/10058 [12:41<00:00, 13.20it/s]\n",
      "100%|███████████████████████████████████████| 1286/1286 [00:35<00:00, 36.42it/s]\n"
     ]
    },
    {
     "name": "stdout",
     "output_type": "stream",
     "text": [
      "Epoch: 36 | train_loss: 0.0120 | train_acc: 0.9955 | test_loss: 3.1226 | test_acc: 0.7455\n"
     ]
    },
    {
     "name": "stderr",
     "output_type": "stream",
     "text": [
      "100%|█████████████████████████████████████| 10058/10058 [12:41<00:00, 13.21it/s]\n",
      "100%|███████████████████████████████████████| 1286/1286 [00:35<00:00, 36.21it/s]\n"
     ]
    },
    {
     "name": "stdout",
     "output_type": "stream",
     "text": [
      "Epoch: 37 | train_loss: 0.0109 | train_acc: 0.9953 | test_loss: 2.8068 | test_acc: 0.7267\n"
     ]
    },
    {
     "name": "stderr",
     "output_type": "stream",
     "text": [
      "100%|█████████████████████████████████████| 10058/10058 [12:41<00:00, 13.21it/s]\n",
      "100%|███████████████████████████████████████| 1286/1286 [00:35<00:00, 36.27it/s]\n"
     ]
    },
    {
     "name": "stdout",
     "output_type": "stream",
     "text": [
      "Epoch: 38 | train_loss: 0.0097 | train_acc: 0.9955 | test_loss: 3.4632 | test_acc: 0.7311\n"
     ]
    },
    {
     "name": "stderr",
     "output_type": "stream",
     "text": [
      "100%|█████████████████████████████████████| 10058/10058 [12:41<00:00, 13.20it/s]\n",
      "100%|███████████████████████████████████████| 1286/1286 [00:35<00:00, 36.21it/s]\n"
     ]
    },
    {
     "name": "stdout",
     "output_type": "stream",
     "text": [
      "Epoch: 39 | train_loss: 0.0100 | train_acc: 0.9956 | test_loss: 3.1703 | test_acc: 0.7189\n"
     ]
    },
    {
     "name": "stderr",
     "output_type": "stream",
     "text": [
      "100%|█████████████████████████████████████| 10058/10058 [12:39<00:00, 13.24it/s]\n",
      "100%|███████████████████████████████████████| 1286/1286 [00:35<00:00, 36.11it/s]\n"
     ]
    },
    {
     "name": "stdout",
     "output_type": "stream",
     "text": [
      "Epoch: 40 | train_loss: 0.0176 | train_acc: 0.9951 | test_loss: 5.3090 | test_acc: 0.6853\n",
      "Confusion matrix: \n",
      "[[4403    8 1156  613]\n",
      " [ 408 1699 1487  453]\n",
      " [ 600  146 6388  504]\n",
      " [1003    0  155 1529]]\n",
      "Precision: 0.709919401244073\n",
      "Recall: 0.6821233943168548\n",
      "F1 score: 0.6749876043299243\n"
     ]
    },
    {
     "name": "stderr",
     "output_type": "stream",
     "text": [
      "100%|█████████████████████████████████████| 10122/10122 [12:44<00:00, 13.24it/s]\n",
      "100%|███████████████████████████████████████| 1273/1273 [00:35<00:00, 35.71it/s]\n"
     ]
    },
    {
     "name": "stdout",
     "output_type": "stream",
     "text": [
      "Epoch: 1 | train_loss: 0.3573 | train_acc: 0.8606 | test_loss: 1.1421 | test_acc: 0.6767\n"
     ]
    },
    {
     "name": "stderr",
     "output_type": "stream",
     "text": [
      "100%|█████████████████████████████████████| 10122/10122 [12:43<00:00, 13.25it/s]\n",
      "100%|███████████████████████████████████████| 1273/1273 [00:35<00:00, 35.83it/s]\n"
     ]
    },
    {
     "name": "stdout",
     "output_type": "stream",
     "text": [
      "Epoch: 2 | train_loss: 0.1054 | train_acc: 0.9598 | test_loss: 1.2434 | test_acc: 0.6872\n"
     ]
    },
    {
     "name": "stderr",
     "output_type": "stream",
     "text": [
      "100%|█████████████████████████████████████| 10122/10122 [12:44<00:00, 13.25it/s]\n",
      "100%|███████████████████████████████████████| 1273/1273 [00:35<00:00, 35.64it/s]\n"
     ]
    },
    {
     "name": "stdout",
     "output_type": "stream",
     "text": [
      "Epoch: 3 | train_loss: 0.1036 | train_acc: 0.9630 | test_loss: 1.1852 | test_acc: 0.7916\n"
     ]
    },
    {
     "name": "stderr",
     "output_type": "stream",
     "text": [
      "100%|█████████████████████████████████████| 10122/10122 [12:44<00:00, 13.24it/s]\n",
      "100%|███████████████████████████████████████| 1273/1273 [00:35<00:00, 35.78it/s]\n"
     ]
    },
    {
     "name": "stdout",
     "output_type": "stream",
     "text": [
      "Epoch: 4 | train_loss: 0.1104 | train_acc: 0.9559 | test_loss: 1.6800 | test_acc: 0.7190\n"
     ]
    },
    {
     "name": "stderr",
     "output_type": "stream",
     "text": [
      "100%|█████████████████████████████████████| 10122/10122 [12:44<00:00, 13.23it/s]\n",
      "100%|███████████████████████████████████████| 1273/1273 [00:35<00:00, 35.64it/s]\n"
     ]
    },
    {
     "name": "stdout",
     "output_type": "stream",
     "text": [
      "Epoch: 5 | train_loss: 0.0557 | train_acc: 0.9771 | test_loss: 1.2623 | test_acc: 0.7205\n"
     ]
    },
    {
     "name": "stderr",
     "output_type": "stream",
     "text": [
      "100%|█████████████████████████████████████| 10122/10122 [12:45<00:00, 13.22it/s]\n",
      "100%|███████████████████████████████████████| 1273/1273 [00:35<00:00, 35.57it/s]\n"
     ]
    },
    {
     "name": "stdout",
     "output_type": "stream",
     "text": [
      "Epoch: 6 | train_loss: 0.0471 | train_acc: 0.9800 | test_loss: 1.4255 | test_acc: 0.7645\n"
     ]
    },
    {
     "name": "stderr",
     "output_type": "stream",
     "text": [
      "100%|█████████████████████████████████████| 10122/10122 [12:45<00:00, 13.23it/s]\n",
      "100%|███████████████████████████████████████| 1273/1273 [00:35<00:00, 35.71it/s]\n"
     ]
    },
    {
     "name": "stdout",
     "output_type": "stream",
     "text": [
      "Epoch: 7 | train_loss: 0.0382 | train_acc: 0.9828 | test_loss: 2.0217 | test_acc: 0.7492\n"
     ]
    },
    {
     "name": "stderr",
     "output_type": "stream",
     "text": [
      "100%|█████████████████████████████████████| 10122/10122 [13:31<00:00, 12.47it/s]\n",
      "100%|███████████████████████████████████████| 1273/1273 [00:35<00:00, 35.69it/s]\n"
     ]
    },
    {
     "name": "stdout",
     "output_type": "stream",
     "text": [
      "Epoch: 8 | train_loss: 0.0349 | train_acc: 0.9841 | test_loss: 1.0347 | test_acc: 0.8151\n"
     ]
    },
    {
     "name": "stderr",
     "output_type": "stream",
     "text": [
      "100%|█████████████████████████████████████| 10122/10122 [12:44<00:00, 13.24it/s]\n",
      "100%|███████████████████████████████████████| 1273/1273 [00:35<00:00, 35.70it/s]\n"
     ]
    },
    {
     "name": "stdout",
     "output_type": "stream",
     "text": [
      "Epoch: 9 | train_loss: 0.0323 | train_acc: 0.9850 | test_loss: 1.4800 | test_acc: 0.8206\n"
     ]
    },
    {
     "name": "stderr",
     "output_type": "stream",
     "text": [
      "100%|█████████████████████████████████████| 10122/10122 [12:48<00:00, 13.17it/s]\n",
      "100%|███████████████████████████████████████| 1273/1273 [00:35<00:00, 35.67it/s]\n"
     ]
    },
    {
     "name": "stdout",
     "output_type": "stream",
     "text": [
      "Epoch: 10 | train_loss: 0.0292 | train_acc: 0.9858 | test_loss: 1.6920 | test_acc: 0.7461\n"
     ]
    },
    {
     "name": "stderr",
     "output_type": "stream",
     "text": [
      "100%|█████████████████████████████████████| 10122/10122 [12:57<00:00, 13.01it/s]\n",
      "100%|█████████████████████████████████████████████████████████████████████| 1273/1273 [00:36<00:00, 35.26it/s]\n"
     ]
    },
    {
     "name": "stdout",
     "output_type": "stream",
     "text": [
      "Epoch: 11 | train_loss: 0.0297 | train_acc: 0.9855 | test_loss: 1.3822 | test_acc: 0.7989\n"
     ]
    },
    {
     "name": "stderr",
     "output_type": "stream",
     "text": [
      "100%|███████████████████████████████████████████████████████████████████| 10122/10122 [13:12<00:00, 12.77it/s]\n",
      "100%|█████████████████████████████████████████████████████████████████████| 1273/1273 [00:36<00:00, 35.26it/s]\n"
     ]
    },
    {
     "name": "stdout",
     "output_type": "stream",
     "text": [
      "Epoch: 12 | train_loss: 0.0283 | train_acc: 0.9860 | test_loss: 1.5224 | test_acc: 0.7797\n"
     ]
    },
    {
     "name": "stderr",
     "output_type": "stream",
     "text": [
      "100%|███████████████████████████████████████████████████████████████████| 10122/10122 [13:01<00:00, 12.95it/s]\n",
      "100%|█████████████████████████████████████████████████████████████████████| 1273/1273 [00:36<00:00, 35.32it/s]\n"
     ]
    },
    {
     "name": "stdout",
     "output_type": "stream",
     "text": [
      "Epoch: 13 | train_loss: 0.0274 | train_acc: 0.9865 | test_loss: 1.7028 | test_acc: 0.7515\n"
     ]
    },
    {
     "name": "stderr",
     "output_type": "stream",
     "text": [
      "100%|███████████████████████████████████████████████████████████████████| 10122/10122 [12:53<00:00, 13.08it/s]\n",
      "100%|█████████████████████████████████████████████████████████████████████| 1273/1273 [00:35<00:00, 35.44it/s]\n"
     ]
    },
    {
     "name": "stdout",
     "output_type": "stream",
     "text": [
      "Epoch: 14 | train_loss: 0.0254 | train_acc: 0.9868 | test_loss: 1.7095 | test_acc: 0.7260\n"
     ]
    },
    {
     "name": "stderr",
     "output_type": "stream",
     "text": [
      "100%|███████████████████████████████████████████████████████████████████| 10122/10122 [13:11<00:00, 12.78it/s]\n",
      "100%|█████████████████████████████████████████████████████████████████████| 1273/1273 [00:35<00:00, 35.80it/s]\n"
     ]
    },
    {
     "name": "stdout",
     "output_type": "stream",
     "text": [
      "Epoch: 15 | train_loss: 0.0248 | train_acc: 0.9870 | test_loss: 1.9059 | test_acc: 0.7601\n"
     ]
    },
    {
     "name": "stderr",
     "output_type": "stream",
     "text": [
      "100%|███████████████████████████████████████████████████████████████████| 10122/10122 [13:27<00:00, 12.53it/s]\n",
      "100%|█████████████████████████████████████████████████████████████████████| 1273/1273 [00:35<00:00, 36.29it/s]\n"
     ]
    },
    {
     "name": "stdout",
     "output_type": "stream",
     "text": [
      "Epoch: 16 | train_loss: 0.0242 | train_acc: 0.9872 | test_loss: 2.2656 | test_acc: 0.7717\n"
     ]
    },
    {
     "name": "stderr",
     "output_type": "stream",
     "text": [
      "100%|███████████████████████████████████████████████████████████████████| 10122/10122 [12:48<00:00, 13.17it/s]\n",
      "100%|█████████████████████████████████████████████████████████████████████| 1273/1273 [00:35<00:00, 36.31it/s]\n"
     ]
    },
    {
     "name": "stdout",
     "output_type": "stream",
     "text": [
      "Epoch: 17 | train_loss: 0.0239 | train_acc: 0.9874 | test_loss: 1.8933 | test_acc: 0.7692\n"
     ]
    },
    {
     "name": "stderr",
     "output_type": "stream",
     "text": [
      "100%|███████████████████████████████████████████████████████████████████| 10122/10122 [12:38<00:00, 13.35it/s]\n",
      "100%|█████████████████████████████████████████████████████████████████████| 1273/1273 [00:35<00:00, 36.13it/s]\n"
     ]
    },
    {
     "name": "stdout",
     "output_type": "stream",
     "text": [
      "Epoch: 18 | train_loss: 0.0232 | train_acc: 0.9872 | test_loss: 1.6816 | test_acc: 0.7949\n"
     ]
    },
    {
     "name": "stderr",
     "output_type": "stream",
     "text": [
      "100%|███████████████████████████████████████████████████████████████████| 10122/10122 [12:39<00:00, 13.33it/s]\n",
      "100%|█████████████████████████████████████████████████████████████████████| 1273/1273 [00:35<00:00, 36.16it/s]\n"
     ]
    },
    {
     "name": "stdout",
     "output_type": "stream",
     "text": [
      "Epoch: 19 | train_loss: 0.0228 | train_acc: 0.9880 | test_loss: 1.9013 | test_acc: 0.7335\n"
     ]
    },
    {
     "name": "stderr",
     "output_type": "stream",
     "text": [
      "100%|███████████████████████████████████████████████████████████████████| 10122/10122 [12:39<00:00, 13.33it/s]\n",
      "100%|█████████████████████████████████████████████████████████████████████| 1273/1273 [00:35<00:00, 36.29it/s]\n"
     ]
    },
    {
     "name": "stdout",
     "output_type": "stream",
     "text": [
      "Epoch: 20 | train_loss: 0.0223 | train_acc: 0.9880 | test_loss: 1.2752 | test_acc: 0.8001\n"
     ]
    },
    {
     "name": "stderr",
     "output_type": "stream",
     "text": [
      "100%|███████████████████████████████████████████████████████████████████| 10122/10122 [12:36<00:00, 13.37it/s]\n",
      "100%|█████████████████████████████████████████████████████████████████████| 1273/1273 [00:35<00:00, 36.10it/s]\n"
     ]
    },
    {
     "name": "stdout",
     "output_type": "stream",
     "text": [
      "Epoch: 21 | train_loss: 0.0215 | train_acc: 0.9878 | test_loss: 1.3629 | test_acc: 0.8120\n"
     ]
    },
    {
     "name": "stderr",
     "output_type": "stream",
     "text": [
      "100%|███████████████████████████████████████████████████████████████████| 10122/10122 [12:38<00:00, 13.35it/s]\n",
      "100%|█████████████████████████████████████████████████████████████████████| 1273/1273 [00:35<00:00, 36.16it/s]\n"
     ]
    },
    {
     "name": "stdout",
     "output_type": "stream",
     "text": [
      "Epoch: 22 | train_loss: 0.0228 | train_acc: 0.9879 | test_loss: 0.9277 | test_acc: 0.7963\n"
     ]
    },
    {
     "name": "stderr",
     "output_type": "stream",
     "text": [
      "100%|███████████████████████████████████████████████████████████████████| 10122/10122 [12:38<00:00, 13.34it/s]\n",
      "100%|█████████████████████████████████████████████████████████████████████| 1273/1273 [00:35<00:00, 36.34it/s]\n"
     ]
    },
    {
     "name": "stdout",
     "output_type": "stream",
     "text": [
      "Epoch: 23 | train_loss: 0.0223 | train_acc: 0.9884 | test_loss: 2.4916 | test_acc: 0.8252\n"
     ]
    },
    {
     "name": "stderr",
     "output_type": "stream",
     "text": [
      "100%|███████████████████████████████████████████████████████████████████| 10122/10122 [12:38<00:00, 13.35it/s]\n",
      "100%|█████████████████████████████████████████████████████████████████████| 1273/1273 [00:35<00:00, 36.35it/s]\n"
     ]
    },
    {
     "name": "stdout",
     "output_type": "stream",
     "text": [
      "Epoch: 24 | train_loss: 0.0230 | train_acc: 0.9881 | test_loss: 1.5752 | test_acc: 0.8185\n"
     ]
    },
    {
     "name": "stderr",
     "output_type": "stream",
     "text": [
      "100%|███████████████████████████████████████████████████████████████████| 10122/10122 [12:38<00:00, 13.35it/s]\n",
      "100%|█████████████████████████████████████████████████████████████████████| 1273/1273 [00:35<00:00, 36.05it/s]\n"
     ]
    },
    {
     "name": "stdout",
     "output_type": "stream",
     "text": [
      "Epoch: 25 | train_loss: 0.0215 | train_acc: 0.9881 | test_loss: 3.0879 | test_acc: 0.8165\n"
     ]
    },
    {
     "name": "stderr",
     "output_type": "stream",
     "text": [
      "100%|███████████████████████████████████████████████████████████████████| 10122/10122 [12:38<00:00, 13.34it/s]\n",
      "100%|█████████████████████████████████████████████████████████████████████| 1273/1273 [00:35<00:00, 36.14it/s]\n"
     ]
    },
    {
     "name": "stdout",
     "output_type": "stream",
     "text": [
      "Epoch: 26 | train_loss: 0.0219 | train_acc: 0.9882 | test_loss: 1.9600 | test_acc: 0.7994\n"
     ]
    },
    {
     "name": "stderr",
     "output_type": "stream",
     "text": [
      "100%|███████████████████████████████████████████████████████████████████| 10122/10122 [12:38<00:00, 13.34it/s]\n",
      "100%|█████████████████████████████████████████████████████████████████████| 1273/1273 [00:35<00:00, 36.22it/s]\n"
     ]
    },
    {
     "name": "stdout",
     "output_type": "stream",
     "text": [
      "Epoch: 27 | train_loss: 0.0219 | train_acc: 0.9881 | test_loss: 2.9302 | test_acc: 0.7819\n"
     ]
    },
    {
     "name": "stderr",
     "output_type": "stream",
     "text": [
      "100%|███████████████████████████████████████████████████████████████████| 10122/10122 [12:37<00:00, 13.37it/s]\n",
      "100%|█████████████████████████████████████████████████████████████████████| 1273/1273 [00:35<00:00, 36.32it/s]\n"
     ]
    },
    {
     "name": "stdout",
     "output_type": "stream",
     "text": [
      "Epoch: 28 | train_loss: 0.0212 | train_acc: 0.9883 | test_loss: 3.9855 | test_acc: 0.7569\n"
     ]
    },
    {
     "name": "stderr",
     "output_type": "stream",
     "text": [
      "100%|███████████████████████████████████████████████████████████████████| 10122/10122 [12:37<00:00, 13.36it/s]\n",
      "100%|█████████████████████████████████████████████████████████████████████| 1273/1273 [00:35<00:00, 36.09it/s]\n"
     ]
    },
    {
     "name": "stdout",
     "output_type": "stream",
     "text": [
      "Epoch: 29 | train_loss: 0.0206 | train_acc: 0.9883 | test_loss: 2.0680 | test_acc: 0.7871\n"
     ]
    },
    {
     "name": "stderr",
     "output_type": "stream",
     "text": [
      "100%|███████████████████████████████████████████████████████████████████| 10122/10122 [12:37<00:00, 13.36it/s]\n",
      "100%|█████████████████████████████████████████████████████████████████████| 1273/1273 [00:34<00:00, 36.38it/s]\n"
     ]
    },
    {
     "name": "stdout",
     "output_type": "stream",
     "text": [
      "Epoch: 30 | train_loss: 0.0226 | train_acc: 0.9883 | test_loss: 2.7908 | test_acc: 0.8345\n"
     ]
    },
    {
     "name": "stderr",
     "output_type": "stream",
     "text": [
      "100%|███████████████████████████████████████████████████████████████████| 10122/10122 [12:38<00:00, 13.35it/s]\n",
      "100%|█████████████████████████████████████████████████████████████████████| 1273/1273 [00:35<00:00, 36.17it/s]\n"
     ]
    },
    {
     "name": "stdout",
     "output_type": "stream",
     "text": [
      "Epoch: 31 | train_loss: 0.0260 | train_acc: 0.9877 | test_loss: 1.3944 | test_acc: 0.7859\n"
     ]
    },
    {
     "name": "stderr",
     "output_type": "stream",
     "text": [
      "100%|███████████████████████████████████████████████████████████████████| 10122/10122 [12:39<00:00, 13.32it/s]\n",
      "100%|█████████████████████████████████████████████████████████████████████| 1273/1273 [00:35<00:00, 36.30it/s]\n"
     ]
    },
    {
     "name": "stdout",
     "output_type": "stream",
     "text": [
      "Epoch: 32 | train_loss: 0.0192 | train_acc: 0.9887 | test_loss: 2.7749 | test_acc: 0.7827\n"
     ]
    },
    {
     "name": "stderr",
     "output_type": "stream",
     "text": [
      "100%|███████████████████████████████████████████████████████████████████| 10122/10122 [12:39<00:00, 13.34it/s]\n",
      "100%|█████████████████████████████████████████████████████████████████████| 1273/1273 [00:35<00:00, 36.20it/s]\n"
     ]
    },
    {
     "name": "stdout",
     "output_type": "stream",
     "text": [
      "Epoch: 33 | train_loss: 0.0204 | train_acc: 0.9881 | test_loss: 1.9515 | test_acc: 0.7864\n"
     ]
    },
    {
     "name": "stderr",
     "output_type": "stream",
     "text": [
      "100%|███████████████████████████████████████████████████████████████████| 10122/10122 [12:41<00:00, 13.29it/s]\n",
      "100%|█████████████████████████████████████████████████████████████████████| 1273/1273 [00:35<00:00, 35.92it/s]\n"
     ]
    },
    {
     "name": "stdout",
     "output_type": "stream",
     "text": [
      "Epoch: 34 | train_loss: 0.0215 | train_acc: 0.9883 | test_loss: 2.2907 | test_acc: 0.8031\n"
     ]
    },
    {
     "name": "stderr",
     "output_type": "stream",
     "text": [
      "100%|███████████████████████████████████████████████████████████████████| 10122/10122 [12:39<00:00, 13.34it/s]\n",
      "100%|█████████████████████████████████████████████████████████████████████| 1273/1273 [00:35<00:00, 36.17it/s]\n"
     ]
    },
    {
     "name": "stdout",
     "output_type": "stream",
     "text": [
      "Epoch: 35 | train_loss: 0.0231 | train_acc: 0.9887 | test_loss: 0.9835 | test_acc: 0.8083\n"
     ]
    },
    {
     "name": "stderr",
     "output_type": "stream",
     "text": [
      "100%|███████████████████████████████████████████████████████████████████| 10122/10122 [12:39<00:00, 13.33it/s]\n",
      "100%|█████████████████████████████████████████████████████████████████████| 1273/1273 [00:35<00:00, 36.20it/s]\n"
     ]
    },
    {
     "name": "stdout",
     "output_type": "stream",
     "text": [
      "Epoch: 36 | train_loss: 0.0199 | train_acc: 0.9884 | test_loss: 3.6785 | test_acc: 0.7806\n"
     ]
    },
    {
     "name": "stderr",
     "output_type": "stream",
     "text": [
      "100%|███████████████████████████████████████████████████████████████████| 10122/10122 [12:38<00:00, 13.34it/s]\n",
      "100%|█████████████████████████████████████████████████████████████████████| 1273/1273 [00:35<00:00, 36.12it/s]\n"
     ]
    },
    {
     "name": "stdout",
     "output_type": "stream",
     "text": [
      "Epoch: 37 | train_loss: 0.0221 | train_acc: 0.9883 | test_loss: 1.3599 | test_acc: 0.8021\n"
     ]
    },
    {
     "name": "stderr",
     "output_type": "stream",
     "text": [
      "100%|███████████████████████████████████████████████████████████████████| 10122/10122 [12:39<00:00, 13.32it/s]\n",
      "100%|█████████████████████████████████████████████████████████████████████| 1273/1273 [00:35<00:00, 36.07it/s]\n"
     ]
    },
    {
     "name": "stdout",
     "output_type": "stream",
     "text": [
      "Epoch: 38 | train_loss: 0.0200 | train_acc: 0.9889 | test_loss: 5.6803 | test_acc: 0.8201\n"
     ]
    },
    {
     "name": "stderr",
     "output_type": "stream",
     "text": [
      "100%|███████████████████████████████████████████████████████████████████| 10122/10122 [12:38<00:00, 13.35it/s]\n",
      "100%|█████████████████████████████████████████████████████████████████████| 1273/1273 [00:35<00:00, 36.20it/s]\n"
     ]
    },
    {
     "name": "stdout",
     "output_type": "stream",
     "text": [
      "Epoch: 39 | train_loss: 0.0240 | train_acc: 0.9888 | test_loss: 2.1877 | test_acc: 0.7936\n"
     ]
    },
    {
     "name": "stderr",
     "output_type": "stream",
     "text": [
      "100%|███████████████████████████████████████████████████████████████████| 10122/10122 [12:39<00:00, 13.33it/s]\n",
      "100%|█████████████████████████████████████████████████████████████████████| 1273/1273 [00:35<00:00, 36.35it/s]\n"
     ]
    },
    {
     "name": "stdout",
     "output_type": "stream",
     "text": [
      "Epoch: 40 | train_loss: 0.0216 | train_acc: 0.9886 | test_loss: 2.3063 | test_acc: 0.8181\n",
      "Confusion matrix: \n",
      "[[4530  162  795  361]\n",
      " [ 358 2961  252  146]\n",
      " [ 526  478 6479   14]\n",
      " [ 165   15   48 2433]]\n",
      "Precision: 0.8313610839491254\n",
      "Recall: 0.83166861025199\n",
      "F1 score: 0.8310278499434539\n"
     ]
    },
    {
     "name": "stderr",
     "output_type": "stream",
     "text": [
      "100%|███████████████████████████████████████████████████████████████████| 10131/10131 [12:35<00:00, 13.41it/s]\n",
      "100%|█████████████████████████████████████████████████████████████████████| 1303/1303 [00:38<00:00, 33.62it/s]\n"
     ]
    },
    {
     "name": "stdout",
     "output_type": "stream",
     "text": [
      "Epoch: 1 | train_loss: 0.3613 | train_acc: 0.8593 | test_loss: 1.6652 | test_acc: 0.5796\n"
     ]
    },
    {
     "name": "stderr",
     "output_type": "stream",
     "text": [
      "100%|███████████████████████████████████████████████████████████████████| 10131/10131 [12:34<00:00, 13.42it/s]\n",
      "100%|█████████████████████████████████████████████████████████████████████| 1303/1303 [00:38<00:00, 33.73it/s]\n"
     ]
    },
    {
     "name": "stdout",
     "output_type": "stream",
     "text": [
      "Epoch: 2 | train_loss: 0.1034 | train_acc: 0.9626 | test_loss: 1.3258 | test_acc: 0.7244\n"
     ]
    },
    {
     "name": "stderr",
     "output_type": "stream",
     "text": [
      "100%|███████████████████████████████████████████████████████████████████| 10131/10131 [12:34<00:00, 13.43it/s]\n",
      "100%|█████████████████████████████████████████████████████████████████████| 1303/1303 [00:38<00:00, 33.60it/s]\n"
     ]
    },
    {
     "name": "stdout",
     "output_type": "stream",
     "text": [
      "Epoch: 3 | train_loss: 0.0658 | train_acc: 0.9754 | test_loss: 1.4614 | test_acc: 0.7299\n"
     ]
    },
    {
     "name": "stderr",
     "output_type": "stream",
     "text": [
      "100%|███████████████████████████████████████████████████████████████████| 10131/10131 [12:33<00:00, 13.45it/s]\n",
      "100%|█████████████████████████████████████████████████████████████████████| 1303/1303 [00:38<00:00, 33.56it/s]\n"
     ]
    },
    {
     "name": "stdout",
     "output_type": "stream",
     "text": [
      "Epoch: 4 | train_loss: 0.0524 | train_acc: 0.9807 | test_loss: 1.8743 | test_acc: 0.7372\n"
     ]
    },
    {
     "name": "stderr",
     "output_type": "stream",
     "text": [
      "100%|███████████████████████████████████████████████████████████████████| 10131/10131 [12:36<00:00, 13.40it/s]\n",
      "100%|█████████████████████████████████████████████████████████████████████| 1303/1303 [00:38<00:00, 33.72it/s]\n"
     ]
    },
    {
     "name": "stdout",
     "output_type": "stream",
     "text": [
      "Epoch: 5 | train_loss: 0.0416 | train_acc: 0.9835 | test_loss: 1.6857 | test_acc: 0.7395\n"
     ]
    },
    {
     "name": "stderr",
     "output_type": "stream",
     "text": [
      "100%|███████████████████████████████████████████████████████████████████| 10131/10131 [12:35<00:00, 13.41it/s]\n",
      "100%|█████████████████████████████████████████████████████████████████████| 1303/1303 [00:38<00:00, 33.64it/s]\n"
     ]
    },
    {
     "name": "stdout",
     "output_type": "stream",
     "text": [
      "Epoch: 6 | train_loss: 0.0353 | train_acc: 0.9855 | test_loss: 1.3024 | test_acc: 0.7787\n"
     ]
    },
    {
     "name": "stderr",
     "output_type": "stream",
     "text": [
      "100%|███████████████████████████████████████████████████████████████████| 10131/10131 [12:36<00:00, 13.40it/s]\n",
      "100%|█████████████████████████████████████████████████████████████████████| 1303/1303 [00:39<00:00, 33.38it/s]\n"
     ]
    },
    {
     "name": "stdout",
     "output_type": "stream",
     "text": [
      "Epoch: 7 | train_loss: 0.0337 | train_acc: 0.9865 | test_loss: 1.8694 | test_acc: 0.7337\n"
     ]
    },
    {
     "name": "stderr",
     "output_type": "stream",
     "text": [
      "100%|███████████████████████████████████████████████████████████████████| 10131/10131 [12:35<00:00, 13.40it/s]\n",
      "100%|█████████████████████████████████████████████████████████████████████| 1303/1303 [00:38<00:00, 33.47it/s]\n"
     ]
    },
    {
     "name": "stdout",
     "output_type": "stream",
     "text": [
      "Epoch: 8 | train_loss: 0.0295 | train_acc: 0.9876 | test_loss: 2.4887 | test_acc: 0.7322\n"
     ]
    },
    {
     "name": "stderr",
     "output_type": "stream",
     "text": [
      "100%|███████████████████████████████████████████████████████████████████| 10131/10131 [12:36<00:00, 13.40it/s]\n",
      "100%|█████████████████████████████████████████████████████████████████████| 1303/1303 [00:38<00:00, 33.46it/s]\n"
     ]
    },
    {
     "name": "stdout",
     "output_type": "stream",
     "text": [
      "Epoch: 9 | train_loss: 0.0273 | train_acc: 0.9883 | test_loss: 2.5145 | test_acc: 0.7021\n"
     ]
    },
    {
     "name": "stderr",
     "output_type": "stream",
     "text": [
      "100%|███████████████████████████████████████████████████████████████████| 10131/10131 [12:35<00:00, 13.42it/s]\n",
      "100%|█████████████████████████████████████████████████████████████████████| 1303/1303 [00:38<00:00, 33.57it/s]\n"
     ]
    },
    {
     "name": "stdout",
     "output_type": "stream",
     "text": [
      "Epoch: 10 | train_loss: 0.0255 | train_acc: 0.9890 | test_loss: 1.5862 | test_acc: 0.7762\n"
     ]
    },
    {
     "name": "stderr",
     "output_type": "stream",
     "text": [
      "100%|███████████████████████████████████████████████████████████████████| 10131/10131 [12:35<00:00, 13.41it/s]\n",
      "100%|█████████████████████████████████████████████████████████████████████| 1303/1303 [00:38<00:00, 33.49it/s]\n"
     ]
    },
    {
     "name": "stdout",
     "output_type": "stream",
     "text": [
      "Epoch: 11 | train_loss: 0.0261 | train_acc: 0.9884 | test_loss: 1.6100 | test_acc: 0.7409\n"
     ]
    },
    {
     "name": "stderr",
     "output_type": "stream",
     "text": [
      "100%|███████████████████████████████████████████████████████████████████| 10131/10131 [12:35<00:00, 13.41it/s]\n",
      "100%|█████████████████████████████████████████████████████████████████████| 1303/1303 [00:38<00:00, 33.44it/s]\n"
     ]
    },
    {
     "name": "stdout",
     "output_type": "stream",
     "text": [
      "Epoch: 12 | train_loss: 0.0228 | train_acc: 0.9896 | test_loss: 1.3185 | test_acc: 0.7872\n"
     ]
    },
    {
     "name": "stderr",
     "output_type": "stream",
     "text": [
      "100%|███████████████████████████████████████████████████████████████████| 10131/10131 [12:35<00:00, 13.41it/s]\n",
      "100%|█████████████████████████████████████████████████████████████████████| 1303/1303 [00:38<00:00, 33.45it/s]\n"
     ]
    },
    {
     "name": "stdout",
     "output_type": "stream",
     "text": [
      "Epoch: 13 | train_loss: 0.0271 | train_acc: 0.9884 | test_loss: 2.4369 | test_acc: 0.7672\n"
     ]
    },
    {
     "name": "stderr",
     "output_type": "stream",
     "text": [
      "100%|███████████████████████████████████████████████████████████████████| 10131/10131 [14:24<00:00, 11.72it/s]\n",
      "100%|█████████████████████████████████████████████████████████████████████| 1303/1303 [00:41<00:00, 31.13it/s]\n"
     ]
    },
    {
     "name": "stdout",
     "output_type": "stream",
     "text": [
      "Epoch: 14 | train_loss: 0.0226 | train_acc: 0.9897 | test_loss: 3.1338 | test_acc: 0.7638\n"
     ]
    },
    {
     "name": "stderr",
     "output_type": "stream",
     "text": [
      "100%|███████████████████████████████████████████████████████████████████| 10131/10131 [12:34<00:00, 13.43it/s]\n",
      "100%|█████████████████████████████████████████████████████████████████████| 1303/1303 [00:38<00:00, 33.58it/s]\n"
     ]
    },
    {
     "name": "stdout",
     "output_type": "stream",
     "text": [
      "Epoch: 15 | train_loss: 0.0221 | train_acc: 0.9901 | test_loss: 1.5310 | test_acc: 0.7473\n"
     ]
    },
    {
     "name": "stderr",
     "output_type": "stream",
     "text": [
      "100%|███████████████████████████████████████████████████████████████████| 10131/10131 [12:36<00:00, 13.40it/s]\n",
      "100%|█████████████████████████████████████████████████████████████████████| 1303/1303 [00:39<00:00, 33.37it/s]\n"
     ]
    },
    {
     "name": "stdout",
     "output_type": "stream",
     "text": [
      "Epoch: 16 | train_loss: 0.0204 | train_acc: 0.9904 | test_loss: 1.9031 | test_acc: 0.7503\n"
     ]
    },
    {
     "name": "stderr",
     "output_type": "stream",
     "text": [
      "100%|███████████████████████████████████████████████████████████████████| 10131/10131 [12:36<00:00, 13.39it/s]\n",
      "100%|█████████████████████████████████████████████████████████████████████| 1303/1303 [00:38<00:00, 33.61it/s]\n"
     ]
    },
    {
     "name": "stdout",
     "output_type": "stream",
     "text": [
      "Epoch: 17 | train_loss: 0.0226 | train_acc: 0.9906 | test_loss: 2.0219 | test_acc: 0.7405\n"
     ]
    },
    {
     "name": "stderr",
     "output_type": "stream",
     "text": [
      "100%|███████████████████████████████████████████████████████████████████| 10131/10131 [14:05<00:00, 11.98it/s]\n",
      "100%|█████████████████████████████████████████████████████████████████████| 1303/1303 [00:44<00:00, 29.31it/s]\n"
     ]
    },
    {
     "name": "stdout",
     "output_type": "stream",
     "text": [
      "Epoch: 18 | train_loss: 0.0201 | train_acc: 0.9903 | test_loss: 1.3165 | test_acc: 0.7942\n"
     ]
    },
    {
     "name": "stderr",
     "output_type": "stream",
     "text": [
      "100%|███████████████████████████████████████████████████████████████████| 10131/10131 [13:57<00:00, 12.10it/s]\n",
      "100%|█████████████████████████████████████████████████████████████████████| 1303/1303 [00:39<00:00, 32.93it/s]\n"
     ]
    },
    {
     "name": "stdout",
     "output_type": "stream",
     "text": [
      "Epoch: 19 | train_loss: 0.0199 | train_acc: 0.9904 | test_loss: 1.7684 | test_acc: 0.7630\n"
     ]
    },
    {
     "name": "stderr",
     "output_type": "stream",
     "text": [
      "100%|███████████████████████████████████████████████████████████████████| 10131/10131 [12:59<00:00, 12.99it/s]\n",
      "100%|█████████████████████████████████████████████████████████████████████| 1303/1303 [00:39<00:00, 33.02it/s]\n"
     ]
    },
    {
     "name": "stdout",
     "output_type": "stream",
     "text": [
      "Epoch: 20 | train_loss: 0.0182 | train_acc: 0.9907 | test_loss: 1.9394 | test_acc: 0.7683\n"
     ]
    },
    {
     "name": "stderr",
     "output_type": "stream",
     "text": [
      "100%|███████████████████████████████████████████████████████████████████| 10131/10131 [15:00<00:00, 11.24it/s]\n",
      "100%|█████████████████████████████████████████████████████████████████████| 1303/1303 [00:45<00:00, 28.69it/s]\n"
     ]
    },
    {
     "name": "stdout",
     "output_type": "stream",
     "text": [
      "Epoch: 21 | train_loss: 0.0195 | train_acc: 0.9906 | test_loss: 2.0884 | test_acc: 0.7408\n"
     ]
    },
    {
     "name": "stderr",
     "output_type": "stream",
     "text": [
      "100%|███████████████████████████████████████████████████████████████████| 10131/10131 [16:01<00:00, 10.53it/s]\n",
      "100%|█████████████████████████████████████████████████████████████████████| 1303/1303 [00:45<00:00, 28.67it/s]\n"
     ]
    },
    {
     "name": "stdout",
     "output_type": "stream",
     "text": [
      "Epoch: 22 | train_loss: 0.0171 | train_acc: 0.9914 | test_loss: 1.2554 | test_acc: 0.7524\n"
     ]
    },
    {
     "name": "stderr",
     "output_type": "stream",
     "text": [
      "100%|███████████████████████████████████████████████████████████████████| 10131/10131 [16:01<00:00, 10.54it/s]\n",
      "100%|█████████████████████████████████████████████████████████████████████| 1303/1303 [00:45<00:00, 28.61it/s]\n"
     ]
    },
    {
     "name": "stdout",
     "output_type": "stream",
     "text": [
      "Epoch: 23 | train_loss: 0.0170 | train_acc: 0.9911 | test_loss: 2.7731 | test_acc: 0.7746\n"
     ]
    },
    {
     "name": "stderr",
     "output_type": "stream",
     "text": [
      "100%|███████████████████████████████████████████████████████████████████| 10131/10131 [16:02<00:00, 10.53it/s]\n",
      "100%|█████████████████████████████████████████████████████████████████████| 1303/1303 [00:45<00:00, 28.87it/s]\n"
     ]
    },
    {
     "name": "stdout",
     "output_type": "stream",
     "text": [
      "Epoch: 24 | train_loss: 0.0183 | train_acc: 0.9914 | test_loss: 1.6823 | test_acc: 0.7838\n"
     ]
    },
    {
     "name": "stderr",
     "output_type": "stream",
     "text": [
      "100%|███████████████████████████████████████████████████████████████████| 10131/10131 [14:49<00:00, 11.39it/s]\n",
      "100%|█████████████████████████████████████████████████████████████████████| 1303/1303 [00:39<00:00, 32.99it/s]\n"
     ]
    },
    {
     "name": "stdout",
     "output_type": "stream",
     "text": [
      "Epoch: 25 | train_loss: 0.0171 | train_acc: 0.9914 | test_loss: 3.0146 | test_acc: 0.7759\n"
     ]
    },
    {
     "name": "stderr",
     "output_type": "stream",
     "text": [
      "100%|███████████████████████████████████████████████████████████████████| 10131/10131 [12:58<00:00, 13.02it/s]\n",
      "100%|█████████████████████████████████████████████████████████████████████| 1303/1303 [00:39<00:00, 32.93it/s]\n"
     ]
    },
    {
     "name": "stdout",
     "output_type": "stream",
     "text": [
      "Epoch: 26 | train_loss: 0.0177 | train_acc: 0.9915 | test_loss: 2.0305 | test_acc: 0.7732\n"
     ]
    },
    {
     "name": "stderr",
     "output_type": "stream",
     "text": [
      "100%|███████████████████████████████████████████████████████████████████| 10131/10131 [12:56<00:00, 13.04it/s]\n",
      "100%|█████████████████████████████████████████████████████████████████████| 1303/1303 [00:39<00:00, 32.82it/s]\n"
     ]
    },
    {
     "name": "stdout",
     "output_type": "stream",
     "text": [
      "Epoch: 27 | train_loss: 0.0167 | train_acc: 0.9916 | test_loss: 1.8480 | test_acc: 0.7661\n"
     ]
    },
    {
     "name": "stderr",
     "output_type": "stream",
     "text": [
      "100%|███████████████████████████████████████████████████████████████████| 10131/10131 [12:57<00:00, 13.03it/s]\n",
      "100%|█████████████████████████████████████████████████████████████████████| 1303/1303 [00:39<00:00, 32.85it/s]\n"
     ]
    },
    {
     "name": "stdout",
     "output_type": "stream",
     "text": [
      "Epoch: 28 | train_loss: 0.0216 | train_acc: 0.9906 | test_loss: 1.8183 | test_acc: 0.7774\n"
     ]
    },
    {
     "name": "stderr",
     "output_type": "stream",
     "text": [
      "100%|███████████████████████████████████████████████████████████████████| 10131/10131 [12:57<00:00, 13.03it/s]\n",
      "100%|█████████████████████████████████████████████████████████████████████| 1303/1303 [00:39<00:00, 33.00it/s]\n"
     ]
    },
    {
     "name": "stdout",
     "output_type": "stream",
     "text": [
      "Epoch: 29 | train_loss: 0.0154 | train_acc: 0.9917 | test_loss: 2.8329 | test_acc: 0.7348\n"
     ]
    },
    {
     "name": "stderr",
     "output_type": "stream",
     "text": [
      "100%|███████████████████████████████████████████████████████████████████| 10131/10131 [12:56<00:00, 13.05it/s]\n",
      "100%|█████████████████████████████████████████████████████████████████████| 1303/1303 [00:39<00:00, 32.90it/s]\n"
     ]
    },
    {
     "name": "stdout",
     "output_type": "stream",
     "text": [
      "Epoch: 30 | train_loss: 0.0163 | train_acc: 0.9915 | test_loss: 3.3935 | test_acc: 0.7550\n"
     ]
    },
    {
     "name": "stderr",
     "output_type": "stream",
     "text": [
      "100%|███████████████████████████████████████████████████████████████████| 10131/10131 [12:57<00:00, 13.03it/s]\n",
      "100%|█████████████████████████████████████████████████████████████████████| 1303/1303 [00:39<00:00, 32.89it/s]\n"
     ]
    },
    {
     "name": "stdout",
     "output_type": "stream",
     "text": [
      "Epoch: 31 | train_loss: 0.0191 | train_acc: 0.9918 | test_loss: 2.1484 | test_acc: 0.7454\n"
     ]
    },
    {
     "name": "stderr",
     "output_type": "stream",
     "text": [
      "100%|███████████████████████████████████████████████████████████████████| 10131/10131 [12:57<00:00, 13.02it/s]\n",
      "100%|█████████████████████████████████████████████████████████████████████| 1303/1303 [00:39<00:00, 32.83it/s]\n"
     ]
    },
    {
     "name": "stdout",
     "output_type": "stream",
     "text": [
      "Epoch: 32 | train_loss: 0.0150 | train_acc: 0.9919 | test_loss: 3.3223 | test_acc: 0.7667\n"
     ]
    },
    {
     "name": "stderr",
     "output_type": "stream",
     "text": [
      "100%|███████████████████████████████████████████████████████████████████| 10131/10131 [12:57<00:00, 13.02it/s]\n",
      "100%|█████████████████████████████████████████████████████████████████████| 1303/1303 [00:39<00:00, 32.96it/s]\n"
     ]
    },
    {
     "name": "stdout",
     "output_type": "stream",
     "text": [
      "Epoch: 33 | train_loss: 0.0164 | train_acc: 0.9918 | test_loss: 1.9477 | test_acc: 0.7679\n"
     ]
    },
    {
     "name": "stderr",
     "output_type": "stream",
     "text": [
      "100%|███████████████████████████████████████████████████████████████████| 10131/10131 [12:58<00:00, 13.02it/s]\n",
      "100%|█████████████████████████████████████████████████████████████████████| 1303/1303 [00:39<00:00, 32.91it/s]\n"
     ]
    },
    {
     "name": "stdout",
     "output_type": "stream",
     "text": [
      "Epoch: 34 | train_loss: 0.0158 | train_acc: 0.9917 | test_loss: 2.2619 | test_acc: 0.7515\n"
     ]
    },
    {
     "name": "stderr",
     "output_type": "stream",
     "text": [
      "100%|███████████████████████████████████████████████████████████████████| 10131/10131 [12:57<00:00, 13.03it/s]\n",
      "100%|█████████████████████████████████████████████████████████████████████| 1303/1303 [00:39<00:00, 32.86it/s]\n"
     ]
    },
    {
     "name": "stdout",
     "output_type": "stream",
     "text": [
      "Epoch: 35 | train_loss: 0.0159 | train_acc: 0.9915 | test_loss: 3.0232 | test_acc: 0.7354\n"
     ]
    },
    {
     "name": "stderr",
     "output_type": "stream",
     "text": [
      "100%|███████████████████████████████████████████████████████████████████| 10131/10131 [12:57<00:00, 13.04it/s]\n",
      "100%|█████████████████████████████████████████████████████████████████████| 1303/1303 [00:39<00:00, 32.97it/s]\n"
     ]
    },
    {
     "name": "stdout",
     "output_type": "stream",
     "text": [
      "Epoch: 36 | train_loss: 0.0168 | train_acc: 0.9917 | test_loss: 4.7321 | test_acc: 0.7190\n"
     ]
    },
    {
     "name": "stderr",
     "output_type": "stream",
     "text": [
      "100%|███████████████████████████████████████████████████████████████████| 10131/10131 [12:56<00:00, 13.05it/s]\n",
      "100%|█████████████████████████████████████████████████████████████████████| 1303/1303 [00:39<00:00, 32.90it/s]\n"
     ]
    },
    {
     "name": "stdout",
     "output_type": "stream",
     "text": [
      "Epoch: 37 | train_loss: 0.0159 | train_acc: 0.9915 | test_loss: 1.9250 | test_acc: 0.7737\n"
     ]
    },
    {
     "name": "stderr",
     "output_type": "stream",
     "text": [
      "100%|███████████████████████████████████████████████████████████████████| 10131/10131 [12:56<00:00, 13.04it/s]\n",
      "100%|█████████████████████████████████████████████████████████████████████| 1303/1303 [00:39<00:00, 32.94it/s]\n"
     ]
    },
    {
     "name": "stdout",
     "output_type": "stream",
     "text": [
      "Epoch: 38 | train_loss: 0.0161 | train_acc: 0.9914 | test_loss: 3.1173 | test_acc: 0.7833\n"
     ]
    },
    {
     "name": "stderr",
     "output_type": "stream",
     "text": [
      "100%|███████████████████████████████████████████████████████████████████| 10131/10131 [12:56<00:00, 13.05it/s]\n",
      "100%|█████████████████████████████████████████████████████████████████████| 1303/1303 [00:39<00:00, 33.12it/s]\n"
     ]
    },
    {
     "name": "stdout",
     "output_type": "stream",
     "text": [
      "Epoch: 39 | train_loss: 0.0162 | train_acc: 0.9915 | test_loss: 1.0531 | test_acc: 0.7940\n"
     ]
    },
    {
     "name": "stderr",
     "output_type": "stream",
     "text": [
      "100%|███████████████████████████████████████████████████████████████████| 10131/10131 [12:56<00:00, 13.05it/s]\n",
      "100%|█████████████████████████████████████████████████████████████████████| 1303/1303 [00:39<00:00, 32.86it/s]\n"
     ]
    },
    {
     "name": "stdout",
     "output_type": "stream",
     "text": [
      "Epoch: 40 | train_loss: 0.0144 | train_acc: 0.9921 | test_loss: 2.0121 | test_acc: 0.7949\n",
      "Confusion matrix: \n",
      "[[4235   77 1725   70]\n",
      " [   0 2688  593    0]\n",
      " [ 608   41 5933   23]\n",
      " [ 621    0  133 2355]]\n",
      "Precision: 0.813598728302206\n",
      "Recall: 0.7963040519317349\n",
      "F1 score: 0.7974061436348616\n"
     ]
    },
    {
     "name": "stderr",
     "output_type": "stream",
     "text": [
      "100%|███████████████████████████████████████████████████████████████████| 10098/10098 [12:56<00:00, 13.00it/s]\n",
      "100%|█████████████████████████████████████████████████████████████████████| 1277/1277 [00:35<00:00, 36.45it/s]\n"
     ]
    },
    {
     "name": "stdout",
     "output_type": "stream",
     "text": [
      "Epoch: 1 | train_loss: 0.4014 | train_acc: 0.8411 | test_loss: 1.3781 | test_acc: 0.7187\n"
     ]
    },
    {
     "name": "stderr",
     "output_type": "stream",
     "text": [
      "100%|███████████████████████████████████████████████████████████████████| 10098/10098 [12:57<00:00, 12.98it/s]\n",
      "100%|█████████████████████████████████████████████████████████████████████| 1277/1277 [00:34<00:00, 36.54it/s]\n"
     ]
    },
    {
     "name": "stdout",
     "output_type": "stream",
     "text": [
      "Epoch: 2 | train_loss: 0.1596 | train_acc: 0.9391 | test_loss: 1.4507 | test_acc: 0.7035\n"
     ]
    },
    {
     "name": "stderr",
     "output_type": "stream",
     "text": [
      "100%|███████████████████████████████████████████████████████████████████| 10098/10098 [12:57<00:00, 12.99it/s]\n",
      "100%|█████████████████████████████████████████████████████████████████████| 1277/1277 [00:34<00:00, 36.50it/s]\n"
     ]
    },
    {
     "name": "stdout",
     "output_type": "stream",
     "text": [
      "Epoch: 3 | train_loss: 0.0777 | train_acc: 0.9699 | test_loss: 1.2283 | test_acc: 0.7728\n"
     ]
    },
    {
     "name": "stderr",
     "output_type": "stream",
     "text": [
      "100%|███████████████████████████████████████████████████████████████████| 10098/10098 [12:57<00:00, 12.99it/s]\n",
      "100%|█████████████████████████████████████████████████████████████████████| 1277/1277 [00:34<00:00, 36.59it/s]\n"
     ]
    },
    {
     "name": "stdout",
     "output_type": "stream",
     "text": [
      "Epoch: 4 | train_loss: 0.0564 | train_acc: 0.9768 | test_loss: 1.8378 | test_acc: 0.7660\n"
     ]
    },
    {
     "name": "stderr",
     "output_type": "stream",
     "text": [
      "100%|███████████████████████████████████████████████████████████████████| 10098/10098 [12:57<00:00, 12.99it/s]\n",
      "100%|█████████████████████████████████████████████████████████████████████| 1277/1277 [00:35<00:00, 36.42it/s]\n"
     ]
    },
    {
     "name": "stdout",
     "output_type": "stream",
     "text": [
      "Epoch: 5 | train_loss: 0.0435 | train_acc: 0.9812 | test_loss: 1.7670 | test_acc: 0.7826\n"
     ]
    },
    {
     "name": "stderr",
     "output_type": "stream",
     "text": [
      "100%|███████████████████████████████████████████████████████████████████| 10098/10098 [12:57<00:00, 12.99it/s]\n",
      "100%|█████████████████████████████████████████████████████████████████████| 1277/1277 [00:34<00:00, 36.57it/s]\n"
     ]
    },
    {
     "name": "stdout",
     "output_type": "stream",
     "text": [
      "Epoch: 6 | train_loss: 0.0397 | train_acc: 0.9820 | test_loss: 2.2145 | test_acc: 0.7753\n"
     ]
    },
    {
     "name": "stderr",
     "output_type": "stream",
     "text": [
      "100%|███████████████████████████████████████████████████████████████████| 10098/10098 [12:56<00:00, 13.00it/s]\n",
      "100%|█████████████████████████████████████████████████████████████████████| 1277/1277 [00:35<00:00, 36.48it/s]\n"
     ]
    },
    {
     "name": "stdout",
     "output_type": "stream",
     "text": [
      "Epoch: 7 | train_loss: 0.0367 | train_acc: 0.9835 | test_loss: 1.7236 | test_acc: 0.7859\n"
     ]
    },
    {
     "name": "stderr",
     "output_type": "stream",
     "text": [
      "100%|███████████████████████████████████████████████████████████████████| 10098/10098 [12:56<00:00, 13.00it/s]\n",
      "100%|█████████████████████████████████████████████████████████████████████| 1277/1277 [00:34<00:00, 36.57it/s]\n"
     ]
    },
    {
     "name": "stdout",
     "output_type": "stream",
     "text": [
      "Epoch: 8 | train_loss: 0.0327 | train_acc: 0.9844 | test_loss: 1.8479 | test_acc: 0.7806\n"
     ]
    },
    {
     "name": "stderr",
     "output_type": "stream",
     "text": [
      "100%|███████████████████████████████████████████████████████████████████| 10098/10098 [12:56<00:00, 13.00it/s]\n",
      "100%|█████████████████████████████████████████████████████████████████████| 1277/1277 [00:34<00:00, 36.79it/s]\n"
     ]
    },
    {
     "name": "stdout",
     "output_type": "stream",
     "text": [
      "Epoch: 9 | train_loss: 0.0306 | train_acc: 0.9853 | test_loss: 1.6884 | test_acc: 0.7746\n"
     ]
    },
    {
     "name": "stderr",
     "output_type": "stream",
     "text": [
      "100%|███████████████████████████████████████████████████████████████████| 10098/10098 [12:55<00:00, 13.02it/s]\n",
      "100%|█████████████████████████████████████████████████████████████████████| 1277/1277 [00:34<00:00, 36.53it/s]\n"
     ]
    },
    {
     "name": "stdout",
     "output_type": "stream",
     "text": [
      "Epoch: 10 | train_loss: 0.0286 | train_acc: 0.9860 | test_loss: 1.2748 | test_acc: 0.7688\n"
     ]
    },
    {
     "name": "stderr",
     "output_type": "stream",
     "text": [
      "100%|███████████████████████████████████████████████████████████████████| 10098/10098 [12:56<00:00, 13.00it/s]\n",
      "100%|█████████████████████████████████████████████████████████████████████| 1277/1277 [00:34<00:00, 36.50it/s]\n"
     ]
    },
    {
     "name": "stdout",
     "output_type": "stream",
     "text": [
      "Epoch: 11 | train_loss: 0.0280 | train_acc: 0.9860 | test_loss: 2.3393 | test_acc: 0.7015\n"
     ]
    },
    {
     "name": "stderr",
     "output_type": "stream",
     "text": [
      "100%|███████████████████████████████████████████████████████████████████| 10098/10098 [12:57<00:00, 12.98it/s]\n",
      "100%|█████████████████████████████████████████████████████████████████████| 1277/1277 [00:34<00:00, 36.78it/s]\n"
     ]
    },
    {
     "name": "stdout",
     "output_type": "stream",
     "text": [
      "Epoch: 12 | train_loss: 0.0268 | train_acc: 0.9862 | test_loss: 2.3782 | test_acc: 0.7724\n"
     ]
    },
    {
     "name": "stderr",
     "output_type": "stream",
     "text": [
      "100%|███████████████████████████████████████████████████████████████████| 10098/10098 [12:57<00:00, 12.99it/s]\n",
      "100%|█████████████████████████████████████████████████████████████████████| 1277/1277 [00:34<00:00, 36.56it/s]\n"
     ]
    },
    {
     "name": "stdout",
     "output_type": "stream",
     "text": [
      "Epoch: 13 | train_loss: 0.0262 | train_acc: 0.9868 | test_loss: 3.9574 | test_acc: 0.7548\n"
     ]
    },
    {
     "name": "stderr",
     "output_type": "stream",
     "text": [
      "100%|███████████████████████████████████████████████████████████████████| 10098/10098 [12:58<00:00, 12.98it/s]\n",
      "100%|█████████████████████████████████████████████████████████████████████| 1277/1277 [00:35<00:00, 36.44it/s]\n"
     ]
    },
    {
     "name": "stdout",
     "output_type": "stream",
     "text": [
      "Epoch: 14 | train_loss: 0.0249 | train_acc: 0.9870 | test_loss: 2.7042 | test_acc: 0.7764\n"
     ]
    },
    {
     "name": "stderr",
     "output_type": "stream",
     "text": [
      "100%|███████████████████████████████████████████████████████████████████| 10098/10098 [12:57<00:00, 12.99it/s]\n",
      "100%|█████████████████████████████████████████████████████████████████████| 1277/1277 [00:35<00:00, 36.46it/s]\n"
     ]
    },
    {
     "name": "stdout",
     "output_type": "stream",
     "text": [
      "Epoch: 15 | train_loss: 0.0263 | train_acc: 0.9871 | test_loss: 2.5713 | test_acc: 0.7674\n"
     ]
    },
    {
     "name": "stderr",
     "output_type": "stream",
     "text": [
      "100%|███████████████████████████████████████████████████████████████████| 10098/10098 [12:57<00:00, 12.99it/s]\n",
      "100%|█████████████████████████████████████████████████████████████████████| 1277/1277 [00:34<00:00, 36.62it/s]\n"
     ]
    },
    {
     "name": "stdout",
     "output_type": "stream",
     "text": [
      "Epoch: 16 | train_loss: 0.0236 | train_acc: 0.9875 | test_loss: 2.7350 | test_acc: 0.7813\n"
     ]
    },
    {
     "name": "stderr",
     "output_type": "stream",
     "text": [
      "100%|███████████████████████████████████████████████████████████████████| 10098/10098 [12:57<00:00, 12.98it/s]\n",
      "100%|█████████████████████████████████████████████████████████████████████| 1277/1277 [00:35<00:00, 36.41it/s]\n"
     ]
    },
    {
     "name": "stdout",
     "output_type": "stream",
     "text": [
      "Epoch: 17 | train_loss: 0.0237 | train_acc: 0.9874 | test_loss: 2.2314 | test_acc: 0.7947\n"
     ]
    },
    {
     "name": "stderr",
     "output_type": "stream",
     "text": [
      "100%|███████████████████████████████████████████████████████████████████| 10098/10098 [12:57<00:00, 13.00it/s]\n",
      "100%|█████████████████████████████████████████████████████████████████████| 1277/1277 [00:34<00:00, 36.52it/s]\n"
     ]
    },
    {
     "name": "stdout",
     "output_type": "stream",
     "text": [
      "Epoch: 18 | train_loss: 0.0245 | train_acc: 0.9876 | test_loss: 2.8689 | test_acc: 0.7751\n"
     ]
    },
    {
     "name": "stderr",
     "output_type": "stream",
     "text": [
      "100%|███████████████████████████████████████████████████████████████████| 10098/10098 [12:56<00:00, 13.00it/s]\n",
      "100%|█████████████████████████████████████████████████████████████████████| 1277/1277 [00:34<00:00, 36.70it/s]\n"
     ]
    },
    {
     "name": "stdout",
     "output_type": "stream",
     "text": [
      "Epoch: 19 | train_loss: 0.0222 | train_acc: 0.9879 | test_loss: 2.1250 | test_acc: 0.7985\n"
     ]
    },
    {
     "name": "stderr",
     "output_type": "stream",
     "text": [
      "100%|███████████████████████████████████████████████████████████████████| 10098/10098 [12:57<00:00, 12.98it/s]\n",
      "100%|█████████████████████████████████████████████████████████████████████| 1277/1277 [00:35<00:00, 36.47it/s]\n"
     ]
    },
    {
     "name": "stdout",
     "output_type": "stream",
     "text": [
      "Epoch: 20 | train_loss: 0.0228 | train_acc: 0.9880 | test_loss: 2.9887 | test_acc: 0.7847\n"
     ]
    },
    {
     "name": "stderr",
     "output_type": "stream",
     "text": [
      "100%|███████████████████████████████████████████████████████████████████| 10098/10098 [12:57<00:00, 12.99it/s]\n",
      "100%|█████████████████████████████████████████████████████████████████████| 1277/1277 [00:35<00:00, 36.44it/s]\n"
     ]
    },
    {
     "name": "stdout",
     "output_type": "stream",
     "text": [
      "Epoch: 21 | train_loss: 0.0231 | train_acc: 0.9876 | test_loss: 3.1964 | test_acc: 0.7643\n"
     ]
    },
    {
     "name": "stderr",
     "output_type": "stream",
     "text": [
      "100%|███████████████████████████████████████████████████████████████████| 10098/10098 [12:57<00:00, 12.99it/s]\n",
      "100%|█████████████████████████████████████████████████████████████████████| 1277/1277 [00:34<00:00, 36.55it/s]\n"
     ]
    },
    {
     "name": "stdout",
     "output_type": "stream",
     "text": [
      "Epoch: 22 | train_loss: 0.0233 | train_acc: 0.9878 | test_loss: 1.8077 | test_acc: 0.7918\n"
     ]
    },
    {
     "name": "stderr",
     "output_type": "stream",
     "text": [
      "100%|███████████████████████████████████████████████████████████████████| 10098/10098 [12:56<00:00, 13.00it/s]\n",
      "100%|█████████████████████████████████████████████████████████████████████| 1277/1277 [00:34<00:00, 36.71it/s]\n"
     ]
    },
    {
     "name": "stdout",
     "output_type": "stream",
     "text": [
      "Epoch: 23 | train_loss: 0.0219 | train_acc: 0.9880 | test_loss: 1.9935 | test_acc: 0.7942\n"
     ]
    },
    {
     "name": "stderr",
     "output_type": "stream",
     "text": [
      "100%|███████████████████████████████████████████████████████████████████| 10098/10098 [12:56<00:00, 13.00it/s]\n",
      "100%|█████████████████████████████████████████████████████████████████████| 1277/1277 [00:34<00:00, 36.79it/s]\n"
     ]
    },
    {
     "name": "stdout",
     "output_type": "stream",
     "text": [
      "Epoch: 24 | train_loss: 0.0241 | train_acc: 0.9880 | test_loss: 2.7368 | test_acc: 0.7880\n"
     ]
    },
    {
     "name": "stderr",
     "output_type": "stream",
     "text": [
      "100%|███████████████████████████████████████████████████████████████████| 10098/10098 [12:57<00:00, 12.99it/s]\n",
      "100%|█████████████████████████████████████████████████████████████████████| 1277/1277 [00:35<00:00, 36.43it/s]\n"
     ]
    },
    {
     "name": "stdout",
     "output_type": "stream",
     "text": [
      "Epoch: 25 | train_loss: 0.0227 | train_acc: 0.9878 | test_loss: 5.9784 | test_acc: 0.7607\n"
     ]
    },
    {
     "name": "stderr",
     "output_type": "stream",
     "text": [
      "100%|███████████████████████████████████████████████████████████████████| 10098/10098 [12:58<00:00, 12.98it/s]\n",
      "100%|█████████████████████████████████████████████████████████████████████| 1277/1277 [00:35<00:00, 36.32it/s]\n"
     ]
    },
    {
     "name": "stdout",
     "output_type": "stream",
     "text": [
      "Epoch: 26 | train_loss: 0.0275 | train_acc: 0.9877 | test_loss: 2.0337 | test_acc: 0.7726\n"
     ]
    },
    {
     "name": "stderr",
     "output_type": "stream",
     "text": [
      "100%|███████████████████████████████████████████████████████████████████| 10098/10098 [12:57<00:00, 13.00it/s]\n",
      "100%|█████████████████████████████████████████████████████████████████████| 1277/1277 [00:35<00:00, 36.46it/s]\n"
     ]
    },
    {
     "name": "stdout",
     "output_type": "stream",
     "text": [
      "Epoch: 27 | train_loss: 0.0210 | train_acc: 0.9879 | test_loss: 4.9012 | test_acc: 0.7695\n"
     ]
    },
    {
     "name": "stderr",
     "output_type": "stream",
     "text": [
      "100%|███████████████████████████████████████████████████████████████████| 10098/10098 [13:41<00:00, 12.29it/s]\n",
      "100%|█████████████████████████████████████████████████████████████████████| 1277/1277 [00:40<00:00, 31.53it/s]\n"
     ]
    },
    {
     "name": "stdout",
     "output_type": "stream",
     "text": [
      "Epoch: 28 | train_loss: 0.0228 | train_acc: 0.9880 | test_loss: 6.0443 | test_acc: 0.7540\n"
     ]
    },
    {
     "name": "stderr",
     "output_type": "stream",
     "text": [
      "100%|███████████████████████████████████████████████████████████████████| 10098/10098 [15:56<00:00, 10.56it/s]\n",
      "100%|█████████████████████████████████████████████████████████████████████| 1277/1277 [00:40<00:00, 31.54it/s]\n"
     ]
    },
    {
     "name": "stdout",
     "output_type": "stream",
     "text": [
      "Epoch: 29 | train_loss: 0.0234 | train_acc: 0.9878 | test_loss: 1.9486 | test_acc: 0.7713\n"
     ]
    },
    {
     "name": "stderr",
     "output_type": "stream",
     "text": [
      "100%|███████████████████████████████████████████████████████████████████| 10098/10098 [15:56<00:00, 10.55it/s]\n",
      "100%|█████████████████████████████████████████████████████████████████████| 1277/1277 [00:40<00:00, 31.52it/s]\n"
     ]
    },
    {
     "name": "stdout",
     "output_type": "stream",
     "text": [
      "Epoch: 30 | train_loss: 0.0216 | train_acc: 0.9882 | test_loss: 2.5490 | test_acc: 0.8025\n"
     ]
    },
    {
     "name": "stderr",
     "output_type": "stream",
     "text": [
      "100%|███████████████████████████████████████████████████████████████████| 10098/10098 [15:55<00:00, 10.57it/s]\n",
      "100%|█████████████████████████████████████████████████████████████████████| 1277/1277 [00:40<00:00, 31.56it/s]\n"
     ]
    },
    {
     "name": "stdout",
     "output_type": "stream",
     "text": [
      "Epoch: 31 | train_loss: 0.0218 | train_acc: 0.9880 | test_loss: 5.0130 | test_acc: 0.7782\n"
     ]
    },
    {
     "name": "stderr",
     "output_type": "stream",
     "text": [
      "100%|███████████████████████████████████████████████████████████████████| 10098/10098 [15:56<00:00, 10.56it/s]\n",
      "100%|█████████████████████████████████████████████████████████████████████| 1277/1277 [00:40<00:00, 31.68it/s]\n"
     ]
    },
    {
     "name": "stdout",
     "output_type": "stream",
     "text": [
      "Epoch: 32 | train_loss: 0.0221 | train_acc: 0.9881 | test_loss: 8.7597 | test_acc: 0.7830\n"
     ]
    },
    {
     "name": "stderr",
     "output_type": "stream",
     "text": [
      "100%|███████████████████████████████████████████████████████████████████| 10098/10098 [14:55<00:00, 11.28it/s]\n",
      "100%|█████████████████████████████████████████████████████████████████████| 1277/1277 [00:35<00:00, 35.86it/s]\n"
     ]
    },
    {
     "name": "stdout",
     "output_type": "stream",
     "text": [
      "Epoch: 33 | train_loss: 0.0204 | train_acc: 0.9886 | test_loss: 3.3812 | test_acc: 0.7779\n"
     ]
    },
    {
     "name": "stderr",
     "output_type": "stream",
     "text": [
      "100%|███████████████████████████████████████████████████████████████████| 10098/10098 [15:43<00:00, 10.70it/s]\n",
      "100%|█████████████████████████████████████████████████████████████████████| 1277/1277 [00:40<00:00, 31.72it/s]\n"
     ]
    },
    {
     "name": "stdout",
     "output_type": "stream",
     "text": [
      "Epoch: 34 | train_loss: 0.0219 | train_acc: 0.9888 | test_loss: 6.4175 | test_acc: 0.7938\n"
     ]
    },
    {
     "name": "stderr",
     "output_type": "stream",
     "text": [
      "100%|███████████████████████████████████████████████████████████████████| 10098/10098 [15:50<00:00, 10.63it/s]\n",
      "100%|█████████████████████████████████████████████████████████████████████| 1277/1277 [00:39<00:00, 31.93it/s]\n"
     ]
    },
    {
     "name": "stdout",
     "output_type": "stream",
     "text": [
      "Epoch: 35 | train_loss: 0.0232 | train_acc: 0.9885 | test_loss: 5.2543 | test_acc: 0.8010\n"
     ]
    },
    {
     "name": "stderr",
     "output_type": "stream",
     "text": [
      "100%|███████████████████████████████████████████████████████████████████| 10098/10098 [15:40<00:00, 10.74it/s]\n",
      "100%|█████████████████████████████████████████████████████████████████████| 1277/1277 [00:40<00:00, 31.83it/s]\n"
     ]
    },
    {
     "name": "stdout",
     "output_type": "stream",
     "text": [
      "Epoch: 36 | train_loss: 0.0234 | train_acc: 0.9884 | test_loss: 4.2188 | test_acc: 0.8047\n"
     ]
    },
    {
     "name": "stderr",
     "output_type": "stream",
     "text": [
      "100%|███████████████████████████████████████████████████████████████████| 10098/10098 [15:39<00:00, 10.75it/s]\n",
      "100%|█████████████████████████████████████████████████████████████████████| 1277/1277 [00:40<00:00, 31.82it/s]\n"
     ]
    },
    {
     "name": "stdout",
     "output_type": "stream",
     "text": [
      "Epoch: 37 | train_loss: 0.0211 | train_acc: 0.9885 | test_loss: 2.1298 | test_acc: 0.7662\n"
     ]
    },
    {
     "name": "stderr",
     "output_type": "stream",
     "text": [
      "100%|███████████████████████████████████████████████████████████████████| 10098/10098 [15:50<00:00, 10.63it/s]\n",
      "100%|█████████████████████████████████████████████████████████████████████| 1277/1277 [00:40<00:00, 31.47it/s]\n"
     ]
    },
    {
     "name": "stdout",
     "output_type": "stream",
     "text": [
      "Epoch: 38 | train_loss: 0.0223 | train_acc: 0.9886 | test_loss: 1.7044 | test_acc: 0.7634\n"
     ]
    },
    {
     "name": "stderr",
     "output_type": "stream",
     "text": [
      "100%|███████████████████████████████████████████████████████████████████| 10098/10098 [15:39<00:00, 10.74it/s]\n",
      "100%|█████████████████████████████████████████████████████████████████████| 1277/1277 [00:39<00:00, 32.34it/s]\n"
     ]
    },
    {
     "name": "stdout",
     "output_type": "stream",
     "text": [
      "Epoch: 39 | train_loss: 0.0215 | train_acc: 0.9881 | test_loss: 2.5019 | test_acc: 0.7831\n"
     ]
    },
    {
     "name": "stderr",
     "output_type": "stream",
     "text": [
      "100%|███████████████████████████████████████████████████████████████████| 10098/10098 [15:10<00:00, 11.10it/s]\n",
      "100%|█████████████████████████████████████████████████████████████████████| 1277/1277 [00:39<00:00, 32.71it/s]\n"
     ]
    },
    {
     "name": "stdout",
     "output_type": "stream",
     "text": [
      "Epoch: 40 | train_loss: 0.0234 | train_acc: 0.9882 | test_loss: 11.4183 | test_acc: 0.7821\n",
      "Confusion matrix: \n",
      "[[4729  129  932  475]\n",
      " [  27 3348  138    0]\n",
      " [1525  406 4697   28]\n",
      " [  37    0   41 3534]]\n",
      "Precision: 0.8112865470760326\n",
      "Recall: 0.8135288835677941\n",
      "F1 score: 0.8103260795304106\n"
     ]
    },
    {
     "data": {
      "image/png": "[encoded data removed]",
      "text/plain": [
       "<Figure size 1500x700 with 2 Axes>"
      ]
     },
     "metadata": {},
     "output_type": "display_data"
    },
    {
     "data": {
      "image/png": "[encoded data removed]",
      "text/plain": [
       "<Figure size 1500x700 with 2 Axes>"
      ]
     },
     "metadata": {},
     "output_type": "display_data"
    },
    {
     "data": {
      "image/png": "[encoded data removed]",
      "text/plain": [
       "<Figure size 1500x700 with 2 Axes>"
      ]
     },
     "metadata": {},
     "output_type": "display_data"
    },
    {
     "data": {
      "image/png": "[encoded data removed]",
      "text/plain": [
       "<Figure size 1500x700 with 2 Axes>"
      ]
     },
     "metadata": {},
     "output_type": "display_data"
    },
    {
     "data": {
      "image/png": "[encoded data removed]",
      "text/plain": [
       "<Figure size 1500x700 with 2 Axes>"
      ]
     },
     "metadata": {},
     "output_type": "display_data"
    }
   ],
   "source": [
    "features = [item[1] for item in class_labels]\n",
    "labels = [item[0] for item in class_labels]\n",
    "num_folds = 5\n",
    "kfold = StratifiedKFold(n_splits=num_folds, shuffle=True, random_state=42)\n",
    "kfold.split(features, labels)\n",
    "\n",
    "average_validation_accuracy = []\n",
    "for train_indices, test_indices in kfold.split(features, labels):\n",
    "    train_data = [(labels[i], features[i]) for i in train_indices]\n",
    "    test_datas = [(labels[i], features[i]) for i in test_indices]\n",
    "    #print(train_indices)\n",
    "    num_fold = 2\n",
    "    test_features = [item[1] for item in test_datas]\n",
    "    test_labels = [item[0] for item in test_datas]\n",
    "    kfold_test = StratifiedKFold(n_splits=num_fold, shuffle=True, random_state=42)\n",
    "    for val_indice, test_indice in kfold_test.split(test_features, test_labels):\n",
    "        val_data = [(test_labels[i], test_features[i]) for i in val_indice]\n",
    "        test_data = [(test_labels[i], test_features[i]) for i in test_indice]\n",
    "\n",
    "    # For getting the value address of train image\n",
    "    new_train_value=[]\n",
    "    for room in train_data:\n",
    "        photo = os.listdir(room[1])\n",
    "        for image in photo:\n",
    "            new_train_value.append((room[0],str(room[1] +'/' +image)))\n",
    "\n",
    "    #Creating the Dataframe for Train\n",
    "    train_df= pd.DataFrame(data=new_train_value, columns=['labels', 'filepaths'])\n",
    "\n",
    "    # For getting the value address of test image\n",
    "    new_test_value=[]\n",
    "    for room in test_data:\n",
    "        photo = os.listdir(room[1])\n",
    "        for image in photo:\n",
    "            new_test_value.append((room[0],str(room[1] +'/' +image)))\n",
    "\n",
    "    #Creating the Dataframe for Testing\n",
    "    test_df= pd.DataFrame(data=new_test_value, columns=['labels', 'filepaths'])\n",
    "\n",
    "    # For getting the value address of Validation image\n",
    "    new_val_value=[]\n",
    "    for room in val_data:\n",
    "        photo = os.listdir(room[1])\n",
    "        for image in photo:\n",
    "            new_val_value.append((room[0],str(room[1] +'/' +image)))\n",
    "\n",
    "    #Creating the Dataframe for Validation\n",
    "    val_df= pd.DataFrame(data=new_val_value, columns=['labels', 'filepaths'])\n",
    "\n",
    "\n",
    "#############################################################################################################################################\n",
    "    # Create data loaders\n",
    "    train_gen, test_gen, valid_gen, class_names = create_dataloaders(\n",
    "        train_df=train_df,\n",
    "        test_df=test_df,\n",
    "        val_df=val_df,\n",
    "        batch_size=BATCH_SIZE\n",
    "    )\n",
    "\n",
    "    train_gen, test_gen, valid_gen, class_names\n",
    "    classes=labels\n",
    "    class_count=len(classes)\n",
    "\n",
    "\n",
    "#############################################################################################################################################\n",
    "\n",
    "    # Setup the optimizer to optimize our ViT model parameters using hyperparameters from the ViT paper\n",
    "    model = CViT(image_size=49, patch_size=7, num_classes=4, channels=512,\n",
    "            dim=1024, depth=6, heads=8, mlp_dim=2048)\n",
    "    model.to(device)\n",
    "    optimizer = torch.optim.Adam(model.parameters(),lr=LR)\n",
    "\n",
    "    # Setup the loss function for multi-class classification\n",
    "    loss_fn = torch.nn.CrossEntropyLoss()\n",
    "\n",
    "    # Set the seeds\n",
    "    #set_seeds()\n",
    "    # Train the model and save the training results to a dictionary\n",
    "    model_results = engine.train(model=model,\n",
    "                           train_dataloader=train_gen,\n",
    "                           valid_dataloader=valid_gen,\n",
    "                           optimizer=optimizer,\n",
    "                           loss_fn=loss_fn,\n",
    "                           epochs=EPOCHS,\n",
    "                           device=device)\n",
    "    average_validation_accuracy.append(model_results[\"test_acc\"])\n",
    "\n",
    "##############################################################################################################################################\n",
    "    # we can use the plot_loss_curves function from helper_functions.py\n",
    "    # Plot our ViT model's loss curves\n",
    "    plot_loss_curves(model_results)\n",
    "\n",
    "\n",
    "#############################################################################################################################################\n",
    "    # EVALUATION\n",
    "    model.eval()\n",
    "    y_true=[]\n",
    "    y_pred=[]\n",
    "    for _,(image, label) in enumerate(test_gen):\n",
    "        y_true.extend(label.cpu().numpy())\n",
    "        prediction =torch.argmax(torch.softmax(model(image.to(device)),dim=1),dim=1)\n",
    "        prediction=prediction.cpu().numpy()\n",
    "        y_pred.extend(prediction)\n",
    "\n",
    "\n",
    "    #confusion matrix\n",
    "    from sklearn.metrics import confusion_matrix\n",
    "    cm = confusion_matrix(y_true, y_pred)\n",
    "    print(f\"Confusion matrix: \\n{cm}\")\n",
    "\n",
    "    #Metrics\n",
    "\n",
    "    from sklearn.metrics import precision_score, recall_score, f1_score\n",
    "    precision = precision_score(y_true, y_pred, average='weighted')\n",
    "    recall = recall_score(y_true, y_pred, average='weighted')\n",
    "    f1 = f1_score(y_true, y_pred, average='weighted')\n",
    "\n",
    "    print(f\"Precision: {precision}\")\n",
    "    print(f\"Recall: {recall}\")\n",
    "    print(f\"F1 score: {f1}\")\n",
    "\n"
   ]
  },
  {
   "cell_type": "markdown",
   "metadata": {
    "id": "i3BKFbCTYS9a"
   },
   "source": [
    "-----------------------------DONE---------------------------------------"
   ]
  },
  {
   "cell_type": "code",
   "execution_count": 24,
   "metadata": {
    "id": "GMciJL7LWrQR"
   },
   "outputs": [],
   "source": [
    "def test(model):\n",
    "    model.eval()\n",
    "\n",
    "    Sum = 0\n",
    "    for inputs, labels in test_gen:\n",
    "        inputs = inputs.to(device)\n",
    "        labels = labels.to(device)\n",
    "        output = model(inputs).to(device).float()\n",
    "\n",
    "        _,prediction = torch.max(output,1)\n",
    "\n",
    "        pred_label = labels[prediction]\n",
    "        pred_label = pred_label.detach().cpu().numpy()\n",
    "        main_label = labels.detach().cpu().numpy()\n",
    "        bool_list  = list(map(lambda x, y: x == y, pred_label, main_label))\n",
    "        Sum += sum(np.array(bool_list)*1)\n",
    "\n",
    "    print('Prediction: ', (Sum/len(test_gen.dataset)*100,'%'))"
   ]
  },
  {
   "cell_type": "code",
   "execution_count": 25,
   "metadata": {
    "id": "ID88SAb3YRjK"
   },
   "outputs": [
    {
     "name": "stdout",
     "output_type": "stream",
     "text": [
      "Prediction:  (99.96508031527486, '%')\n"
     ]
    }
   ],
   "source": [
    "test(model)"
   ]
  },
  {
   "cell_type": "code",
   "execution_count": 31,
   "metadata": {},
   "outputs": [
    {
     "name": "stdout",
     "output_type": "stream",
     "text": [
      "Test Accuracy: 81.35%\n"
     ]
    }
   ],
   "source": [
    "# TESTING\n",
    "test_losses = []\n",
    "test_accuracies = []\n",
    "# f_dataloader=test_gen\n",
    "all_preds = []\n",
    "all_labels = []\n",
    "model.eval()\n",
    "total_test_loss = 0.0\n",
    "correct_test = 0\n",
    "criterion= nn.CrossEntropyLoss()\n",
    "with torch.no_grad():\n",
    "    for images, labels in f_dataloader:\n",
    "        images, labels = images.to(device), labels.to(device)\n",
    "        outputs = model(images)\n",
    "        test_loss = criterion(outputs, labels)\n",
    "        total_test_loss += test_loss.item() * images.size(0)\n",
    "        pred = outputs.argmax(dim=1, keepdim=True)\n",
    "        correct_test += pred.eq(labels.view_as(pred)).sum().item()\n",
    "        # Gather predictions and true labels for confusion matrix\n",
    "        all_preds.extend(pred.cpu().numpy())\n",
    "        all_labels.extend(labels.cpu().numpy())\n",
    "\n",
    "average_test_loss = total_test_loss / len(f_dataloader.dataset)\n",
    "test_losses.append(average_test_loss)\n",
    "test_accuracies.append(100. * correct_test / len(f_dataloader.dataset))\n",
    "print(\"Test Accuracy: {:.2f}%\".format(test_accuracies[-1]))"
   ]
  },
  {
   "cell_type": "code",
   "execution_count": 34,
   "metadata": {},
   "outputs": [
    {
     "name": "stdout",
     "output_type": "stream",
     "text": [
      "Confusion Matrix:\n",
      "[]\n"
     ]
    },
    {
     "ename": "ValueError",
     "evalue": "max() arg is an empty sequence",
     "output_type": "error",
     "traceback": [
      "\u001b[0;31m---------------------------------------------------------------------------\u001b[0m",
      "\u001b[0;31mValueError\u001b[0m                                Traceback (most recent call last)",
      "Cell \u001b[0;32mIn[34], line 7\u001b[0m\n\u001b[1;32m      5\u001b[0m \u001b[38;5;28mprint\u001b[39m(conf_matrix)\n\u001b[1;32m      6\u001b[0m \u001b[38;5;66;03m# Classification Report\u001b[39;00m\n\u001b[0;32m----> 7\u001b[0m class_report \u001b[38;5;241m=\u001b[39m \u001b[43mclassification_report\u001b[49m\u001b[43m(\u001b[49m\u001b[43mall_labels\u001b[49m\u001b[43m,\u001b[49m\u001b[43m \u001b[49m\u001b[43mall_preds\u001b[49m\u001b[43m)\u001b[49m\n\u001b[1;32m      8\u001b[0m \u001b[38;5;28mprint\u001b[39m(\u001b[38;5;124m\"\u001b[39m\u001b[38;5;124mClassification Report:\u001b[39m\u001b[38;5;124m\"\u001b[39m)\n\u001b[1;32m      9\u001b[0m \u001b[38;5;28mprint\u001b[39m(class_report)\n",
      "File \u001b[0;32m~/graspenv/lib/python3.10/site-packages/sklearn/utils/_param_validation.py:213\u001b[0m, in \u001b[0;36mvalidate_params.<locals>.decorator.<locals>.wrapper\u001b[0;34m(*args, **kwargs)\u001b[0m\n\u001b[1;32m    207\u001b[0m \u001b[38;5;28;01mtry\u001b[39;00m:\n\u001b[1;32m    208\u001b[0m     \u001b[38;5;28;01mwith\u001b[39;00m config_context(\n\u001b[1;32m    209\u001b[0m         skip_parameter_validation\u001b[38;5;241m=\u001b[39m(\n\u001b[1;32m    210\u001b[0m             prefer_skip_nested_validation \u001b[38;5;129;01mor\u001b[39;00m global_skip_validation\n\u001b[1;32m    211\u001b[0m         )\n\u001b[1;32m    212\u001b[0m     ):\n\u001b[0;32m--> 213\u001b[0m         \u001b[38;5;28;01mreturn\u001b[39;00m \u001b[43mfunc\u001b[49m\u001b[43m(\u001b[49m\u001b[38;5;241;43m*\u001b[39;49m\u001b[43margs\u001b[49m\u001b[43m,\u001b[49m\u001b[43m \u001b[49m\u001b[38;5;241;43m*\u001b[39;49m\u001b[38;5;241;43m*\u001b[39;49m\u001b[43mkwargs\u001b[49m\u001b[43m)\u001b[49m\n\u001b[1;32m    214\u001b[0m \u001b[38;5;28;01mexcept\u001b[39;00m InvalidParameterError \u001b[38;5;28;01mas\u001b[39;00m e:\n\u001b[1;32m    215\u001b[0m     \u001b[38;5;66;03m# When the function is just a wrapper around an estimator, we allow\u001b[39;00m\n\u001b[1;32m    216\u001b[0m     \u001b[38;5;66;03m# the function to delegate validation to the estimator, but we replace\u001b[39;00m\n\u001b[1;32m    217\u001b[0m     \u001b[38;5;66;03m# the name of the estimator by the name of the function in the error\u001b[39;00m\n\u001b[1;32m    218\u001b[0m     \u001b[38;5;66;03m# message to avoid confusion.\u001b[39;00m\n\u001b[1;32m    219\u001b[0m     msg \u001b[38;5;241m=\u001b[39m re\u001b[38;5;241m.\u001b[39msub(\n\u001b[1;32m    220\u001b[0m         \u001b[38;5;124mr\u001b[39m\u001b[38;5;124m\"\u001b[39m\u001b[38;5;124mparameter of \u001b[39m\u001b[38;5;124m\\\u001b[39m\u001b[38;5;124mw+ must be\u001b[39m\u001b[38;5;124m\"\u001b[39m,\n\u001b[1;32m    221\u001b[0m         \u001b[38;5;124mf\u001b[39m\u001b[38;5;124m\"\u001b[39m\u001b[38;5;124mparameter of \u001b[39m\u001b[38;5;132;01m{\u001b[39;00mfunc\u001b[38;5;241m.\u001b[39m\u001b[38;5;18m__qualname__\u001b[39m\u001b[38;5;132;01m}\u001b[39;00m\u001b[38;5;124m must be\u001b[39m\u001b[38;5;124m\"\u001b[39m,\n\u001b[1;32m    222\u001b[0m         \u001b[38;5;28mstr\u001b[39m(e),\n\u001b[1;32m    223\u001b[0m     )\n",
      "File \u001b[0;32m~/graspenv/lib/python3.10/site-packages/sklearn/metrics/_classification.py:2657\u001b[0m, in \u001b[0;36mclassification_report\u001b[0;34m(y_true, y_pred, labels, target_names, sample_weight, digits, output_dict, zero_division)\u001b[0m\n\u001b[1;32m   2655\u001b[0m \u001b[38;5;28;01melse\u001b[39;00m:\n\u001b[1;32m   2656\u001b[0m     longest_last_line_heading \u001b[38;5;241m=\u001b[39m \u001b[38;5;124m\"\u001b[39m\u001b[38;5;124mweighted avg\u001b[39m\u001b[38;5;124m\"\u001b[39m\n\u001b[0;32m-> 2657\u001b[0m     name_width \u001b[38;5;241m=\u001b[39m \u001b[38;5;28;43mmax\u001b[39;49m\u001b[43m(\u001b[49m\u001b[38;5;28;43mlen\u001b[39;49m\u001b[43m(\u001b[49m\u001b[43mcn\u001b[49m\u001b[43m)\u001b[49m\u001b[43m \u001b[49m\u001b[38;5;28;43;01mfor\u001b[39;49;00m\u001b[43m \u001b[49m\u001b[43mcn\u001b[49m\u001b[43m \u001b[49m\u001b[38;5;129;43;01min\u001b[39;49;00m\u001b[43m \u001b[49m\u001b[43mtarget_names\u001b[49m\u001b[43m)\u001b[49m\n\u001b[1;32m   2658\u001b[0m     width \u001b[38;5;241m=\u001b[39m \u001b[38;5;28mmax\u001b[39m(name_width, \u001b[38;5;28mlen\u001b[39m(longest_last_line_heading), digits)\n\u001b[1;32m   2659\u001b[0m     head_fmt \u001b[38;5;241m=\u001b[39m \u001b[38;5;124m\"\u001b[39m\u001b[38;5;124m{\u001b[39m\u001b[38;5;124m:>\u001b[39m\u001b[38;5;132;01m{width}\u001b[39;00m\u001b[38;5;124ms} \u001b[39m\u001b[38;5;124m\"\u001b[39m \u001b[38;5;241m+\u001b[39m \u001b[38;5;124m\"\u001b[39m\u001b[38;5;124m \u001b[39m\u001b[38;5;132;01m{:>9}\u001b[39;00m\u001b[38;5;124m\"\u001b[39m \u001b[38;5;241m*\u001b[39m \u001b[38;5;28mlen\u001b[39m(headers)\n",
      "\u001b[0;31mValueError\u001b[0m: max() arg is an empty sequence"
     ]
    }
   ],
   "source": [
    "from sklearn.metrics import confusion_matrix, classification_report\n",
    "# Confusion Matrix\n",
    "conf_matrix = confusion_matrix(all_labels, all_preds)\n",
    "print(\"Confusion Matrix:\")\n",
    "print(conf_matrix)\n",
    "# Classification Report\n",
    "class_report = classification_report(all_labels, all_preds)\n",
    "print(\"Classification Report:\")\n",
    "print(class_report)"
   ]
  },
  {
   "cell_type": "code",
   "execution_count": 35,
   "metadata": {},
   "outputs": [
    {
     "name": "stdout",
     "output_type": "stream",
     "text": [
      "torch                        2.2.0\r\n",
      "torchaudio                   2.2.0+cu118\r\n",
      "torchinfo                    1.8.0\r\n",
      "torchvision                  0.17.0+cu118\r\n"
     ]
    }
   ],
   "source": [
    "!pip list | grep torch"
   ]
  },
  {
   "cell_type": "code",
   "execution_count": null,
   "metadata": {},
   "outputs": [],
   "source": []
  }
 ],
 "metadata": {
  "accelerator": "GPU",
  "colab": {
   "gpuType": "T4",
   "provenance": []
  },
  "kernelspec": {
   "display_name": "graspenv",
   "language": "python",
   "name": "graspenv"
  },
  "language_info": {
   "codemirror_mode": {
    "name": "ipython",
    "version": 3
   },
   "file_extension": ".py",
   "mimetype": "text/x-python",
   "name": "python",
   "nbconvert_exporter": "python",
   "pygments_lexer": "ipython3",
   "version": "3.10.12"
  },
  "widgets": {
   "application/vnd.jupyter.widget-state+json": {
    "68cd9ab44b52456996c5069126433eb6": {
     "model_module": "@jupyter-widgets/controls",
     "model_module_version": "1.5.0",
     "model_name": "ProgressStyleModel",
     "state": {
      "_model_module": "@jupyter-widgets/controls",
      "_model_module_version": "1.5.0",
      "_model_name": "ProgressStyleModel",
      "_view_count": null,
      "_view_module": "@jupyter-widgets/base",
      "_view_module_version": "1.2.0",
      "_view_name": "StyleView",
      "bar_color": null,
      "description_width": ""
     }
    },
    "7537983fe8d1404c9a763080ae4ab5cf": {
     "model_module": "@jupyter-widgets/controls",
     "model_module_version": "1.5.0",
     "model_name": "HTMLModel",
     "state": {
      "_dom_classes": [],
      "_model_module": "@jupyter-widgets/controls",
      "_model_module_version": "1.5.0",
      "_model_name": "HTMLModel",
      "_view_count": null,
      "_view_module": "@jupyter-widgets/controls",
      "_view_module_version": "1.5.0",
      "_view_name": "HTMLView",
      "description": "",
      "description_tooltip": null,
      "layout": "IPY_MODEL_dcbf66813e304f1daf2c38a4e34cae06",
      "placeholder": "​",
      "style": "IPY_MODEL_e9619f297edd469e94e98e0edb0d8789",
      "value": "  5%"
     }
    },
    "7f28401be0874ecc87506f224d36505e": {
     "model_module": "@jupyter-widgets/controls",
     "model_module_version": "1.5.0",
     "model_name": "HTMLModel",
     "state": {
      "_dom_classes": [],
      "_model_module": "@jupyter-widgets/controls",
      "_model_module_version": "1.5.0",
      "_model_name": "HTMLModel",
      "_view_count": null,
      "_view_module": "@jupyter-widgets/controls",
      "_view_module_version": "1.5.0",
      "_view_name": "HTMLView",
      "description": "",
      "description_tooltip": null,
      "layout": "IPY_MODEL_c12a054199244410bf85400281ec61c6",
      "placeholder": "​",
      "style": "IPY_MODEL_a68af7494281409da16a29317d0bd33c",
      "value": " 2/40 [1:44:03&lt;32:54:40, 3117.92s/it]"
     }
    },
    "a2083115b49b4887a62d2c85d4cabf87": {
     "model_module": "@jupyter-widgets/base",
     "model_module_version": "1.2.0",
     "model_name": "LayoutModel",
     "state": {
      "_model_module": "@jupyter-widgets/base",
      "_model_module_version": "1.2.0",
      "_model_name": "LayoutModel",
      "_view_count": null,
      "_view_module": "@jupyter-widgets/base",
      "_view_module_version": "1.2.0",
      "_view_name": "LayoutView",
      "align_content": null,
      "align_items": null,
      "align_self": null,
      "border": null,
      "bottom": null,
      "display": null,
      "flex": null,
      "flex_flow": null,
      "grid_area": null,
      "grid_auto_columns": null,
      "grid_auto_flow": null,
      "grid_auto_rows": null,
      "grid_column": null,
      "grid_gap": null,
      "grid_row": null,
      "grid_template_areas": null,
      "grid_template_columns": null,
      "grid_template_rows": null,
      "height": null,
      "justify_content": null,
      "justify_items": null,
      "left": null,
      "margin": null,
      "max_height": null,
      "max_width": null,
      "min_height": null,
      "min_width": null,
      "object_fit": null,
      "object_position": null,
      "order": null,
      "overflow": null,
      "overflow_x": null,
      "overflow_y": null,
      "padding": null,
      "right": null,
      "top": null,
      "visibility": null,
      "width": null
     }
    },
    "a68af7494281409da16a29317d0bd33c": {
     "model_module": "@jupyter-widgets/controls",
     "model_module_version": "1.5.0",
     "model_name": "DescriptionStyleModel",
     "state": {
      "_model_module": "@jupyter-widgets/controls",
      "_model_module_version": "1.5.0",
      "_model_name": "DescriptionStyleModel",
      "_view_count": null,
      "_view_module": "@jupyter-widgets/base",
      "_view_module_version": "1.2.0",
      "_view_name": "StyleView",
      "description_width": ""
     }
    },
    "c12a054199244410bf85400281ec61c6": {
     "model_module": "@jupyter-widgets/base",
     "model_module_version": "1.2.0",
     "model_name": "LayoutModel",
     "state": {
      "_model_module": "@jupyter-widgets/base",
      "_model_module_version": "1.2.0",
      "_model_name": "LayoutModel",
      "_view_count": null,
      "_view_module": "@jupyter-widgets/base",
      "_view_module_version": "1.2.0",
      "_view_name": "LayoutView",
      "align_content": null,
      "align_items": null,
      "align_self": null,
      "border": null,
      "bottom": null,
      "display": null,
      "flex": null,
      "flex_flow": null,
      "grid_area": null,
      "grid_auto_columns": null,
      "grid_auto_flow": null,
      "grid_auto_rows": null,
      "grid_column": null,
      "grid_gap": null,
      "grid_row": null,
      "grid_template_areas": null,
      "grid_template_columns": null,
      "grid_template_rows": null,
      "height": null,
      "justify_content": null,
      "justify_items": null,
      "left": null,
      "margin": null,
      "max_height": null,
      "max_width": null,
      "min_height": null,
      "min_width": null,
      "object_fit": null,
      "object_position": null,
      "order": null,
      "overflow": null,
      "overflow_x": null,
      "overflow_y": null,
      "padding": null,
      "right": null,
      "top": null,
      "visibility": null,
      "width": null
     }
    },
    "dcbf66813e304f1daf2c38a4e34cae06": {
     "model_module": "@jupyter-widgets/base",
     "model_module_version": "1.2.0",
     "model_name": "LayoutModel",
     "state": {
      "_model_module": "@jupyter-widgets/base",
      "_model_module_version": "1.2.0",
      "_model_name": "LayoutModel",
      "_view_count": null,
      "_view_module": "@jupyter-widgets/base",
      "_view_module_version": "1.2.0",
      "_view_name": "LayoutView",
      "align_content": null,
      "align_items": null,
      "align_self": null,
      "border": null,
      "bottom": null,
      "display": null,
      "flex": null,
      "flex_flow": null,
      "grid_area": null,
      "grid_auto_columns": null,
      "grid_auto_flow": null,
      "grid_auto_rows": null,
      "grid_column": null,
      "grid_gap": null,
      "grid_row": null,
      "grid_template_areas": null,
      "grid_template_columns": null,
      "grid_template_rows": null,
      "height": null,
      "justify_content": null,
      "justify_items": null,
      "left": null,
      "margin": null,
      "max_height": null,
      "max_width": null,
      "min_height": null,
      "min_width": null,
      "object_fit": null,
      "object_position": null,
      "order": null,
      "overflow": null,
      "overflow_x": null,
      "overflow_y": null,
      "padding": null,
      "right": null,
      "top": null,
      "visibility": null,
      "width": null
     }
    },
    "e9619f297edd469e94e98e0edb0d8789": {
     "model_module": "@jupyter-widgets/controls",
     "model_module_version": "1.5.0",
     "model_name": "DescriptionStyleModel",
     "state": {
      "_model_module": "@jupyter-widgets/controls",
      "_model_module_version": "1.5.0",
      "_model_name": "DescriptionStyleModel",
      "_view_count": null,
      "_view_module": "@jupyter-widgets/base",
      "_view_module_version": "1.2.0",
      "_view_name": "StyleView",
      "description_width": ""
     }
    },
    "ebe4b122e9b14546b24762abd6286272": {
     "model_module": "@jupyter-widgets/controls",
     "model_module_version": "1.5.0",
     "model_name": "FloatProgressModel",
     "state": {
      "_dom_classes": [],
      "_model_module": "@jupyter-widgets/controls",
      "_model_module_version": "1.5.0",
      "_model_name": "FloatProgressModel",
      "_view_count": null,
      "_view_module": "@jupyter-widgets/controls",
      "_view_module_version": "1.5.0",
      "_view_name": "ProgressView",
      "bar_style": "",
      "description": "",
      "description_tooltip": null,
      "layout": "IPY_MODEL_efd3091e0f59412d924650048153f033",
      "max": 40,
      "min": 0,
      "orientation": "horizontal",
      "style": "IPY_MODEL_68cd9ab44b52456996c5069126433eb6",
      "value": 2
     }
    },
    "efd3091e0f59412d924650048153f033": {
     "model_module": "@jupyter-widgets/base",
     "model_module_version": "1.2.0",
     "model_name": "LayoutModel",
     "state": {
      "_model_module": "@jupyter-widgets/base",
      "_model_module_version": "1.2.0",
      "_model_name": "LayoutModel",
      "_view_count": null,
      "_view_module": "@jupyter-widgets/base",
      "_view_module_version": "1.2.0",
      "_view_name": "LayoutView",
      "align_content": null,
      "align_items": null,
      "align_self": null,
      "border": null,
      "bottom": null,
      "display": null,
      "flex": null,
      "flex_flow": null,
      "grid_area": null,
      "grid_auto_columns": null,
      "grid_auto_flow": null,
      "grid_auto_rows": null,
      "grid_column": null,
      "grid_gap": null,
      "grid_row": null,
      "grid_template_areas": null,
      "grid_template_columns": null,
      "grid_template_rows": null,
      "height": null,
      "justify_content": null,
      "justify_items": null,
      "left": null,
      "margin": null,
      "max_height": null,
      "max_width": null,
      "min_height": null,
      "min_width": null,
      "object_fit": null,
      "object_position": null,
      "order": null,
      "overflow": null,
      "overflow_x": null,
      "overflow_y": null,
      "padding": null,
      "right": null,
      "top": null,
      "visibility": null,
      "width": null
     }
    },
    "fae333f66817476481457ab1d42f128b": {
     "model_module": "@jupyter-widgets/controls",
     "model_module_version": "1.5.0",
     "model_name": "HBoxModel",
     "state": {
      "_dom_classes": [],
      "_model_module": "@jupyter-widgets/controls",
      "_model_module_version": "1.5.0",
      "_model_name": "HBoxModel",
      "_view_count": null,
      "_view_module": "@jupyter-widgets/controls",
      "_view_module_version": "1.5.0",
      "_view_name": "HBoxView",
      "box_style": "",
      "children": [
       "IPY_MODEL_7537983fe8d1404c9a763080ae4ab5cf",
       "IPY_MODEL_ebe4b122e9b14546b24762abd6286272",
       "IPY_MODEL_7f28401be0874ecc87506f224d36505e"
      ],
      "layout": "IPY_MODEL_a2083115b49b4887a62d2c85d4cabf87"
     }
    }
   }
  }
 },
 "nbformat": 4,
 "nbformat_minor": 1
}
